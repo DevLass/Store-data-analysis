{
 "cells": [
  {
   "cell_type": "markdown",
   "metadata": {
    "application/vnd.databricks.v1+cell": {
     "cellMetadata": {
      "byteLimit": 2048000,
      "rowLimit": 10000
     },
     "inputWidgets": {},
     "nuid": "96816ed7-b08a-4ca3-abb9-f99880c3535d",
     "showTitle": false,
     "title": ""
    }
   },
   "source": [
    "\n",
    "## Overview\n",
    "\n",
    "This notebook will show you how to create and query a table or DataFrame that you uploaded to DBFS. [DBFS](https://docs.databricks.com/user-guide/dbfs-databricks-file-system.html) is a Databricks File System that allows you to store data for querying inside of Databricks. This notebook assumes that you have a file already inside of DBFS that you would like to read from.\n",
    "\n",
    "This notebook is written in **Python** so the default cell type is Python. However, you can use different languages by using the `%LANGUAGE` syntax. Python, Scala, SQL, and R are all supported."
   ]
  },
  {
   "cell_type": "code",
   "execution_count": 0,
   "metadata": {
    "application/vnd.databricks.v1+cell": {
     "cellMetadata": {
      "byteLimit": 2048000,
      "rowLimit": 10000
     },
     "inputWidgets": {},
     "nuid": "6482be4c-f067-47c9-b0ac-35c938b94601",
     "showTitle": false,
     "title": ""
    }
   },
   "outputs": [
    {
     "output_type": "display_data",
     "data": {
      "text/html": [
       "<style scoped>\n",
       "  .table-result-container {\n",
       "    max-height: 300px;\n",
       "    overflow: auto;\n",
       "  }\n",
       "  table, th, td {\n",
       "    border: 1px solid black;\n",
       "    border-collapse: collapse;\n",
       "  }\n",
       "  th, td {\n",
       "    padding: 5px;\n",
       "  }\n",
       "  th {\n",
       "    text-align: left;\n",
       "  }\n",
       "</style><div class='table-result-container'><table class='table-result'><thead style='background-color: white'><tr><th>Order ID</th><th>Date</th><th>Product Category</th><th>Product Name</th><th>Units Sold</th><th>Unit Price</th><th>Total Revenue</th><th>Region</th><th>Payment Method</th></tr></thead><tbody><tr><td>10100</td><td>4/9/2024</td><td>Books</td><td>The Power of Now by Eckhart Tolle</td><td>2</td><td>$13</td><td>$26</td><td>North America</td><td>Credit Card</td></tr><tr><td>10101</td><td>4/10/2024</td><td>Beauty Products</td><td>Kiehl's Midnight Recovery Concentrate</td><td>1</td><td>$82</td><td>$82</td><td>Europe</td><td>PayPal</td></tr><tr><td>10102</td><td>4/11/2024</td><td>Sports</td><td>Under Armour HOVR Sonic 4 Shoes</td><td>2</td><td>$110</td><td>$220</td><td>Asia</td><td>Credit Card</td></tr><tr><td>10103</td><td>4/12/2024</td><td>Electronics</td><td>Canon EOS R5 Camera</td><td>1</td><td>$3.900</td><td>$3.900</td><td>North America</td><td>Credit Card</td></tr><tr><td>10104</td><td>4/13/2024</td><td>Home Appliances</td><td>Shark IQ Robot Vacuum</td><td>2</td><td>$350</td><td>$700</td><td>Europe</td><td>PayPal</td></tr><tr><td>10105</td><td>4/14/2024</td><td>Clothing</td><td>H&M Slim Fit Jeans</td><td>3</td><td>$40</td><td>$120</td><td>Asia</td><td>Debit Card</td></tr><tr><td>10106</td><td>4/15/2024</td><td>Books</td><td>The Girl on the Train by Paula Hawkins</td><td>4</td><td>$11</td><td>$44</td><td>North America</td><td>Credit Card</td></tr><tr><td>10107</td><td>4/16/2024</td><td>Beauty Products</td><td>The Ordinary Niacinamide Serum</td><td>1</td><td>$7</td><td>$7</td><td>Asia</td><td>PayPal</td></tr><tr><td>10108</td><td>4/17/2024</td><td>Sports</td><td>Bowflex SelectTech 552 Dumbbells</td><td>1</td><td>$400</td><td>$400</td><td>Asia</td><td>Credit Card</td></tr><tr><td>10109</td><td>4/18/2024</td><td>Electronics</td><td>Google Nest Hub Max</td><td>2</td><td>$230</td><td>$460</td><td>North America</td><td>Credit Card</td></tr><tr><td>10110</td><td>4/19/2024</td><td>Home Appliances</td><td>Cuisinart Griddler Deluxe</td><td>1</td><td>$160</td><td>$160</td><td>Europe</td><td>PayPal</td></tr><tr><td>10111</td><td>4/20/2024</td><td>Clothing</td><td>Old Navy Relaxed-Fit T-Shirt</td><td>4</td><td>$15</td><td>$60</td><td>Asia</td><td>Debit Card</td></tr><tr><td>10112</td><td>4/21/2024</td><td>Books</td><td>Sapiens: A Brief History of Humankind by Yuval Noah Harari</td><td>2</td><td>$19</td><td>$38</td><td>North America</td><td>Credit Card</td></tr><tr><td>10113</td><td>4/22/2024</td><td>Beauty Products</td><td>Biore UV Aqua Rich Watery Essence Sunscreen</td><td>1</td><td>$15</td><td>$15</td><td>Europe</td><td>PayPal</td></tr><tr><td>10114</td><td>4/23/2024</td><td>Sports</td><td>Fitbit Versa 3</td><td>3</td><td>$230</td><td>$690</td><td>Asia</td><td>Credit Card</td></tr><tr><td>10115</td><td>4/24/2024</td><td>Electronics</td><td>Amazon Echo Show 10</td><td>1</td><td>$250</td><td>$250</td><td>North America</td><td>Credit Card</td></tr><tr><td>10116</td><td>4/25/2024</td><td>Home Appliances</td><td>Breville Smart Grill</td><td>2</td><td>$300</td><td>$600</td><td>Europe</td><td>PayPal</td></tr><tr><td>10117</td><td>4/26/2024</td><td>Clothing</td><td>Gap High Rise Skinny Jeans</td><td>3</td><td>$50</td><td>$150</td><td>Asia</td><td>Debit Card</td></tr><tr><td>10118</td><td>4/27/2024</td><td>Books</td><td>Atomic Habits by James Clear</td><td>4</td><td>$17</td><td>$68</td><td>North America</td><td>Credit Card</td></tr><tr><td>10119</td><td>4/28/2024</td><td>Beauty Products</td><td>CeraVe Hydrating Facial Cleanser</td><td>2</td><td>$15</td><td>$30</td><td>Europe</td><td>PayPal</td></tr><tr><td>10120</td><td>4/29/2024</td><td>Sports</td><td>YETI Hopper Flip Portable Cooler</td><td>1</td><td>$250</td><td>$250</td><td>Asia</td><td>Credit Card</td></tr><tr><td>10121</td><td>4/30/2024</td><td>Electronics</td><td>Apple iPad Air</td><td>2</td><td>$600</td><td>$1.200</td><td>North America</td><td>Credit Card</td></tr><tr><td>10122</td><td>5/1/2024</td><td>Home Appliances</td><td>Hamilton Beach FlexBrew Coffee Maker</td><td>1</td><td>$90</td><td>$90</td><td>Europe</td><td>PayPal</td></tr><tr><td>10123</td><td>5/2/2024</td><td>Clothing</td><td>Forever 21 Graphic Tee</td><td>5</td><td>$13</td><td>$65</td><td>Asia</td><td>Debit Card</td></tr><tr><td>10124</td><td>5/3/2024</td><td>Books</td><td>The Subtle Art of Not Giving a F*ck by Mark Manson</td><td>3</td><td>$15</td><td>$45</td><td>North America</td><td>Credit Card</td></tr><tr><td>10125</td><td>5/4/2024</td><td>Beauty Products</td><td>NARS Radiant Creamy Concealer</td><td>1</td><td>$30</td><td>$30</td><td>North America</td><td>PayPal</td></tr><tr><td>10126</td><td>5/5/2024</td><td>Sports</td><td>Yeti Roadie 24 Cooler</td><td>1</td><td>$200</td><td>$200</td><td>Asia</td><td>Credit Card</td></tr><tr><td>10127</td><td>5/6/2024</td><td>Electronics</td><td>Sony PlayStation 5</td><td>1</td><td>$500</td><td>$500</td><td>North America</td><td>Credit Card</td></tr><tr><td>10128</td><td>5/7/2024</td><td>Home Appliances</td><td>Dyson Supersonic Hair Dryer</td><td>2</td><td>$400</td><td>$800</td><td>Europe</td><td>PayPal</td></tr><tr><td>10129</td><td>5/8/2024</td><td>Clothing</td><td>Lululemon Align Leggings</td><td>3</td><td>$98</td><td>$294</td><td>Asia</td><td>Debit Card</td></tr><tr><td>10130</td><td>5/9/2024</td><td>Books</td><td>The Four Agreements by Don Miguel Ruiz</td><td>2</td><td>$9</td><td>$18</td><td>North America</td><td>Credit Card</td></tr><tr><td>10131</td><td>5/10/2024</td><td>Beauty Products</td><td>Fenty Beauty Killawatt Highlighter</td><td>1</td><td>$36</td><td>$36</td><td>Europe</td><td>PayPal</td></tr><tr><td>10132</td><td>5/11/2024</td><td>Sports</td><td>Hydro Flask Wide Mouth Water Bottle</td><td>4</td><td>$40</td><td>$160</td><td>Asia</td><td>Credit Card</td></tr><tr><td>10133</td><td>5/12/2024</td><td>Electronics</td><td>Microsoft Surface Laptop 4</td><td>1</td><td>$1.300</td><td>$1.300</td><td>North America</td><td>Credit Card</td></tr><tr><td>10134</td><td>5/13/2024</td><td>Home Appliances</td><td>Keurig K-Mini Coffee Maker</td><td>2</td><td>$80</td><td>$160</td><td>Europe</td><td>PayPal</td></tr><tr><td>10135</td><td>5/14/2024</td><td>Clothing</td><td>Gap Crewneck Sweatshirt</td><td>4</td><td>$35</td><td>$140</td><td>Asia</td><td>Debit Card</td></tr><tr><td>10136</td><td>5/15/2024</td><td>Books</td><td>Think and Grow Rich by Napoleon Hill</td><td>3</td><td>$10</td><td>$30</td><td>North America</td><td>Credit Card</td></tr><tr><td>10137</td><td>5/16/2024</td><td>Beauty Products</td><td>The Ordinary Hyaluronic Acid Serum</td><td>1</td><td>$7</td><td>$7</td><td>Europe</td><td>PayPal</td></tr><tr><td>10138</td><td>5/17/2024</td><td>Sports</td><td>Fitbit Inspire 2</td><td>2</td><td>$100</td><td>$200</td><td>Asia</td><td>Credit Card</td></tr><tr><td>10139</td><td>5/18/2024</td><td>Electronics</td><td>Samsung Odyssey G9 Gaming Monitor</td><td>1</td><td>$1.500</td><td>$1.500</td><td>North America</td><td>Credit Card</td></tr><tr><td>10140</td><td>5/19/2024</td><td>Home Appliances</td><td>Instant Pot Ultra</td><td>1</td><td>$140</td><td>$140</td><td>Europe</td><td>PayPal</td></tr><tr><td>10141</td><td>5/20/2024</td><td>Clothing</td><td>Adidas Essential Track Pants</td><td>3</td><td>$45</td><td>$135</td><td>Europe</td><td>Debit Card</td></tr><tr><td>10142</td><td>5/21/2024</td><td>Books</td><td>The Power of Habit by Charles Duhigg</td><td>2</td><td>$12</td><td>$24</td><td>North America</td><td>Credit Card</td></tr><tr><td>10143</td><td>5/22/2024</td><td>Beauty Products</td><td>Clinique Dramatically Different Moisturizing Lotion</td><td>1</td><td>$30</td><td>$30</td><td>Europe</td><td>PayPal</td></tr><tr><td>10144</td><td>5/23/2024</td><td>Sports</td><td>YETI Tundra 45 Cooler</td><td>1</td><td>$300</td><td>$300</td><td>Asia</td><td>Credit Card</td></tr><tr><td>10145</td><td>5/24/2024</td><td>Electronics</td><td>Apple AirPods Max</td><td>1</td><td>$549</td><td>$549</td><td>North America</td><td>Credit Card</td></tr><tr><td>10146</td><td>5/25/2024</td><td>Home Appliances</td><td>Cuisinart Coffee Center</td><td>2</td><td>$200</td><td>$400</td><td>Asia</td><td>PayPal</td></tr><tr><td>10147</td><td>5/26/2024</td><td>Clothing</td><td>Levi's Sherpa Trucker Jacket</td><td>2</td><td>$98</td><td>$196</td><td>Asia</td><td>Debit Card</td></tr><tr><td>10148</td><td>5/27/2024</td><td>Books</td><td>The Outsiders by S.E. Hinton</td><td>3</td><td>$11</td><td>$33</td><td>North America</td><td>Credit Card</td></tr><tr><td>10149</td><td>5/28/2024</td><td>Beauty Products</td><td>Laneige Water Sleeping Mask</td><td>1</td><td>$25</td><td>$25</td><td>Europe</td><td>PayPal</td></tr><tr><td>10150</td><td>5/29/2024</td><td>Sports</td><td>Bose SoundSport Wireless Earbuds</td><td>2</td><td>$150</td><td>$300</td><td>North America</td><td>Credit Card</td></tr><tr><td>10151</td><td>5/30/2024</td><td>Electronics</td><td>Sony WH-1000XM4 Headphones</td><td>1</td><td>$350</td><td>$350</td><td>North America</td><td>Credit Card</td></tr><tr><td>10152</td><td>5/31/2024</td><td>Home Appliances</td><td>Ninja Foodi Pressure Cooker</td><td>2</td><td>$200</td><td>$400</td><td>Europe</td><td>PayPal</td></tr><tr><td>10001</td><td>1/1/2024</td><td>Electronics</td><td>iPhone 14 Pro</td><td>2</td><td>$1.000</td><td>$2.000</td><td>North America</td><td>Credit Card</td></tr><tr><td>10002</td><td>1/2/2024</td><td>Home Appliances</td><td>Dyson V11 Vacuum</td><td>1</td><td>$500</td><td>$500</td><td>Asia</td><td>PayPal</td></tr><tr><td>10003</td><td>1/3/2024</td><td>Clothing</td><td>Levi's 501 Jeans</td><td>3</td><td>$70</td><td>$210</td><td>Asia</td><td>Debit Card</td></tr><tr><td>10004</td><td>1/4/2024</td><td>Books</td><td>The Da Vinci Code</td><td>4</td><td>$16</td><td>$64</td><td>North America</td><td>Credit Card</td></tr><tr><td>10005</td><td>1/5/2024</td><td>Beauty Products</td><td>Neutrogena Skincare Set</td><td>1</td><td>$90</td><td>$90</td><td>Europe</td><td>PayPal</td></tr><tr><td>10006</td><td>1/6/2024</td><td>Sports</td><td>Wilson Evolution Basketball</td><td>5</td><td>$30</td><td>$150</td><td>North America</td><td>Credit Card</td></tr><tr><td>10007</td><td>1/7/2024</td><td>Electronics</td><td>MacBook Pro 16-inch</td><td>1</td><td>$2.500</td><td>$2.500</td><td>North America</td><td>Credit Card</td></tr><tr><td>10008</td><td>1/8/2024</td><td>Home Appliances</td><td>Blueair Classic 480i</td><td>2</td><td>$600</td><td>$1.200</td><td>Europe</td><td>PayPal</td></tr><tr><td>10009</td><td>1/9/2024</td><td>Clothing</td><td>Nike Air Force 1</td><td>6</td><td>$90</td><td>$540</td><td>Asia</td><td>Debit Card</td></tr><tr><td>10010</td><td>1/10/2024</td><td>Books</td><td>Dune by Frank Herbert</td><td>2</td><td>$26</td><td>$52</td><td>Europe</td><td>Credit Card</td></tr><tr><td>10011</td><td>1/11/2024</td><td>Beauty Products</td><td>Chanel No. 5 Perfume</td><td>1</td><td>$130</td><td>$130</td><td>Europe</td><td>PayPal</td></tr><tr><td>10012</td><td>1/12/2024</td><td>Sports</td><td>Babolat Pure Drive Tennis Racket</td><td>3</td><td>$200</td><td>$600</td><td>Asia</td><td>Credit Card</td></tr><tr><td>10013</td><td>1/13/2024</td><td>Electronics</td><td>Samsung Galaxy Tab S8</td><td>2</td><td>$750</td><td>$1.500</td><td>North America</td><td>Credit Card</td></tr><tr><td>10014</td><td>1/14/2024</td><td>Home Appliances</td><td>Keurig K-Elite Coffee Maker</td><td>1</td><td>$190</td><td>$190</td><td>Europe</td><td>PayPal</td></tr><tr><td>10015</td><td>1/15/2024</td><td>Clothing</td><td>North Face Down Jacket</td><td>2</td><td>$250</td><td>$500</td><td>Asia</td><td>Debit Card</td></tr><tr><td>10016</td><td>1/16/2024</td><td>Books</td><td>Salt, Fat, Acid, Heat by Samin Nosrat</td><td>3</td><td>$36</td><td>$108</td><td>Asia</td><td>Credit Card</td></tr><tr><td>10017</td><td>1/17/2024</td><td>Beauty Products</td><td>Dyson Supersonic Hair Dryer</td><td>1</td><td>$400</td><td>$400</td><td>Europe</td><td>PayPal</td></tr><tr><td>10018</td><td>1/18/2024</td><td>Sports</td><td>Manduka PRO Yoga Mat</td><td>4</td><td>$120</td><td>$480</td><td>Asia</td><td>Credit Card</td></tr><tr><td>10019</td><td>1/19/2024</td><td>Electronics</td><td>Garmin Forerunner 945</td><td>2</td><td>$500</td><td>$1.000</td><td>North America</td><td>Credit Card</td></tr><tr><td>10020</td><td>1/20/2024</td><td>Home Appliances</td><td>Ninja Professional Blender</td><td>1</td><td>$100</td><td>$100</td><td>Europe</td><td>PayPal</td></tr><tr><td>10021</td><td>1/21/2024</td><td>Clothing</td><td>Zara Summer Dress</td><td>3</td><td>$60</td><td>$180</td><td>Asia</td><td>Debit Card</td></tr><tr><td>10022</td><td>1/22/2024</td><td>Books</td><td>Gone Girl by Gillian Flynn</td><td>2</td><td>$23</td><td>$46</td><td>North America</td><td>Credit Card</td></tr><tr><td>10023</td><td>1/23/2024</td><td>Beauty Products</td><td>Olay Regenerist Face Cream</td><td>1</td><td>$50</td><td>$50</td><td>Europe</td><td>PayPal</td></tr><tr><td>10024</td><td>1/24/2024</td><td>Sports</td><td>Adidas FIFA World Cup Football</td><td>3</td><td>$30</td><td>$90</td><td>Asia</td><td>Credit Card</td></tr><tr><td>10025</td><td>1/25/2024</td><td>Electronics</td><td>Bose QuietComfort 35 Headphones</td><td>1</td><td>$300</td><td>$300</td><td>North America</td><td>Credit Card</td></tr><tr><td>10026</td><td>1/26/2024</td><td>Home Appliances</td><td>Panasonic NN-SN966S Microwave</td><td>1</td><td>$180</td><td>$180</td><td>Europe</td><td>PayPal</td></tr><tr><td>10027</td><td>1/27/2024</td><td>Clothing</td><td>Adidas Ultraboost Shoes</td><td>2</td><td>$180</td><td>$360</td><td>Asia</td><td>Debit Card</td></tr><tr><td>10028</td><td>1/28/2024</td><td>Books</td><td>Pride and Prejudice by Jane Austen</td><td>3</td><td>$13</td><td>$39</td><td>North America</td><td>Credit Card</td></tr><tr><td>10029</td><td>1/29/2024</td><td>Beauty Products</td><td>MAC Ruby Woo Lipstick</td><td>1</td><td>$30</td><td>$30</td><td>Europe</td><td>PayPal</td></tr><tr><td>10030</td><td>1/30/2024</td><td>Sports</td><td>Nike Air Zoom Pegasus 37</td><td>2</td><td>$130</td><td>$260</td><td>Asia</td><td>Credit Card</td></tr><tr><td>10031</td><td>1/31/2024</td><td>Electronics</td><td>Sony WH-1000XM4 Headphones</td><td>2</td><td>$350</td><td>$700</td><td>North America</td><td>Credit Card</td></tr><tr><td>10032</td><td>2/1/2024</td><td>Home Appliances</td><td>Instant Pot Duo</td><td>3</td><td>$90</td><td>$270</td><td>Europe</td><td>PayPal</td></tr><tr><td>10033</td><td>2/2/2024</td><td>Clothing</td><td>Under Armour HeatGear T-Shirt</td><td>5</td><td>$30</td><td>$150</td><td>Asia</td><td>Debit Card</td></tr><tr><td>10034</td><td>2/3/2024</td><td>Books</td><td>1984 by George Orwell</td><td>4</td><td>$20</td><td>$80</td><td>North America</td><td>Credit Card</td></tr><tr><td>10035</td><td>2/4/2024</td><td>Beauty Products</td><td>L'Oreal Revitalift Serum</td><td>2</td><td>$40</td><td>$80</td><td>Europe</td><td>PayPal</td></tr><tr><td>10036</td><td>2/5/2024</td><td>Sports</td><td>Peloton Bike</td><td>1</td><td>$1.895</td><td>$1.895</td><td>Asia</td><td>Credit Card</td></tr><tr><td>10037</td><td>2/6/2024</td><td>Electronics</td><td>Apple Watch Series 8</td><td>3</td><td>$400</td><td>$1.200</td><td>North America</td><td>Credit Card</td></tr><tr><td>10038</td><td>2/7/2024</td><td>Home Appliances</td><td>Roomba i7+</td><td>2</td><td>$800</td><td>$1.600</td><td>Europe</td><td>PayPal</td></tr><tr><td>10039</td><td>2/8/2024</td><td>Clothing</td><td>Columbia Fleece Jacket</td><td>4</td><td>$60</td><td>$240</td><td>Asia</td><td>Debit Card</td></tr><tr><td>10040</td><td>2/9/2024</td><td>Books</td><td>Harry Potter and the Sorcerer's Stone</td><td>3</td><td>$25</td><td>$75</td><td>North America</td><td>Credit Card</td></tr><tr><td>10041</td><td>2/10/2024</td><td>Beauty Products</td><td>Estee Lauder Advanced Night Repair</td><td>1</td><td>$105</td><td>$105</td><td>Europe</td><td>PayPal</td></tr><tr><td>10042</td><td>2/11/2024</td><td>Sports</td><td>Fitbit Charge 5</td><td>2</td><td>$130</td><td>$260</td><td>Asia</td><td>Credit Card</td></tr><tr><td>10043</td><td>2/12/2024</td><td>Electronics</td><td>GoPro HERO10 Black</td><td>3</td><td>$400</td><td>$1.200</td><td>North America</td><td>Credit Card</td></tr><tr><td>10044</td><td>2/13/2024</td><td>Home Appliances</td><td>Nespresso VertuoPlus</td><td>1</td><td>$200</td><td>$200</td><td>North America</td><td>PayPal</td></tr><tr><td>10045</td><td>2/14/2024</td><td>Clothing</td><td>Patagonia Better Sweater</td><td>2</td><td>$140</td><td>$280</td><td>Asia</td><td>Debit Card</td></tr><tr><td>10046</td><td>2/15/2024</td><td>Books</td><td>Becoming by Michelle Obama</td><td>4</td><td>$33</td><td>$130</td><td>North America</td><td>Credit Card</td></tr><tr><td>10047</td><td>2/16/2024</td><td>Beauty Products</td><td>Clinique Moisture Surge</td><td>1</td><td>$52</td><td>$52</td><td>Europe</td><td>PayPal</td></tr><tr><td>10048</td><td>2/17/2024</td><td>Sports</td><td>Yeti Rambler Tumbler</td><td>6</td><td>$40</td><td>$240</td><td>Asia</td><td>Credit Card</td></tr><tr><td>10049</td><td>2/18/2024</td><td>Electronics</td><td>Kindle Paperwhite</td><td>2</td><td>$130</td><td>$260</td><td>North America</td><td>Credit Card</td></tr><tr><td>10050</td><td>2/19/2024</td><td>Home Appliances</td><td>Breville Smart Oven</td><td>1</td><td>$300</td><td>$300</td><td>Europe</td><td>PayPal</td></tr><tr><td>10051</td><td>2/20/2024</td><td>Clothing</td><td>Ray-Ban Aviator Sunglasses</td><td>3</td><td>$155</td><td>$465</td><td>Asia</td><td>Debit Card</td></tr><tr><td>10052</td><td>2/21/2024</td><td>Books</td><td>The Silent Patient by Alex Michaelides</td><td>2</td><td>$27</td><td>$54</td><td>North America</td><td>Credit Card</td></tr><tr><td>10053</td><td>2/22/2024</td><td>Beauty Products</td><td>Shiseido Ultimate Sun Protector</td><td>1</td><td>$49</td><td>$49</td><td>Europe</td><td>PayPal</td></tr><tr><td>10054</td><td>2/23/2024</td><td>Sports</td><td>Titleist Pro V1 Golf Balls</td><td>5</td><td>$50</td><td>$250</td><td>Asia</td><td>Credit Card</td></tr><tr><td>10055</td><td>2/24/2024</td><td>Electronics</td><td>Anker PowerCore Portable Charger</td><td>4</td><td>$60</td><td>$240</td><td>North America</td><td>Credit Card</td></tr><tr><td>10056</td><td>2/25/2024</td><td>Home Appliances</td><td>KitchenAid Artisan Stand Mixer</td><td>1</td><td>$500</td><td>$500</td><td>Asia</td><td>PayPal</td></tr><tr><td>10057</td><td>2/26/2024</td><td>Clothing</td><td>Calvin Klein Boxer Briefs</td><td>5</td><td>$30</td><td>$150</td><td>Asia</td><td>Debit Card</td></tr><tr><td>10058</td><td>2/27/2024</td><td>Books</td><td>Educated by Tara Westover</td><td>3</td><td>$28</td><td>$84</td><td>North America</td><td>Credit Card</td></tr><tr><td>10059</td><td>2/28/2024</td><td>Beauty Products</td><td>Anastasia Beverly Hills Brow Wiz</td><td>2</td><td>$23</td><td>$46</td><td>Europe</td><td>PayPal</td></tr><tr><td>10060</td><td>2/29/2024</td><td>Sports</td><td>Hyperice Hypervolt Massager</td><td>1</td><td>$349</td><td>$349</td><td>Asia</td><td>Credit Card</td></tr><tr><td>10061</td><td>3/1/2024</td><td>Electronics</td><td>Nintendo Switch</td><td>3</td><td>$300</td><td>$900</td><td>North America</td><td>Credit Card</td></tr><tr><td>10062</td><td>3/2/2024</td><td>Home Appliances</td><td>Philips Airfryer XXL</td><td>2</td><td>$200</td><td>$400</td><td>Europe</td><td>PayPal</td></tr><tr><td>10063</td><td>3/3/2024</td><td>Clothing</td><td>Hanes ComfortSoft T-Shirt</td><td>10</td><td>$10</td><td>$100</td><td>Asia</td><td>Debit Card</td></tr><tr><td>10064</td><td>3/4/2024</td><td>Books</td><td>Where the Crawdads Sing by Delia Owens</td><td>4</td><td>$19</td><td>$76</td><td>North America</td><td>Credit Card</td></tr><tr><td>10065</td><td>3/5/2024</td><td>Beauty Products</td><td>Lancome La Vie Est Belle</td><td>1</td><td>$102</td><td>$102</td><td>Europe</td><td>PayPal</td></tr><tr><td>10066</td><td>3/6/2024</td><td>Sports</td><td>Garmin Edge 530</td><td>2</td><td>$300</td><td>$600</td><td>Asia</td><td>Credit Card</td></tr><tr><td>10067</td><td>3/7/2024</td><td>Electronics</td><td>Samsung QLED 4K TV</td><td>1</td><td>$1.200</td><td>$1.200</td><td>North America</td><td>Credit Card</td></tr><tr><td>10068</td><td>3/8/2024</td><td>Home Appliances</td><td>Eufy RoboVac 11S</td><td>3</td><td>$220</td><td>$660</td><td>Europe</td><td>PayPal</td></tr><tr><td>10069</td><td>3/9/2024</td><td>Clothing</td><td>Puma Suede Classic Sneakers</td><td>4</td><td>$60</td><td>$240</td><td>Europe</td><td>Debit Card</td></tr><tr><td>10070</td><td>3/10/2024</td><td>Books</td><td>The Great Gatsby by F. Scott Fitzgerald</td><td>2</td><td>$11</td><td>$22</td><td>North America</td><td>Credit Card</td></tr><tr><td>10071</td><td>3/11/2024</td><td>Beauty Products</td><td>Drunk Elephant C-Firma Day Serum</td><td>1</td><td>$78</td><td>$78</td><td>Europe</td><td>PayPal</td></tr><tr><td>10072</td><td>3/12/2024</td><td>Sports</td><td>Nike Metcon 6</td><td>3</td><td>$130</td><td>$390</td><td>Asia</td><td>Credit Card</td></tr><tr><td>10073</td><td>3/13/2024</td><td>Electronics</td><td>HP Spectre x360 Laptop</td><td>1</td><td>$1.600</td><td>$1.600</td><td>North America</td><td>Credit Card</td></tr><tr><td>10074</td><td>3/14/2024</td><td>Home Appliances</td><td>De'Longhi Magnifica Espresso Machine</td><td>1</td><td>$900</td><td>$900</td><td>Europe</td><td>PayPal</td></tr><tr><td>10075</td><td>3/15/2024</td><td>Clothing</td><td>Tommy Hilfiger Polo Shirt</td><td>5</td><td>$50</td><td>$250</td><td>Asia</td><td>Debit Card</td></tr><tr><td>10076</td><td>3/16/2024</td><td>Books</td><td>To Kill a Mockingbird by Harper Lee</td><td>4</td><td>$15</td><td>$60</td><td>North America</td><td>Credit Card</td></tr><tr><td>10077</td><td>3/17/2024</td><td>Beauty Products</td><td>Glossier Boy Brow</td><td>2</td><td>$16</td><td>$32</td><td>Asia</td><td>PayPal</td></tr><tr><td>10078</td><td>3/18/2024</td><td>Sports</td><td>Rogue Fitness Kettlebell</td><td>3</td><td>$70</td><td>$210</td><td>Asia</td><td>Credit Card</td></tr><tr><td>10079</td><td>3/19/2024</td><td>Electronics</td><td>Apple AirPods Pro</td><td>2</td><td>$250</td><td>$500</td><td>North America</td><td>Credit Card</td></tr><tr><td>10080</td><td>3/20/2024</td><td>Home Appliances</td><td>Dyson Pure Cool Link</td><td>1</td><td>$500</td><td>$500</td><td>Europe</td><td>PayPal</td></tr><tr><td>10081</td><td>3/21/2024</td><td>Clothing</td><td>Levi's Trucker Jacket</td><td>2</td><td>$90</td><td>$180</td><td>Asia</td><td>Debit Card</td></tr><tr><td>10082</td><td>3/22/2024</td><td>Books</td><td>The Hobbit by J.R.R. Tolkien</td><td>3</td><td>$13</td><td>$39</td><td>North America</td><td>Credit Card</td></tr><tr><td>10083</td><td>3/23/2024</td><td>Beauty Products</td><td>Charlotte Tilbury Magic Cream</td><td>1</td><td>$100</td><td>$100</td><td>North America</td><td>PayPal</td></tr><tr><td>10084</td><td>3/24/2024</td><td>Sports</td><td>Spalding NBA Street Basketball</td><td>6</td><td>$25</td><td>$150</td><td>Asia</td><td>Credit Card</td></tr><tr><td>10085</td><td>3/25/2024</td><td>Electronics</td><td>Ring Video Doorbell</td><td>1</td><td>$100</td><td>$100</td><td>North America</td><td>Credit Card</td></tr><tr><td>10086</td><td>3/26/2024</td><td>Home Appliances</td><td>LG OLED TV</td><td>2</td><td>$1.300</td><td>$2.600</td><td>Europe</td><td>PayPal</td></tr><tr><td>10087</td><td>3/27/2024</td><td>Clothing</td><td>Uniqlo Ultra Light Down Jacket</td><td>3</td><td>$80</td><td>$240</td><td>Asia</td><td>Debit Card</td></tr><tr><td>10088</td><td>3/28/2024</td><td>Books</td><td>The Catcher in the Rye by J.D. Salinger</td><td>4</td><td>$14</td><td>$56</td><td>North America</td><td>Credit Card</td></tr><tr><td>10089</td><td>3/29/2024</td><td>Beauty Products</td><td>Sunday Riley Good Genes</td><td>1</td><td>$105</td><td>$105</td><td>Europe</td><td>PayPal</td></tr><tr><td>10090</td><td>3/30/2024</td><td>Sports</td><td>On Running Cloud Shoes</td><td>2</td><td>$130</td><td>$260</td><td>Asia</td><td>Credit Card</td></tr><tr><td>10091</td><td>3/31/2024</td><td>Electronics</td><td>Logitech MX Master 3 Mouse</td><td>2</td><td>$100</td><td>$200</td><td>North America</td><td>Credit Card</td></tr><tr><td>10092</td><td>4/1/2024</td><td>Home Appliances</td><td>Instant Pot Duo Crisp</td><td>1</td><td>$180</td><td>$180</td><td>Europe</td><td>PayPal</td></tr><tr><td>10093</td><td>4/2/2024</td><td>Clothing</td><td>Adidas Originals Superstar Sneakers</td><td>4</td><td>$80</td><td>$320</td><td>Asia</td><td>Debit Card</td></tr><tr><td>10094</td><td>4/3/2024</td><td>Books</td><td>The Alchemist by Paulo Coelho</td><td>3</td><td>$15</td><td>$45</td><td>North America</td><td>Credit Card</td></tr><tr><td>10095</td><td>4/4/2024</td><td>Beauty Products</td><td>Tatcha The Water Cream</td><td>1</td><td>$68</td><td>$68</td><td>Europe</td><td>PayPal</td></tr><tr><td>10096</td><td>4/5/2024</td><td>Sports</td><td>Garmin Fenix 6X Pro</td><td>1</td><td>$1.000</td><td>$1.000</td><td>Europe</td><td>Credit Card</td></tr><tr><td>10097</td><td>4/6/2024</td><td>Electronics</td><td>Bose SoundLink Revolve+ Speaker</td><td>3</td><td>$300</td><td>$900</td><td>North America</td><td>Credit Card</td></tr><tr><td>10098</td><td>4/7/2024</td><td>Home Appliances</td><td>Vitamix Explorian Blender</td><td>1</td><td>$350</td><td>$350</td><td>Europe</td><td>PayPal</td></tr><tr><td>10099</td><td>4/8/2024</td><td>Clothing</td><td>Gap Essential Crewneck T-Shirt</td><td>6</td><td>$20</td><td>$120</td><td>Asia</td><td>Debit Card</td></tr></tbody></table></div>"
      ]
     },
     "metadata": {
      "application/vnd.databricks.v1+output": {
       "addedWidgets": {},
       "aggData": [],
       "aggError": "",
       "aggOverflow": false,
       "aggSchema": [],
       "aggSeriesLimitReached": false,
       "aggType": "",
       "arguments": {},
       "columnCustomDisplayInfos": {},
       "data": [
        [
         "10100",
         "4/9/2024",
         "Books",
         "The Power of Now by Eckhart Tolle",
         "2",
         "$13",
         "$26",
         "North America",
         "Credit Card"
        ],
        [
         "10101",
         "4/10/2024",
         "Beauty Products",
         "Kiehl's Midnight Recovery Concentrate",
         "1",
         "$82",
         "$82",
         "Europe",
         "PayPal"
        ],
        [
         "10102",
         "4/11/2024",
         "Sports",
         "Under Armour HOVR Sonic 4 Shoes",
         "2",
         "$110",
         "$220",
         "Asia",
         "Credit Card"
        ],
        [
         "10103",
         "4/12/2024",
         "Electronics",
         "Canon EOS R5 Camera",
         "1",
         "$3.900",
         "$3.900",
         "North America",
         "Credit Card"
        ],
        [
         "10104",
         "4/13/2024",
         "Home Appliances",
         "Shark IQ Robot Vacuum",
         "2",
         "$350",
         "$700",
         "Europe",
         "PayPal"
        ],
        [
         "10105",
         "4/14/2024",
         "Clothing",
         "H&M Slim Fit Jeans",
         "3",
         "$40",
         "$120",
         "Asia",
         "Debit Card"
        ],
        [
         "10106",
         "4/15/2024",
         "Books",
         "The Girl on the Train by Paula Hawkins",
         "4",
         "$11",
         "$44",
         "North America",
         "Credit Card"
        ],
        [
         "10107",
         "4/16/2024",
         "Beauty Products",
         "The Ordinary Niacinamide Serum",
         "1",
         "$7",
         "$7",
         "Asia",
         "PayPal"
        ],
        [
         "10108",
         "4/17/2024",
         "Sports",
         "Bowflex SelectTech 552 Dumbbells",
         "1",
         "$400",
         "$400",
         "Asia",
         "Credit Card"
        ],
        [
         "10109",
         "4/18/2024",
         "Electronics",
         "Google Nest Hub Max",
         "2",
         "$230",
         "$460",
         "North America",
         "Credit Card"
        ],
        [
         "10110",
         "4/19/2024",
         "Home Appliances",
         "Cuisinart Griddler Deluxe",
         "1",
         "$160",
         "$160",
         "Europe",
         "PayPal"
        ],
        [
         "10111",
         "4/20/2024",
         "Clothing",
         "Old Navy Relaxed-Fit T-Shirt",
         "4",
         "$15",
         "$60",
         "Asia",
         "Debit Card"
        ],
        [
         "10112",
         "4/21/2024",
         "Books",
         "Sapiens: A Brief History of Humankind by Yuval Noah Harari",
         "2",
         "$19",
         "$38",
         "North America",
         "Credit Card"
        ],
        [
         "10113",
         "4/22/2024",
         "Beauty Products",
         "Biore UV Aqua Rich Watery Essence Sunscreen",
         "1",
         "$15",
         "$15",
         "Europe",
         "PayPal"
        ],
        [
         "10114",
         "4/23/2024",
         "Sports",
         "Fitbit Versa 3",
         "3",
         "$230",
         "$690",
         "Asia",
         "Credit Card"
        ],
        [
         "10115",
         "4/24/2024",
         "Electronics",
         "Amazon Echo Show 10",
         "1",
         "$250",
         "$250",
         "North America",
         "Credit Card"
        ],
        [
         "10116",
         "4/25/2024",
         "Home Appliances",
         "Breville Smart Grill",
         "2",
         "$300",
         "$600",
         "Europe",
         "PayPal"
        ],
        [
         "10117",
         "4/26/2024",
         "Clothing",
         "Gap High Rise Skinny Jeans",
         "3",
         "$50",
         "$150",
         "Asia",
         "Debit Card"
        ],
        [
         "10118",
         "4/27/2024",
         "Books",
         "Atomic Habits by James Clear",
         "4",
         "$17",
         "$68",
         "North America",
         "Credit Card"
        ],
        [
         "10119",
         "4/28/2024",
         "Beauty Products",
         "CeraVe Hydrating Facial Cleanser",
         "2",
         "$15",
         "$30",
         "Europe",
         "PayPal"
        ],
        [
         "10120",
         "4/29/2024",
         "Sports",
         "YETI Hopper Flip Portable Cooler",
         "1",
         "$250",
         "$250",
         "Asia",
         "Credit Card"
        ],
        [
         "10121",
         "4/30/2024",
         "Electronics",
         "Apple iPad Air",
         "2",
         "$600",
         "$1.200",
         "North America",
         "Credit Card"
        ],
        [
         "10122",
         "5/1/2024",
         "Home Appliances",
         "Hamilton Beach FlexBrew Coffee Maker",
         "1",
         "$90",
         "$90",
         "Europe",
         "PayPal"
        ],
        [
         "10123",
         "5/2/2024",
         "Clothing",
         "Forever 21 Graphic Tee",
         "5",
         "$13",
         "$65",
         "Asia",
         "Debit Card"
        ],
        [
         "10124",
         "5/3/2024",
         "Books",
         "The Subtle Art of Not Giving a F*ck by Mark Manson",
         "3",
         "$15",
         "$45",
         "North America",
         "Credit Card"
        ],
        [
         "10125",
         "5/4/2024",
         "Beauty Products",
         "NARS Radiant Creamy Concealer",
         "1",
         "$30",
         "$30",
         "North America",
         "PayPal"
        ],
        [
         "10126",
         "5/5/2024",
         "Sports",
         "Yeti Roadie 24 Cooler",
         "1",
         "$200",
         "$200",
         "Asia",
         "Credit Card"
        ],
        [
         "10127",
         "5/6/2024",
         "Electronics",
         "Sony PlayStation 5",
         "1",
         "$500",
         "$500",
         "North America",
         "Credit Card"
        ],
        [
         "10128",
         "5/7/2024",
         "Home Appliances",
         "Dyson Supersonic Hair Dryer",
         "2",
         "$400",
         "$800",
         "Europe",
         "PayPal"
        ],
        [
         "10129",
         "5/8/2024",
         "Clothing",
         "Lululemon Align Leggings",
         "3",
         "$98",
         "$294",
         "Asia",
         "Debit Card"
        ],
        [
         "10130",
         "5/9/2024",
         "Books",
         "The Four Agreements by Don Miguel Ruiz",
         "2",
         "$9",
         "$18",
         "North America",
         "Credit Card"
        ],
        [
         "10131",
         "5/10/2024",
         "Beauty Products",
         "Fenty Beauty Killawatt Highlighter",
         "1",
         "$36",
         "$36",
         "Europe",
         "PayPal"
        ],
        [
         "10132",
         "5/11/2024",
         "Sports",
         "Hydro Flask Wide Mouth Water Bottle",
         "4",
         "$40",
         "$160",
         "Asia",
         "Credit Card"
        ],
        [
         "10133",
         "5/12/2024",
         "Electronics",
         "Microsoft Surface Laptop 4",
         "1",
         "$1.300",
         "$1.300",
         "North America",
         "Credit Card"
        ],
        [
         "10134",
         "5/13/2024",
         "Home Appliances",
         "Keurig K-Mini Coffee Maker",
         "2",
         "$80",
         "$160",
         "Europe",
         "PayPal"
        ],
        [
         "10135",
         "5/14/2024",
         "Clothing",
         "Gap Crewneck Sweatshirt",
         "4",
         "$35",
         "$140",
         "Asia",
         "Debit Card"
        ],
        [
         "10136",
         "5/15/2024",
         "Books",
         "Think and Grow Rich by Napoleon Hill",
         "3",
         "$10",
         "$30",
         "North America",
         "Credit Card"
        ],
        [
         "10137",
         "5/16/2024",
         "Beauty Products",
         "The Ordinary Hyaluronic Acid Serum",
         "1",
         "$7",
         "$7",
         "Europe",
         "PayPal"
        ],
        [
         "10138",
         "5/17/2024",
         "Sports",
         "Fitbit Inspire 2",
         "2",
         "$100",
         "$200",
         "Asia",
         "Credit Card"
        ],
        [
         "10139",
         "5/18/2024",
         "Electronics",
         "Samsung Odyssey G9 Gaming Monitor",
         "1",
         "$1.500",
         "$1.500",
         "North America",
         "Credit Card"
        ],
        [
         "10140",
         "5/19/2024",
         "Home Appliances",
         "Instant Pot Ultra",
         "1",
         "$140",
         "$140",
         "Europe",
         "PayPal"
        ],
        [
         "10141",
         "5/20/2024",
         "Clothing",
         "Adidas Essential Track Pants",
         "3",
         "$45",
         "$135",
         "Europe",
         "Debit Card"
        ],
        [
         "10142",
         "5/21/2024",
         "Books",
         "The Power of Habit by Charles Duhigg",
         "2",
         "$12",
         "$24",
         "North America",
         "Credit Card"
        ],
        [
         "10143",
         "5/22/2024",
         "Beauty Products",
         "Clinique Dramatically Different Moisturizing Lotion",
         "1",
         "$30",
         "$30",
         "Europe",
         "PayPal"
        ],
        [
         "10144",
         "5/23/2024",
         "Sports",
         "YETI Tundra 45 Cooler",
         "1",
         "$300",
         "$300",
         "Asia",
         "Credit Card"
        ],
        [
         "10145",
         "5/24/2024",
         "Electronics",
         "Apple AirPods Max",
         "1",
         "$549",
         "$549",
         "North America",
         "Credit Card"
        ],
        [
         "10146",
         "5/25/2024",
         "Home Appliances",
         "Cuisinart Coffee Center",
         "2",
         "$200",
         "$400",
         "Asia",
         "PayPal"
        ],
        [
         "10147",
         "5/26/2024",
         "Clothing",
         "Levi's Sherpa Trucker Jacket",
         "2",
         "$98",
         "$196",
         "Asia",
         "Debit Card"
        ],
        [
         "10148",
         "5/27/2024",
         "Books",
         "The Outsiders by S.E. Hinton",
         "3",
         "$11",
         "$33",
         "North America",
         "Credit Card"
        ],
        [
         "10149",
         "5/28/2024",
         "Beauty Products",
         "Laneige Water Sleeping Mask",
         "1",
         "$25",
         "$25",
         "Europe",
         "PayPal"
        ],
        [
         "10150",
         "5/29/2024",
         "Sports",
         "Bose SoundSport Wireless Earbuds",
         "2",
         "$150",
         "$300",
         "North America",
         "Credit Card"
        ],
        [
         "10151",
         "5/30/2024",
         "Electronics",
         "Sony WH-1000XM4 Headphones",
         "1",
         "$350",
         "$350",
         "North America",
         "Credit Card"
        ],
        [
         "10152",
         "5/31/2024",
         "Home Appliances",
         "Ninja Foodi Pressure Cooker",
         "2",
         "$200",
         "$400",
         "Europe",
         "PayPal"
        ],
        [
         "10001",
         "1/1/2024",
         "Electronics",
         "iPhone 14 Pro",
         "2",
         "$1.000",
         "$2.000",
         "North America",
         "Credit Card"
        ],
        [
         "10002",
         "1/2/2024",
         "Home Appliances",
         "Dyson V11 Vacuum",
         "1",
         "$500",
         "$500",
         "Asia",
         "PayPal"
        ],
        [
         "10003",
         "1/3/2024",
         "Clothing",
         "Levi's 501 Jeans",
         "3",
         "$70",
         "$210",
         "Asia",
         "Debit Card"
        ],
        [
         "10004",
         "1/4/2024",
         "Books",
         "The Da Vinci Code",
         "4",
         "$16",
         "$64",
         "North America",
         "Credit Card"
        ],
        [
         "10005",
         "1/5/2024",
         "Beauty Products",
         "Neutrogena Skincare Set",
         "1",
         "$90",
         "$90",
         "Europe",
         "PayPal"
        ],
        [
         "10006",
         "1/6/2024",
         "Sports",
         "Wilson Evolution Basketball",
         "5",
         "$30",
         "$150",
         "North America",
         "Credit Card"
        ],
        [
         "10007",
         "1/7/2024",
         "Electronics",
         "MacBook Pro 16-inch",
         "1",
         "$2.500",
         "$2.500",
         "North America",
         "Credit Card"
        ],
        [
         "10008",
         "1/8/2024",
         "Home Appliances",
         "Blueair Classic 480i",
         "2",
         "$600",
         "$1.200",
         "Europe",
         "PayPal"
        ],
        [
         "10009",
         "1/9/2024",
         "Clothing",
         "Nike Air Force 1",
         "6",
         "$90",
         "$540",
         "Asia",
         "Debit Card"
        ],
        [
         "10010",
         "1/10/2024",
         "Books",
         "Dune by Frank Herbert",
         "2",
         "$26",
         "$52",
         "Europe",
         "Credit Card"
        ],
        [
         "10011",
         "1/11/2024",
         "Beauty Products",
         "Chanel No. 5 Perfume",
         "1",
         "$130",
         "$130",
         "Europe",
         "PayPal"
        ],
        [
         "10012",
         "1/12/2024",
         "Sports",
         "Babolat Pure Drive Tennis Racket",
         "3",
         "$200",
         "$600",
         "Asia",
         "Credit Card"
        ],
        [
         "10013",
         "1/13/2024",
         "Electronics",
         "Samsung Galaxy Tab S8",
         "2",
         "$750",
         "$1.500",
         "North America",
         "Credit Card"
        ],
        [
         "10014",
         "1/14/2024",
         "Home Appliances",
         "Keurig K-Elite Coffee Maker",
         "1",
         "$190",
         "$190",
         "Europe",
         "PayPal"
        ],
        [
         "10015",
         "1/15/2024",
         "Clothing",
         "North Face Down Jacket",
         "2",
         "$250",
         "$500",
         "Asia",
         "Debit Card"
        ],
        [
         "10016",
         "1/16/2024",
         "Books",
         "Salt, Fat, Acid, Heat by Samin Nosrat",
         "3",
         "$36",
         "$108",
         "Asia",
         "Credit Card"
        ],
        [
         "10017",
         "1/17/2024",
         "Beauty Products",
         "Dyson Supersonic Hair Dryer",
         "1",
         "$400",
         "$400",
         "Europe",
         "PayPal"
        ],
        [
         "10018",
         "1/18/2024",
         "Sports",
         "Manduka PRO Yoga Mat",
         "4",
         "$120",
         "$480",
         "Asia",
         "Credit Card"
        ],
        [
         "10019",
         "1/19/2024",
         "Electronics",
         "Garmin Forerunner 945",
         "2",
         "$500",
         "$1.000",
         "North America",
         "Credit Card"
        ],
        [
         "10020",
         "1/20/2024",
         "Home Appliances",
         "Ninja Professional Blender",
         "1",
         "$100",
         "$100",
         "Europe",
         "PayPal"
        ],
        [
         "10021",
         "1/21/2024",
         "Clothing",
         "Zara Summer Dress",
         "3",
         "$60",
         "$180",
         "Asia",
         "Debit Card"
        ],
        [
         "10022",
         "1/22/2024",
         "Books",
         "Gone Girl by Gillian Flynn",
         "2",
         "$23",
         "$46",
         "North America",
         "Credit Card"
        ],
        [
         "10023",
         "1/23/2024",
         "Beauty Products",
         "Olay Regenerist Face Cream",
         "1",
         "$50",
         "$50",
         "Europe",
         "PayPal"
        ],
        [
         "10024",
         "1/24/2024",
         "Sports",
         "Adidas FIFA World Cup Football",
         "3",
         "$30",
         "$90",
         "Asia",
         "Credit Card"
        ],
        [
         "10025",
         "1/25/2024",
         "Electronics",
         "Bose QuietComfort 35 Headphones",
         "1",
         "$300",
         "$300",
         "North America",
         "Credit Card"
        ],
        [
         "10026",
         "1/26/2024",
         "Home Appliances",
         "Panasonic NN-SN966S Microwave",
         "1",
         "$180",
         "$180",
         "Europe",
         "PayPal"
        ],
        [
         "10027",
         "1/27/2024",
         "Clothing",
         "Adidas Ultraboost Shoes",
         "2",
         "$180",
         "$360",
         "Asia",
         "Debit Card"
        ],
        [
         "10028",
         "1/28/2024",
         "Books",
         "Pride and Prejudice by Jane Austen",
         "3",
         "$13",
         "$39",
         "North America",
         "Credit Card"
        ],
        [
         "10029",
         "1/29/2024",
         "Beauty Products",
         "MAC Ruby Woo Lipstick",
         "1",
         "$30",
         "$30",
         "Europe",
         "PayPal"
        ],
        [
         "10030",
         "1/30/2024",
         "Sports",
         "Nike Air Zoom Pegasus 37",
         "2",
         "$130",
         "$260",
         "Asia",
         "Credit Card"
        ],
        [
         "10031",
         "1/31/2024",
         "Electronics",
         "Sony WH-1000XM4 Headphones",
         "2",
         "$350",
         "$700",
         "North America",
         "Credit Card"
        ],
        [
         "10032",
         "2/1/2024",
         "Home Appliances",
         "Instant Pot Duo",
         "3",
         "$90",
         "$270",
         "Europe",
         "PayPal"
        ],
        [
         "10033",
         "2/2/2024",
         "Clothing",
         "Under Armour HeatGear T-Shirt",
         "5",
         "$30",
         "$150",
         "Asia",
         "Debit Card"
        ],
        [
         "10034",
         "2/3/2024",
         "Books",
         "1984 by George Orwell",
         "4",
         "$20",
         "$80",
         "North America",
         "Credit Card"
        ],
        [
         "10035",
         "2/4/2024",
         "Beauty Products",
         "L'Oreal Revitalift Serum",
         "2",
         "$40",
         "$80",
         "Europe",
         "PayPal"
        ],
        [
         "10036",
         "2/5/2024",
         "Sports",
         "Peloton Bike",
         "1",
         "$1.895",
         "$1.895",
         "Asia",
         "Credit Card"
        ],
        [
         "10037",
         "2/6/2024",
         "Electronics",
         "Apple Watch Series 8",
         "3",
         "$400",
         "$1.200",
         "North America",
         "Credit Card"
        ],
        [
         "10038",
         "2/7/2024",
         "Home Appliances",
         "Roomba i7+",
         "2",
         "$800",
         "$1.600",
         "Europe",
         "PayPal"
        ],
        [
         "10039",
         "2/8/2024",
         "Clothing",
         "Columbia Fleece Jacket",
         "4",
         "$60",
         "$240",
         "Asia",
         "Debit Card"
        ],
        [
         "10040",
         "2/9/2024",
         "Books",
         "Harry Potter and the Sorcerer's Stone",
         "3",
         "$25",
         "$75",
         "North America",
         "Credit Card"
        ],
        [
         "10041",
         "2/10/2024",
         "Beauty Products",
         "Estee Lauder Advanced Night Repair",
         "1",
         "$105",
         "$105",
         "Europe",
         "PayPal"
        ],
        [
         "10042",
         "2/11/2024",
         "Sports",
         "Fitbit Charge 5",
         "2",
         "$130",
         "$260",
         "Asia",
         "Credit Card"
        ],
        [
         "10043",
         "2/12/2024",
         "Electronics",
         "GoPro HERO10 Black",
         "3",
         "$400",
         "$1.200",
         "North America",
         "Credit Card"
        ],
        [
         "10044",
         "2/13/2024",
         "Home Appliances",
         "Nespresso VertuoPlus",
         "1",
         "$200",
         "$200",
         "North America",
         "PayPal"
        ],
        [
         "10045",
         "2/14/2024",
         "Clothing",
         "Patagonia Better Sweater",
         "2",
         "$140",
         "$280",
         "Asia",
         "Debit Card"
        ],
        [
         "10046",
         "2/15/2024",
         "Books",
         "Becoming by Michelle Obama",
         "4",
         "$33",
         "$130",
         "North America",
         "Credit Card"
        ],
        [
         "10047",
         "2/16/2024",
         "Beauty Products",
         "Clinique Moisture Surge",
         "1",
         "$52",
         "$52",
         "Europe",
         "PayPal"
        ],
        [
         "10048",
         "2/17/2024",
         "Sports",
         "Yeti Rambler Tumbler",
         "6",
         "$40",
         "$240",
         "Asia",
         "Credit Card"
        ],
        [
         "10049",
         "2/18/2024",
         "Electronics",
         "Kindle Paperwhite",
         "2",
         "$130",
         "$260",
         "North America",
         "Credit Card"
        ],
        [
         "10050",
         "2/19/2024",
         "Home Appliances",
         "Breville Smart Oven",
         "1",
         "$300",
         "$300",
         "Europe",
         "PayPal"
        ],
        [
         "10051",
         "2/20/2024",
         "Clothing",
         "Ray-Ban Aviator Sunglasses",
         "3",
         "$155",
         "$465",
         "Asia",
         "Debit Card"
        ],
        [
         "10052",
         "2/21/2024",
         "Books",
         "The Silent Patient by Alex Michaelides",
         "2",
         "$27",
         "$54",
         "North America",
         "Credit Card"
        ],
        [
         "10053",
         "2/22/2024",
         "Beauty Products",
         "Shiseido Ultimate Sun Protector",
         "1",
         "$49",
         "$49",
         "Europe",
         "PayPal"
        ],
        [
         "10054",
         "2/23/2024",
         "Sports",
         "Titleist Pro V1 Golf Balls",
         "5",
         "$50",
         "$250",
         "Asia",
         "Credit Card"
        ],
        [
         "10055",
         "2/24/2024",
         "Electronics",
         "Anker PowerCore Portable Charger",
         "4",
         "$60",
         "$240",
         "North America",
         "Credit Card"
        ],
        [
         "10056",
         "2/25/2024",
         "Home Appliances",
         "KitchenAid Artisan Stand Mixer",
         "1",
         "$500",
         "$500",
         "Asia",
         "PayPal"
        ],
        [
         "10057",
         "2/26/2024",
         "Clothing",
         "Calvin Klein Boxer Briefs",
         "5",
         "$30",
         "$150",
         "Asia",
         "Debit Card"
        ],
        [
         "10058",
         "2/27/2024",
         "Books",
         "Educated by Tara Westover",
         "3",
         "$28",
         "$84",
         "North America",
         "Credit Card"
        ],
        [
         "10059",
         "2/28/2024",
         "Beauty Products",
         "Anastasia Beverly Hills Brow Wiz",
         "2",
         "$23",
         "$46",
         "Europe",
         "PayPal"
        ],
        [
         "10060",
         "2/29/2024",
         "Sports",
         "Hyperice Hypervolt Massager",
         "1",
         "$349",
         "$349",
         "Asia",
         "Credit Card"
        ],
        [
         "10061",
         "3/1/2024",
         "Electronics",
         "Nintendo Switch",
         "3",
         "$300",
         "$900",
         "North America",
         "Credit Card"
        ],
        [
         "10062",
         "3/2/2024",
         "Home Appliances",
         "Philips Airfryer XXL",
         "2",
         "$200",
         "$400",
         "Europe",
         "PayPal"
        ],
        [
         "10063",
         "3/3/2024",
         "Clothing",
         "Hanes ComfortSoft T-Shirt",
         "10",
         "$10",
         "$100",
         "Asia",
         "Debit Card"
        ],
        [
         "10064",
         "3/4/2024",
         "Books",
         "Where the Crawdads Sing by Delia Owens",
         "4",
         "$19",
         "$76",
         "North America",
         "Credit Card"
        ],
        [
         "10065",
         "3/5/2024",
         "Beauty Products",
         "Lancome La Vie Est Belle",
         "1",
         "$102",
         "$102",
         "Europe",
         "PayPal"
        ],
        [
         "10066",
         "3/6/2024",
         "Sports",
         "Garmin Edge 530",
         "2",
         "$300",
         "$600",
         "Asia",
         "Credit Card"
        ],
        [
         "10067",
         "3/7/2024",
         "Electronics",
         "Samsung QLED 4K TV",
         "1",
         "$1.200",
         "$1.200",
         "North America",
         "Credit Card"
        ],
        [
         "10068",
         "3/8/2024",
         "Home Appliances",
         "Eufy RoboVac 11S",
         "3",
         "$220",
         "$660",
         "Europe",
         "PayPal"
        ],
        [
         "10069",
         "3/9/2024",
         "Clothing",
         "Puma Suede Classic Sneakers",
         "4",
         "$60",
         "$240",
         "Europe",
         "Debit Card"
        ],
        [
         "10070",
         "3/10/2024",
         "Books",
         "The Great Gatsby by F. Scott Fitzgerald",
         "2",
         "$11",
         "$22",
         "North America",
         "Credit Card"
        ],
        [
         "10071",
         "3/11/2024",
         "Beauty Products",
         "Drunk Elephant C-Firma Day Serum",
         "1",
         "$78",
         "$78",
         "Europe",
         "PayPal"
        ],
        [
         "10072",
         "3/12/2024",
         "Sports",
         "Nike Metcon 6",
         "3",
         "$130",
         "$390",
         "Asia",
         "Credit Card"
        ],
        [
         "10073",
         "3/13/2024",
         "Electronics",
         "HP Spectre x360 Laptop",
         "1",
         "$1.600",
         "$1.600",
         "North America",
         "Credit Card"
        ],
        [
         "10074",
         "3/14/2024",
         "Home Appliances",
         "De'Longhi Magnifica Espresso Machine",
         "1",
         "$900",
         "$900",
         "Europe",
         "PayPal"
        ],
        [
         "10075",
         "3/15/2024",
         "Clothing",
         "Tommy Hilfiger Polo Shirt",
         "5",
         "$50",
         "$250",
         "Asia",
         "Debit Card"
        ],
        [
         "10076",
         "3/16/2024",
         "Books",
         "To Kill a Mockingbird by Harper Lee",
         "4",
         "$15",
         "$60",
         "North America",
         "Credit Card"
        ],
        [
         "10077",
         "3/17/2024",
         "Beauty Products",
         "Glossier Boy Brow",
         "2",
         "$16",
         "$32",
         "Asia",
         "PayPal"
        ],
        [
         "10078",
         "3/18/2024",
         "Sports",
         "Rogue Fitness Kettlebell",
         "3",
         "$70",
         "$210",
         "Asia",
         "Credit Card"
        ],
        [
         "10079",
         "3/19/2024",
         "Electronics",
         "Apple AirPods Pro",
         "2",
         "$250",
         "$500",
         "North America",
         "Credit Card"
        ],
        [
         "10080",
         "3/20/2024",
         "Home Appliances",
         "Dyson Pure Cool Link",
         "1",
         "$500",
         "$500",
         "Europe",
         "PayPal"
        ],
        [
         "10081",
         "3/21/2024",
         "Clothing",
         "Levi's Trucker Jacket",
         "2",
         "$90",
         "$180",
         "Asia",
         "Debit Card"
        ],
        [
         "10082",
         "3/22/2024",
         "Books",
         "The Hobbit by J.R.R. Tolkien",
         "3",
         "$13",
         "$39",
         "North America",
         "Credit Card"
        ],
        [
         "10083",
         "3/23/2024",
         "Beauty Products",
         "Charlotte Tilbury Magic Cream",
         "1",
         "$100",
         "$100",
         "North America",
         "PayPal"
        ],
        [
         "10084",
         "3/24/2024",
         "Sports",
         "Spalding NBA Street Basketball",
         "6",
         "$25",
         "$150",
         "Asia",
         "Credit Card"
        ],
        [
         "10085",
         "3/25/2024",
         "Electronics",
         "Ring Video Doorbell",
         "1",
         "$100",
         "$100",
         "North America",
         "Credit Card"
        ],
        [
         "10086",
         "3/26/2024",
         "Home Appliances",
         "LG OLED TV",
         "2",
         "$1.300",
         "$2.600",
         "Europe",
         "PayPal"
        ],
        [
         "10087",
         "3/27/2024",
         "Clothing",
         "Uniqlo Ultra Light Down Jacket",
         "3",
         "$80",
         "$240",
         "Asia",
         "Debit Card"
        ],
        [
         "10088",
         "3/28/2024",
         "Books",
         "The Catcher in the Rye by J.D. Salinger",
         "4",
         "$14",
         "$56",
         "North America",
         "Credit Card"
        ],
        [
         "10089",
         "3/29/2024",
         "Beauty Products",
         "Sunday Riley Good Genes",
         "1",
         "$105",
         "$105",
         "Europe",
         "PayPal"
        ],
        [
         "10090",
         "3/30/2024",
         "Sports",
         "On Running Cloud Shoes",
         "2",
         "$130",
         "$260",
         "Asia",
         "Credit Card"
        ],
        [
         "10091",
         "3/31/2024",
         "Electronics",
         "Logitech MX Master 3 Mouse",
         "2",
         "$100",
         "$200",
         "North America",
         "Credit Card"
        ],
        [
         "10092",
         "4/1/2024",
         "Home Appliances",
         "Instant Pot Duo Crisp",
         "1",
         "$180",
         "$180",
         "Europe",
         "PayPal"
        ],
        [
         "10093",
         "4/2/2024",
         "Clothing",
         "Adidas Originals Superstar Sneakers",
         "4",
         "$80",
         "$320",
         "Asia",
         "Debit Card"
        ],
        [
         "10094",
         "4/3/2024",
         "Books",
         "The Alchemist by Paulo Coelho",
         "3",
         "$15",
         "$45",
         "North America",
         "Credit Card"
        ],
        [
         "10095",
         "4/4/2024",
         "Beauty Products",
         "Tatcha The Water Cream",
         "1",
         "$68",
         "$68",
         "Europe",
         "PayPal"
        ],
        [
         "10096",
         "4/5/2024",
         "Sports",
         "Garmin Fenix 6X Pro",
         "1",
         "$1.000",
         "$1.000",
         "Europe",
         "Credit Card"
        ],
        [
         "10097",
         "4/6/2024",
         "Electronics",
         "Bose SoundLink Revolve+ Speaker",
         "3",
         "$300",
         "$900",
         "North America",
         "Credit Card"
        ],
        [
         "10098",
         "4/7/2024",
         "Home Appliances",
         "Vitamix Explorian Blender",
         "1",
         "$350",
         "$350",
         "Europe",
         "PayPal"
        ],
        [
         "10099",
         "4/8/2024",
         "Clothing",
         "Gap Essential Crewneck T-Shirt",
         "6",
         "$20",
         "$120",
         "Asia",
         "Debit Card"
        ]
       ],
       "datasetInfos": [],
       "dbfsResultPath": null,
       "isJsonSchema": true,
       "metadata": {},
       "overflow": false,
       "plotOptions": {
        "customPlotOptions": {},
        "displayType": "table",
        "pivotAggregation": null,
        "pivotColumns": null,
        "xColumns": null,
        "yColumns": null
       },
       "removedWidgets": [],
       "schema": [
        {
         "metadata": "{}",
         "name": "Order ID",
         "type": "\"string\""
        },
        {
         "metadata": "{}",
         "name": "Date",
         "type": "\"string\""
        },
        {
         "metadata": "{}",
         "name": "Product Category",
         "type": "\"string\""
        },
        {
         "metadata": "{}",
         "name": "Product Name",
         "type": "\"string\""
        },
        {
         "metadata": "{}",
         "name": "Units Sold",
         "type": "\"string\""
        },
        {
         "metadata": "{}",
         "name": "Unit Price",
         "type": "\"string\""
        },
        {
         "metadata": "{}",
         "name": "Total Revenue",
         "type": "\"string\""
        },
        {
         "metadata": "{}",
         "name": "Region",
         "type": "\"string\""
        },
        {
         "metadata": "{}",
         "name": "Payment Method",
         "type": "\"string\""
        }
       ],
       "type": "table"
      }
     },
     "output_type": "display_data"
    }
   ],
   "source": [
    "# File location and type\n",
    "file_location = \"/FileStore/tables/Teste1/Online_Store_Sales_Data_xlsm___Online_Store_Sales.csv\"\n",
    "file_type = \"csv\"\n",
    "\n",
    "# CSV options\n",
    "infer_schema = \"false\"\n",
    "first_row_is_header = \"true\"\n",
    "delimiter = \",\"\n",
    "\n",
    "# The applied options are for CSV files. For other file types, these will be ignored.\n",
    "df = spark.read.format(file_type) \\\n",
    "  .option(\"inferSchema\", infer_schema) \\\n",
    "  .option(\"header\", first_row_is_header) \\\n",
    "  .option(\"sep\", delimiter) \\\n",
    "  .load(file_location)\n",
    "\n",
    "display(df)"
   ]
  },
  {
   "cell_type": "code",
   "execution_count": 0,
   "metadata": {
    "application/vnd.databricks.v1+cell": {
     "cellMetadata": {
      "byteLimit": 2048000,
      "rowLimit": 10000
     },
     "inputWidgets": {},
     "nuid": "bd82bb99-1479-4d5c-be10-8c36df0f1d44",
     "showTitle": false,
     "title": ""
    }
   },
   "outputs": [],
   "source": [
    "# Create a view or table\n",
    "\n",
    "temp_table_name = \"StoreData\"\n",
    "\n",
    "df.createOrReplaceTempView(temp_table_name)"
   ]
  },
  {
   "cell_type": "code",
   "execution_count": 0,
   "metadata": {
    "application/vnd.databricks.v1+cell": {
     "cellMetadata": {
      "byteLimit": 2048000,
      "implicitDf": true,
      "rowLimit": 10000
     },
     "inputWidgets": {},
     "nuid": "1b04e808-2f9c-417a-a1e3-6005039aba7b",
     "showTitle": false,
     "title": ""
    }
   },
   "outputs": [
    {
     "output_type": "display_data",
     "data": {
      "text/html": [
       "<style scoped>\n",
       "  .table-result-container {\n",
       "    max-height: 300px;\n",
       "    overflow: auto;\n",
       "  }\n",
       "  table, th, td {\n",
       "    border: 1px solid black;\n",
       "    border-collapse: collapse;\n",
       "  }\n",
       "  th, td {\n",
       "    padding: 5px;\n",
       "  }\n",
       "  th {\n",
       "    text-align: left;\n",
       "  }\n",
       "</style><div class='table-result-container'><table class='table-result'><thead style='background-color: white'><tr><th>Order ID</th><th>Date</th><th>Product Category</th><th>Product Name</th><th>Units Sold</th><th>Unit Price</th><th>Total Revenue</th><th>Region</th><th>Payment Method</th></tr></thead><tbody><tr><td>10100</td><td>4/9/2024</td><td>Books</td><td>The Power of Now by Eckhart Tolle</td><td>2</td><td>$13</td><td>$26</td><td>North America</td><td>Credit Card</td></tr><tr><td>10101</td><td>4/10/2024</td><td>Beauty Products</td><td>Kiehl's Midnight Recovery Concentrate</td><td>1</td><td>$82</td><td>$82</td><td>Europe</td><td>PayPal</td></tr><tr><td>10102</td><td>4/11/2024</td><td>Sports</td><td>Under Armour HOVR Sonic 4 Shoes</td><td>2</td><td>$110</td><td>$220</td><td>Asia</td><td>Credit Card</td></tr><tr><td>10103</td><td>4/12/2024</td><td>Electronics</td><td>Canon EOS R5 Camera</td><td>1</td><td>$3.900</td><td>$3.900</td><td>North America</td><td>Credit Card</td></tr><tr><td>10104</td><td>4/13/2024</td><td>Home Appliances</td><td>Shark IQ Robot Vacuum</td><td>2</td><td>$350</td><td>$700</td><td>Europe</td><td>PayPal</td></tr><tr><td>10105</td><td>4/14/2024</td><td>Clothing</td><td>H&M Slim Fit Jeans</td><td>3</td><td>$40</td><td>$120</td><td>Asia</td><td>Debit Card</td></tr><tr><td>10106</td><td>4/15/2024</td><td>Books</td><td>The Girl on the Train by Paula Hawkins</td><td>4</td><td>$11</td><td>$44</td><td>North America</td><td>Credit Card</td></tr><tr><td>10107</td><td>4/16/2024</td><td>Beauty Products</td><td>The Ordinary Niacinamide Serum</td><td>1</td><td>$7</td><td>$7</td><td>Asia</td><td>PayPal</td></tr><tr><td>10108</td><td>4/17/2024</td><td>Sports</td><td>Bowflex SelectTech 552 Dumbbells</td><td>1</td><td>$400</td><td>$400</td><td>Asia</td><td>Credit Card</td></tr><tr><td>10109</td><td>4/18/2024</td><td>Electronics</td><td>Google Nest Hub Max</td><td>2</td><td>$230</td><td>$460</td><td>North America</td><td>Credit Card</td></tr><tr><td>10110</td><td>4/19/2024</td><td>Home Appliances</td><td>Cuisinart Griddler Deluxe</td><td>1</td><td>$160</td><td>$160</td><td>Europe</td><td>PayPal</td></tr><tr><td>10111</td><td>4/20/2024</td><td>Clothing</td><td>Old Navy Relaxed-Fit T-Shirt</td><td>4</td><td>$15</td><td>$60</td><td>Asia</td><td>Debit Card</td></tr><tr><td>10112</td><td>4/21/2024</td><td>Books</td><td>Sapiens: A Brief History of Humankind by Yuval Noah Harari</td><td>2</td><td>$19</td><td>$38</td><td>North America</td><td>Credit Card</td></tr><tr><td>10113</td><td>4/22/2024</td><td>Beauty Products</td><td>Biore UV Aqua Rich Watery Essence Sunscreen</td><td>1</td><td>$15</td><td>$15</td><td>Europe</td><td>PayPal</td></tr><tr><td>10114</td><td>4/23/2024</td><td>Sports</td><td>Fitbit Versa 3</td><td>3</td><td>$230</td><td>$690</td><td>Asia</td><td>Credit Card</td></tr><tr><td>10115</td><td>4/24/2024</td><td>Electronics</td><td>Amazon Echo Show 10</td><td>1</td><td>$250</td><td>$250</td><td>North America</td><td>Credit Card</td></tr><tr><td>10116</td><td>4/25/2024</td><td>Home Appliances</td><td>Breville Smart Grill</td><td>2</td><td>$300</td><td>$600</td><td>Europe</td><td>PayPal</td></tr><tr><td>10117</td><td>4/26/2024</td><td>Clothing</td><td>Gap High Rise Skinny Jeans</td><td>3</td><td>$50</td><td>$150</td><td>Asia</td><td>Debit Card</td></tr><tr><td>10118</td><td>4/27/2024</td><td>Books</td><td>Atomic Habits by James Clear</td><td>4</td><td>$17</td><td>$68</td><td>North America</td><td>Credit Card</td></tr><tr><td>10119</td><td>4/28/2024</td><td>Beauty Products</td><td>CeraVe Hydrating Facial Cleanser</td><td>2</td><td>$15</td><td>$30</td><td>Europe</td><td>PayPal</td></tr><tr><td>10120</td><td>4/29/2024</td><td>Sports</td><td>YETI Hopper Flip Portable Cooler</td><td>1</td><td>$250</td><td>$250</td><td>Asia</td><td>Credit Card</td></tr><tr><td>10121</td><td>4/30/2024</td><td>Electronics</td><td>Apple iPad Air</td><td>2</td><td>$600</td><td>$1.200</td><td>North America</td><td>Credit Card</td></tr><tr><td>10122</td><td>5/1/2024</td><td>Home Appliances</td><td>Hamilton Beach FlexBrew Coffee Maker</td><td>1</td><td>$90</td><td>$90</td><td>Europe</td><td>PayPal</td></tr><tr><td>10123</td><td>5/2/2024</td><td>Clothing</td><td>Forever 21 Graphic Tee</td><td>5</td><td>$13</td><td>$65</td><td>Asia</td><td>Debit Card</td></tr><tr><td>10124</td><td>5/3/2024</td><td>Books</td><td>The Subtle Art of Not Giving a F*ck by Mark Manson</td><td>3</td><td>$15</td><td>$45</td><td>North America</td><td>Credit Card</td></tr><tr><td>10125</td><td>5/4/2024</td><td>Beauty Products</td><td>NARS Radiant Creamy Concealer</td><td>1</td><td>$30</td><td>$30</td><td>North America</td><td>PayPal</td></tr><tr><td>10126</td><td>5/5/2024</td><td>Sports</td><td>Yeti Roadie 24 Cooler</td><td>1</td><td>$200</td><td>$200</td><td>Asia</td><td>Credit Card</td></tr><tr><td>10127</td><td>5/6/2024</td><td>Electronics</td><td>Sony PlayStation 5</td><td>1</td><td>$500</td><td>$500</td><td>North America</td><td>Credit Card</td></tr><tr><td>10128</td><td>5/7/2024</td><td>Home Appliances</td><td>Dyson Supersonic Hair Dryer</td><td>2</td><td>$400</td><td>$800</td><td>Europe</td><td>PayPal</td></tr><tr><td>10129</td><td>5/8/2024</td><td>Clothing</td><td>Lululemon Align Leggings</td><td>3</td><td>$98</td><td>$294</td><td>Asia</td><td>Debit Card</td></tr><tr><td>10130</td><td>5/9/2024</td><td>Books</td><td>The Four Agreements by Don Miguel Ruiz</td><td>2</td><td>$9</td><td>$18</td><td>North America</td><td>Credit Card</td></tr><tr><td>10131</td><td>5/10/2024</td><td>Beauty Products</td><td>Fenty Beauty Killawatt Highlighter</td><td>1</td><td>$36</td><td>$36</td><td>Europe</td><td>PayPal</td></tr><tr><td>10132</td><td>5/11/2024</td><td>Sports</td><td>Hydro Flask Wide Mouth Water Bottle</td><td>4</td><td>$40</td><td>$160</td><td>Asia</td><td>Credit Card</td></tr><tr><td>10133</td><td>5/12/2024</td><td>Electronics</td><td>Microsoft Surface Laptop 4</td><td>1</td><td>$1.300</td><td>$1.300</td><td>North America</td><td>Credit Card</td></tr><tr><td>10134</td><td>5/13/2024</td><td>Home Appliances</td><td>Keurig K-Mini Coffee Maker</td><td>2</td><td>$80</td><td>$160</td><td>Europe</td><td>PayPal</td></tr><tr><td>10135</td><td>5/14/2024</td><td>Clothing</td><td>Gap Crewneck Sweatshirt</td><td>4</td><td>$35</td><td>$140</td><td>Asia</td><td>Debit Card</td></tr><tr><td>10136</td><td>5/15/2024</td><td>Books</td><td>Think and Grow Rich by Napoleon Hill</td><td>3</td><td>$10</td><td>$30</td><td>North America</td><td>Credit Card</td></tr><tr><td>10137</td><td>5/16/2024</td><td>Beauty Products</td><td>The Ordinary Hyaluronic Acid Serum</td><td>1</td><td>$7</td><td>$7</td><td>Europe</td><td>PayPal</td></tr><tr><td>10138</td><td>5/17/2024</td><td>Sports</td><td>Fitbit Inspire 2</td><td>2</td><td>$100</td><td>$200</td><td>Asia</td><td>Credit Card</td></tr><tr><td>10139</td><td>5/18/2024</td><td>Electronics</td><td>Samsung Odyssey G9 Gaming Monitor</td><td>1</td><td>$1.500</td><td>$1.500</td><td>North America</td><td>Credit Card</td></tr><tr><td>10140</td><td>5/19/2024</td><td>Home Appliances</td><td>Instant Pot Ultra</td><td>1</td><td>$140</td><td>$140</td><td>Europe</td><td>PayPal</td></tr><tr><td>10141</td><td>5/20/2024</td><td>Clothing</td><td>Adidas Essential Track Pants</td><td>3</td><td>$45</td><td>$135</td><td>Europe</td><td>Debit Card</td></tr><tr><td>10142</td><td>5/21/2024</td><td>Books</td><td>The Power of Habit by Charles Duhigg</td><td>2</td><td>$12</td><td>$24</td><td>North America</td><td>Credit Card</td></tr><tr><td>10143</td><td>5/22/2024</td><td>Beauty Products</td><td>Clinique Dramatically Different Moisturizing Lotion</td><td>1</td><td>$30</td><td>$30</td><td>Europe</td><td>PayPal</td></tr><tr><td>10144</td><td>5/23/2024</td><td>Sports</td><td>YETI Tundra 45 Cooler</td><td>1</td><td>$300</td><td>$300</td><td>Asia</td><td>Credit Card</td></tr><tr><td>10145</td><td>5/24/2024</td><td>Electronics</td><td>Apple AirPods Max</td><td>1</td><td>$549</td><td>$549</td><td>North America</td><td>Credit Card</td></tr><tr><td>10146</td><td>5/25/2024</td><td>Home Appliances</td><td>Cuisinart Coffee Center</td><td>2</td><td>$200</td><td>$400</td><td>Asia</td><td>PayPal</td></tr><tr><td>10147</td><td>5/26/2024</td><td>Clothing</td><td>Levi's Sherpa Trucker Jacket</td><td>2</td><td>$98</td><td>$196</td><td>Asia</td><td>Debit Card</td></tr><tr><td>10148</td><td>5/27/2024</td><td>Books</td><td>The Outsiders by S.E. Hinton</td><td>3</td><td>$11</td><td>$33</td><td>North America</td><td>Credit Card</td></tr><tr><td>10149</td><td>5/28/2024</td><td>Beauty Products</td><td>Laneige Water Sleeping Mask</td><td>1</td><td>$25</td><td>$25</td><td>Europe</td><td>PayPal</td></tr><tr><td>10150</td><td>5/29/2024</td><td>Sports</td><td>Bose SoundSport Wireless Earbuds</td><td>2</td><td>$150</td><td>$300</td><td>North America</td><td>Credit Card</td></tr><tr><td>10151</td><td>5/30/2024</td><td>Electronics</td><td>Sony WH-1000XM4 Headphones</td><td>1</td><td>$350</td><td>$350</td><td>North America</td><td>Credit Card</td></tr><tr><td>10152</td><td>5/31/2024</td><td>Home Appliances</td><td>Ninja Foodi Pressure Cooker</td><td>2</td><td>$200</td><td>$400</td><td>Europe</td><td>PayPal</td></tr><tr><td>10001</td><td>1/1/2024</td><td>Electronics</td><td>iPhone 14 Pro</td><td>2</td><td>$1.000</td><td>$2.000</td><td>North America</td><td>Credit Card</td></tr><tr><td>10002</td><td>1/2/2024</td><td>Home Appliances</td><td>Dyson V11 Vacuum</td><td>1</td><td>$500</td><td>$500</td><td>Asia</td><td>PayPal</td></tr><tr><td>10003</td><td>1/3/2024</td><td>Clothing</td><td>Levi's 501 Jeans</td><td>3</td><td>$70</td><td>$210</td><td>Asia</td><td>Debit Card</td></tr><tr><td>10004</td><td>1/4/2024</td><td>Books</td><td>The Da Vinci Code</td><td>4</td><td>$16</td><td>$64</td><td>North America</td><td>Credit Card</td></tr><tr><td>10005</td><td>1/5/2024</td><td>Beauty Products</td><td>Neutrogena Skincare Set</td><td>1</td><td>$90</td><td>$90</td><td>Europe</td><td>PayPal</td></tr><tr><td>10006</td><td>1/6/2024</td><td>Sports</td><td>Wilson Evolution Basketball</td><td>5</td><td>$30</td><td>$150</td><td>North America</td><td>Credit Card</td></tr><tr><td>10007</td><td>1/7/2024</td><td>Electronics</td><td>MacBook Pro 16-inch</td><td>1</td><td>$2.500</td><td>$2.500</td><td>North America</td><td>Credit Card</td></tr><tr><td>10008</td><td>1/8/2024</td><td>Home Appliances</td><td>Blueair Classic 480i</td><td>2</td><td>$600</td><td>$1.200</td><td>Europe</td><td>PayPal</td></tr><tr><td>10009</td><td>1/9/2024</td><td>Clothing</td><td>Nike Air Force 1</td><td>6</td><td>$90</td><td>$540</td><td>Asia</td><td>Debit Card</td></tr><tr><td>10010</td><td>1/10/2024</td><td>Books</td><td>Dune by Frank Herbert</td><td>2</td><td>$26</td><td>$52</td><td>Europe</td><td>Credit Card</td></tr><tr><td>10011</td><td>1/11/2024</td><td>Beauty Products</td><td>Chanel No. 5 Perfume</td><td>1</td><td>$130</td><td>$130</td><td>Europe</td><td>PayPal</td></tr><tr><td>10012</td><td>1/12/2024</td><td>Sports</td><td>Babolat Pure Drive Tennis Racket</td><td>3</td><td>$200</td><td>$600</td><td>Asia</td><td>Credit Card</td></tr><tr><td>10013</td><td>1/13/2024</td><td>Electronics</td><td>Samsung Galaxy Tab S8</td><td>2</td><td>$750</td><td>$1.500</td><td>North America</td><td>Credit Card</td></tr><tr><td>10014</td><td>1/14/2024</td><td>Home Appliances</td><td>Keurig K-Elite Coffee Maker</td><td>1</td><td>$190</td><td>$190</td><td>Europe</td><td>PayPal</td></tr><tr><td>10015</td><td>1/15/2024</td><td>Clothing</td><td>North Face Down Jacket</td><td>2</td><td>$250</td><td>$500</td><td>Asia</td><td>Debit Card</td></tr><tr><td>10016</td><td>1/16/2024</td><td>Books</td><td>Salt, Fat, Acid, Heat by Samin Nosrat</td><td>3</td><td>$36</td><td>$108</td><td>Asia</td><td>Credit Card</td></tr><tr><td>10017</td><td>1/17/2024</td><td>Beauty Products</td><td>Dyson Supersonic Hair Dryer</td><td>1</td><td>$400</td><td>$400</td><td>Europe</td><td>PayPal</td></tr><tr><td>10018</td><td>1/18/2024</td><td>Sports</td><td>Manduka PRO Yoga Mat</td><td>4</td><td>$120</td><td>$480</td><td>Asia</td><td>Credit Card</td></tr><tr><td>10019</td><td>1/19/2024</td><td>Electronics</td><td>Garmin Forerunner 945</td><td>2</td><td>$500</td><td>$1.000</td><td>North America</td><td>Credit Card</td></tr><tr><td>10020</td><td>1/20/2024</td><td>Home Appliances</td><td>Ninja Professional Blender</td><td>1</td><td>$100</td><td>$100</td><td>Europe</td><td>PayPal</td></tr><tr><td>10021</td><td>1/21/2024</td><td>Clothing</td><td>Zara Summer Dress</td><td>3</td><td>$60</td><td>$180</td><td>Asia</td><td>Debit Card</td></tr><tr><td>10022</td><td>1/22/2024</td><td>Books</td><td>Gone Girl by Gillian Flynn</td><td>2</td><td>$23</td><td>$46</td><td>North America</td><td>Credit Card</td></tr><tr><td>10023</td><td>1/23/2024</td><td>Beauty Products</td><td>Olay Regenerist Face Cream</td><td>1</td><td>$50</td><td>$50</td><td>Europe</td><td>PayPal</td></tr><tr><td>10024</td><td>1/24/2024</td><td>Sports</td><td>Adidas FIFA World Cup Football</td><td>3</td><td>$30</td><td>$90</td><td>Asia</td><td>Credit Card</td></tr><tr><td>10025</td><td>1/25/2024</td><td>Electronics</td><td>Bose QuietComfort 35 Headphones</td><td>1</td><td>$300</td><td>$300</td><td>North America</td><td>Credit Card</td></tr><tr><td>10026</td><td>1/26/2024</td><td>Home Appliances</td><td>Panasonic NN-SN966S Microwave</td><td>1</td><td>$180</td><td>$180</td><td>Europe</td><td>PayPal</td></tr><tr><td>10027</td><td>1/27/2024</td><td>Clothing</td><td>Adidas Ultraboost Shoes</td><td>2</td><td>$180</td><td>$360</td><td>Asia</td><td>Debit Card</td></tr><tr><td>10028</td><td>1/28/2024</td><td>Books</td><td>Pride and Prejudice by Jane Austen</td><td>3</td><td>$13</td><td>$39</td><td>North America</td><td>Credit Card</td></tr><tr><td>10029</td><td>1/29/2024</td><td>Beauty Products</td><td>MAC Ruby Woo Lipstick</td><td>1</td><td>$30</td><td>$30</td><td>Europe</td><td>PayPal</td></tr><tr><td>10030</td><td>1/30/2024</td><td>Sports</td><td>Nike Air Zoom Pegasus 37</td><td>2</td><td>$130</td><td>$260</td><td>Asia</td><td>Credit Card</td></tr><tr><td>10031</td><td>1/31/2024</td><td>Electronics</td><td>Sony WH-1000XM4 Headphones</td><td>2</td><td>$350</td><td>$700</td><td>North America</td><td>Credit Card</td></tr><tr><td>10032</td><td>2/1/2024</td><td>Home Appliances</td><td>Instant Pot Duo</td><td>3</td><td>$90</td><td>$270</td><td>Europe</td><td>PayPal</td></tr><tr><td>10033</td><td>2/2/2024</td><td>Clothing</td><td>Under Armour HeatGear T-Shirt</td><td>5</td><td>$30</td><td>$150</td><td>Asia</td><td>Debit Card</td></tr><tr><td>10034</td><td>2/3/2024</td><td>Books</td><td>1984 by George Orwell</td><td>4</td><td>$20</td><td>$80</td><td>North America</td><td>Credit Card</td></tr><tr><td>10035</td><td>2/4/2024</td><td>Beauty Products</td><td>L'Oreal Revitalift Serum</td><td>2</td><td>$40</td><td>$80</td><td>Europe</td><td>PayPal</td></tr><tr><td>10036</td><td>2/5/2024</td><td>Sports</td><td>Peloton Bike</td><td>1</td><td>$1.895</td><td>$1.895</td><td>Asia</td><td>Credit Card</td></tr><tr><td>10037</td><td>2/6/2024</td><td>Electronics</td><td>Apple Watch Series 8</td><td>3</td><td>$400</td><td>$1.200</td><td>North America</td><td>Credit Card</td></tr><tr><td>10038</td><td>2/7/2024</td><td>Home Appliances</td><td>Roomba i7+</td><td>2</td><td>$800</td><td>$1.600</td><td>Europe</td><td>PayPal</td></tr><tr><td>10039</td><td>2/8/2024</td><td>Clothing</td><td>Columbia Fleece Jacket</td><td>4</td><td>$60</td><td>$240</td><td>Asia</td><td>Debit Card</td></tr><tr><td>10040</td><td>2/9/2024</td><td>Books</td><td>Harry Potter and the Sorcerer's Stone</td><td>3</td><td>$25</td><td>$75</td><td>North America</td><td>Credit Card</td></tr><tr><td>10041</td><td>2/10/2024</td><td>Beauty Products</td><td>Estee Lauder Advanced Night Repair</td><td>1</td><td>$105</td><td>$105</td><td>Europe</td><td>PayPal</td></tr><tr><td>10042</td><td>2/11/2024</td><td>Sports</td><td>Fitbit Charge 5</td><td>2</td><td>$130</td><td>$260</td><td>Asia</td><td>Credit Card</td></tr><tr><td>10043</td><td>2/12/2024</td><td>Electronics</td><td>GoPro HERO10 Black</td><td>3</td><td>$400</td><td>$1.200</td><td>North America</td><td>Credit Card</td></tr><tr><td>10044</td><td>2/13/2024</td><td>Home Appliances</td><td>Nespresso VertuoPlus</td><td>1</td><td>$200</td><td>$200</td><td>North America</td><td>PayPal</td></tr><tr><td>10045</td><td>2/14/2024</td><td>Clothing</td><td>Patagonia Better Sweater</td><td>2</td><td>$140</td><td>$280</td><td>Asia</td><td>Debit Card</td></tr><tr><td>10046</td><td>2/15/2024</td><td>Books</td><td>Becoming by Michelle Obama</td><td>4</td><td>$33</td><td>$130</td><td>North America</td><td>Credit Card</td></tr><tr><td>10047</td><td>2/16/2024</td><td>Beauty Products</td><td>Clinique Moisture Surge</td><td>1</td><td>$52</td><td>$52</td><td>Europe</td><td>PayPal</td></tr><tr><td>10048</td><td>2/17/2024</td><td>Sports</td><td>Yeti Rambler Tumbler</td><td>6</td><td>$40</td><td>$240</td><td>Asia</td><td>Credit Card</td></tr><tr><td>10049</td><td>2/18/2024</td><td>Electronics</td><td>Kindle Paperwhite</td><td>2</td><td>$130</td><td>$260</td><td>North America</td><td>Credit Card</td></tr><tr><td>10050</td><td>2/19/2024</td><td>Home Appliances</td><td>Breville Smart Oven</td><td>1</td><td>$300</td><td>$300</td><td>Europe</td><td>PayPal</td></tr><tr><td>10051</td><td>2/20/2024</td><td>Clothing</td><td>Ray-Ban Aviator Sunglasses</td><td>3</td><td>$155</td><td>$465</td><td>Asia</td><td>Debit Card</td></tr><tr><td>10052</td><td>2/21/2024</td><td>Books</td><td>The Silent Patient by Alex Michaelides</td><td>2</td><td>$27</td><td>$54</td><td>North America</td><td>Credit Card</td></tr><tr><td>10053</td><td>2/22/2024</td><td>Beauty Products</td><td>Shiseido Ultimate Sun Protector</td><td>1</td><td>$49</td><td>$49</td><td>Europe</td><td>PayPal</td></tr><tr><td>10054</td><td>2/23/2024</td><td>Sports</td><td>Titleist Pro V1 Golf Balls</td><td>5</td><td>$50</td><td>$250</td><td>Asia</td><td>Credit Card</td></tr><tr><td>10055</td><td>2/24/2024</td><td>Electronics</td><td>Anker PowerCore Portable Charger</td><td>4</td><td>$60</td><td>$240</td><td>North America</td><td>Credit Card</td></tr><tr><td>10056</td><td>2/25/2024</td><td>Home Appliances</td><td>KitchenAid Artisan Stand Mixer</td><td>1</td><td>$500</td><td>$500</td><td>Asia</td><td>PayPal</td></tr><tr><td>10057</td><td>2/26/2024</td><td>Clothing</td><td>Calvin Klein Boxer Briefs</td><td>5</td><td>$30</td><td>$150</td><td>Asia</td><td>Debit Card</td></tr><tr><td>10058</td><td>2/27/2024</td><td>Books</td><td>Educated by Tara Westover</td><td>3</td><td>$28</td><td>$84</td><td>North America</td><td>Credit Card</td></tr><tr><td>10059</td><td>2/28/2024</td><td>Beauty Products</td><td>Anastasia Beverly Hills Brow Wiz</td><td>2</td><td>$23</td><td>$46</td><td>Europe</td><td>PayPal</td></tr><tr><td>10060</td><td>2/29/2024</td><td>Sports</td><td>Hyperice Hypervolt Massager</td><td>1</td><td>$349</td><td>$349</td><td>Asia</td><td>Credit Card</td></tr><tr><td>10061</td><td>3/1/2024</td><td>Electronics</td><td>Nintendo Switch</td><td>3</td><td>$300</td><td>$900</td><td>North America</td><td>Credit Card</td></tr><tr><td>10062</td><td>3/2/2024</td><td>Home Appliances</td><td>Philips Airfryer XXL</td><td>2</td><td>$200</td><td>$400</td><td>Europe</td><td>PayPal</td></tr><tr><td>10063</td><td>3/3/2024</td><td>Clothing</td><td>Hanes ComfortSoft T-Shirt</td><td>10</td><td>$10</td><td>$100</td><td>Asia</td><td>Debit Card</td></tr><tr><td>10064</td><td>3/4/2024</td><td>Books</td><td>Where the Crawdads Sing by Delia Owens</td><td>4</td><td>$19</td><td>$76</td><td>North America</td><td>Credit Card</td></tr><tr><td>10065</td><td>3/5/2024</td><td>Beauty Products</td><td>Lancome La Vie Est Belle</td><td>1</td><td>$102</td><td>$102</td><td>Europe</td><td>PayPal</td></tr><tr><td>10066</td><td>3/6/2024</td><td>Sports</td><td>Garmin Edge 530</td><td>2</td><td>$300</td><td>$600</td><td>Asia</td><td>Credit Card</td></tr><tr><td>10067</td><td>3/7/2024</td><td>Electronics</td><td>Samsung QLED 4K TV</td><td>1</td><td>$1.200</td><td>$1.200</td><td>North America</td><td>Credit Card</td></tr><tr><td>10068</td><td>3/8/2024</td><td>Home Appliances</td><td>Eufy RoboVac 11S</td><td>3</td><td>$220</td><td>$660</td><td>Europe</td><td>PayPal</td></tr><tr><td>10069</td><td>3/9/2024</td><td>Clothing</td><td>Puma Suede Classic Sneakers</td><td>4</td><td>$60</td><td>$240</td><td>Europe</td><td>Debit Card</td></tr><tr><td>10070</td><td>3/10/2024</td><td>Books</td><td>The Great Gatsby by F. Scott Fitzgerald</td><td>2</td><td>$11</td><td>$22</td><td>North America</td><td>Credit Card</td></tr><tr><td>10071</td><td>3/11/2024</td><td>Beauty Products</td><td>Drunk Elephant C-Firma Day Serum</td><td>1</td><td>$78</td><td>$78</td><td>Europe</td><td>PayPal</td></tr><tr><td>10072</td><td>3/12/2024</td><td>Sports</td><td>Nike Metcon 6</td><td>3</td><td>$130</td><td>$390</td><td>Asia</td><td>Credit Card</td></tr><tr><td>10073</td><td>3/13/2024</td><td>Electronics</td><td>HP Spectre x360 Laptop</td><td>1</td><td>$1.600</td><td>$1.600</td><td>North America</td><td>Credit Card</td></tr><tr><td>10074</td><td>3/14/2024</td><td>Home Appliances</td><td>De'Longhi Magnifica Espresso Machine</td><td>1</td><td>$900</td><td>$900</td><td>Europe</td><td>PayPal</td></tr><tr><td>10075</td><td>3/15/2024</td><td>Clothing</td><td>Tommy Hilfiger Polo Shirt</td><td>5</td><td>$50</td><td>$250</td><td>Asia</td><td>Debit Card</td></tr><tr><td>10076</td><td>3/16/2024</td><td>Books</td><td>To Kill a Mockingbird by Harper Lee</td><td>4</td><td>$15</td><td>$60</td><td>North America</td><td>Credit Card</td></tr><tr><td>10077</td><td>3/17/2024</td><td>Beauty Products</td><td>Glossier Boy Brow</td><td>2</td><td>$16</td><td>$32</td><td>Asia</td><td>PayPal</td></tr><tr><td>10078</td><td>3/18/2024</td><td>Sports</td><td>Rogue Fitness Kettlebell</td><td>3</td><td>$70</td><td>$210</td><td>Asia</td><td>Credit Card</td></tr><tr><td>10079</td><td>3/19/2024</td><td>Electronics</td><td>Apple AirPods Pro</td><td>2</td><td>$250</td><td>$500</td><td>North America</td><td>Credit Card</td></tr><tr><td>10080</td><td>3/20/2024</td><td>Home Appliances</td><td>Dyson Pure Cool Link</td><td>1</td><td>$500</td><td>$500</td><td>Europe</td><td>PayPal</td></tr><tr><td>10081</td><td>3/21/2024</td><td>Clothing</td><td>Levi's Trucker Jacket</td><td>2</td><td>$90</td><td>$180</td><td>Asia</td><td>Debit Card</td></tr><tr><td>10082</td><td>3/22/2024</td><td>Books</td><td>The Hobbit by J.R.R. Tolkien</td><td>3</td><td>$13</td><td>$39</td><td>North America</td><td>Credit Card</td></tr><tr><td>10083</td><td>3/23/2024</td><td>Beauty Products</td><td>Charlotte Tilbury Magic Cream</td><td>1</td><td>$100</td><td>$100</td><td>North America</td><td>PayPal</td></tr><tr><td>10084</td><td>3/24/2024</td><td>Sports</td><td>Spalding NBA Street Basketball</td><td>6</td><td>$25</td><td>$150</td><td>Asia</td><td>Credit Card</td></tr><tr><td>10085</td><td>3/25/2024</td><td>Electronics</td><td>Ring Video Doorbell</td><td>1</td><td>$100</td><td>$100</td><td>North America</td><td>Credit Card</td></tr><tr><td>10086</td><td>3/26/2024</td><td>Home Appliances</td><td>LG OLED TV</td><td>2</td><td>$1.300</td><td>$2.600</td><td>Europe</td><td>PayPal</td></tr><tr><td>10087</td><td>3/27/2024</td><td>Clothing</td><td>Uniqlo Ultra Light Down Jacket</td><td>3</td><td>$80</td><td>$240</td><td>Asia</td><td>Debit Card</td></tr><tr><td>10088</td><td>3/28/2024</td><td>Books</td><td>The Catcher in the Rye by J.D. Salinger</td><td>4</td><td>$14</td><td>$56</td><td>North America</td><td>Credit Card</td></tr><tr><td>10089</td><td>3/29/2024</td><td>Beauty Products</td><td>Sunday Riley Good Genes</td><td>1</td><td>$105</td><td>$105</td><td>Europe</td><td>PayPal</td></tr><tr><td>10090</td><td>3/30/2024</td><td>Sports</td><td>On Running Cloud Shoes</td><td>2</td><td>$130</td><td>$260</td><td>Asia</td><td>Credit Card</td></tr><tr><td>10091</td><td>3/31/2024</td><td>Electronics</td><td>Logitech MX Master 3 Mouse</td><td>2</td><td>$100</td><td>$200</td><td>North America</td><td>Credit Card</td></tr><tr><td>10092</td><td>4/1/2024</td><td>Home Appliances</td><td>Instant Pot Duo Crisp</td><td>1</td><td>$180</td><td>$180</td><td>Europe</td><td>PayPal</td></tr><tr><td>10093</td><td>4/2/2024</td><td>Clothing</td><td>Adidas Originals Superstar Sneakers</td><td>4</td><td>$80</td><td>$320</td><td>Asia</td><td>Debit Card</td></tr><tr><td>10094</td><td>4/3/2024</td><td>Books</td><td>The Alchemist by Paulo Coelho</td><td>3</td><td>$15</td><td>$45</td><td>North America</td><td>Credit Card</td></tr><tr><td>10095</td><td>4/4/2024</td><td>Beauty Products</td><td>Tatcha The Water Cream</td><td>1</td><td>$68</td><td>$68</td><td>Europe</td><td>PayPal</td></tr><tr><td>10096</td><td>4/5/2024</td><td>Sports</td><td>Garmin Fenix 6X Pro</td><td>1</td><td>$1.000</td><td>$1.000</td><td>Europe</td><td>Credit Card</td></tr><tr><td>10097</td><td>4/6/2024</td><td>Electronics</td><td>Bose SoundLink Revolve+ Speaker</td><td>3</td><td>$300</td><td>$900</td><td>North America</td><td>Credit Card</td></tr><tr><td>10098</td><td>4/7/2024</td><td>Home Appliances</td><td>Vitamix Explorian Blender</td><td>1</td><td>$350</td><td>$350</td><td>Europe</td><td>PayPal</td></tr><tr><td>10099</td><td>4/8/2024</td><td>Clothing</td><td>Gap Essential Crewneck T-Shirt</td><td>6</td><td>$20</td><td>$120</td><td>Asia</td><td>Debit Card</td></tr></tbody></table></div>"
      ]
     },
     "metadata": {
      "application/vnd.databricks.v1+output": {
       "addedWidgets": {},
       "aggData": [],
       "aggError": "",
       "aggOverflow": false,
       "aggSchema": [],
       "aggSeriesLimitReached": false,
       "aggType": "",
       "arguments": {},
       "columnCustomDisplayInfos": {},
       "data": [
        [
         "10100",
         "4/9/2024",
         "Books",
         "The Power of Now by Eckhart Tolle",
         "2",
         "$13",
         "$26",
         "North America",
         "Credit Card"
        ],
        [
         "10101",
         "4/10/2024",
         "Beauty Products",
         "Kiehl's Midnight Recovery Concentrate",
         "1",
         "$82",
         "$82",
         "Europe",
         "PayPal"
        ],
        [
         "10102",
         "4/11/2024",
         "Sports",
         "Under Armour HOVR Sonic 4 Shoes",
         "2",
         "$110",
         "$220",
         "Asia",
         "Credit Card"
        ],
        [
         "10103",
         "4/12/2024",
         "Electronics",
         "Canon EOS R5 Camera",
         "1",
         "$3.900",
         "$3.900",
         "North America",
         "Credit Card"
        ],
        [
         "10104",
         "4/13/2024",
         "Home Appliances",
         "Shark IQ Robot Vacuum",
         "2",
         "$350",
         "$700",
         "Europe",
         "PayPal"
        ],
        [
         "10105",
         "4/14/2024",
         "Clothing",
         "H&M Slim Fit Jeans",
         "3",
         "$40",
         "$120",
         "Asia",
         "Debit Card"
        ],
        [
         "10106",
         "4/15/2024",
         "Books",
         "The Girl on the Train by Paula Hawkins",
         "4",
         "$11",
         "$44",
         "North America",
         "Credit Card"
        ],
        [
         "10107",
         "4/16/2024",
         "Beauty Products",
         "The Ordinary Niacinamide Serum",
         "1",
         "$7",
         "$7",
         "Asia",
         "PayPal"
        ],
        [
         "10108",
         "4/17/2024",
         "Sports",
         "Bowflex SelectTech 552 Dumbbells",
         "1",
         "$400",
         "$400",
         "Asia",
         "Credit Card"
        ],
        [
         "10109",
         "4/18/2024",
         "Electronics",
         "Google Nest Hub Max",
         "2",
         "$230",
         "$460",
         "North America",
         "Credit Card"
        ],
        [
         "10110",
         "4/19/2024",
         "Home Appliances",
         "Cuisinart Griddler Deluxe",
         "1",
         "$160",
         "$160",
         "Europe",
         "PayPal"
        ],
        [
         "10111",
         "4/20/2024",
         "Clothing",
         "Old Navy Relaxed-Fit T-Shirt",
         "4",
         "$15",
         "$60",
         "Asia",
         "Debit Card"
        ],
        [
         "10112",
         "4/21/2024",
         "Books",
         "Sapiens: A Brief History of Humankind by Yuval Noah Harari",
         "2",
         "$19",
         "$38",
         "North America",
         "Credit Card"
        ],
        [
         "10113",
         "4/22/2024",
         "Beauty Products",
         "Biore UV Aqua Rich Watery Essence Sunscreen",
         "1",
         "$15",
         "$15",
         "Europe",
         "PayPal"
        ],
        [
         "10114",
         "4/23/2024",
         "Sports",
         "Fitbit Versa 3",
         "3",
         "$230",
         "$690",
         "Asia",
         "Credit Card"
        ],
        [
         "10115",
         "4/24/2024",
         "Electronics",
         "Amazon Echo Show 10",
         "1",
         "$250",
         "$250",
         "North America",
         "Credit Card"
        ],
        [
         "10116",
         "4/25/2024",
         "Home Appliances",
         "Breville Smart Grill",
         "2",
         "$300",
         "$600",
         "Europe",
         "PayPal"
        ],
        [
         "10117",
         "4/26/2024",
         "Clothing",
         "Gap High Rise Skinny Jeans",
         "3",
         "$50",
         "$150",
         "Asia",
         "Debit Card"
        ],
        [
         "10118",
         "4/27/2024",
         "Books",
         "Atomic Habits by James Clear",
         "4",
         "$17",
         "$68",
         "North America",
         "Credit Card"
        ],
        [
         "10119",
         "4/28/2024",
         "Beauty Products",
         "CeraVe Hydrating Facial Cleanser",
         "2",
         "$15",
         "$30",
         "Europe",
         "PayPal"
        ],
        [
         "10120",
         "4/29/2024",
         "Sports",
         "YETI Hopper Flip Portable Cooler",
         "1",
         "$250",
         "$250",
         "Asia",
         "Credit Card"
        ],
        [
         "10121",
         "4/30/2024",
         "Electronics",
         "Apple iPad Air",
         "2",
         "$600",
         "$1.200",
         "North America",
         "Credit Card"
        ],
        [
         "10122",
         "5/1/2024",
         "Home Appliances",
         "Hamilton Beach FlexBrew Coffee Maker",
         "1",
         "$90",
         "$90",
         "Europe",
         "PayPal"
        ],
        [
         "10123",
         "5/2/2024",
         "Clothing",
         "Forever 21 Graphic Tee",
         "5",
         "$13",
         "$65",
         "Asia",
         "Debit Card"
        ],
        [
         "10124",
         "5/3/2024",
         "Books",
         "The Subtle Art of Not Giving a F*ck by Mark Manson",
         "3",
         "$15",
         "$45",
         "North America",
         "Credit Card"
        ],
        [
         "10125",
         "5/4/2024",
         "Beauty Products",
         "NARS Radiant Creamy Concealer",
         "1",
         "$30",
         "$30",
         "North America",
         "PayPal"
        ],
        [
         "10126",
         "5/5/2024",
         "Sports",
         "Yeti Roadie 24 Cooler",
         "1",
         "$200",
         "$200",
         "Asia",
         "Credit Card"
        ],
        [
         "10127",
         "5/6/2024",
         "Electronics",
         "Sony PlayStation 5",
         "1",
         "$500",
         "$500",
         "North America",
         "Credit Card"
        ],
        [
         "10128",
         "5/7/2024",
         "Home Appliances",
         "Dyson Supersonic Hair Dryer",
         "2",
         "$400",
         "$800",
         "Europe",
         "PayPal"
        ],
        [
         "10129",
         "5/8/2024",
         "Clothing",
         "Lululemon Align Leggings",
         "3",
         "$98",
         "$294",
         "Asia",
         "Debit Card"
        ],
        [
         "10130",
         "5/9/2024",
         "Books",
         "The Four Agreements by Don Miguel Ruiz",
         "2",
         "$9",
         "$18",
         "North America",
         "Credit Card"
        ],
        [
         "10131",
         "5/10/2024",
         "Beauty Products",
         "Fenty Beauty Killawatt Highlighter",
         "1",
         "$36",
         "$36",
         "Europe",
         "PayPal"
        ],
        [
         "10132",
         "5/11/2024",
         "Sports",
         "Hydro Flask Wide Mouth Water Bottle",
         "4",
         "$40",
         "$160",
         "Asia",
         "Credit Card"
        ],
        [
         "10133",
         "5/12/2024",
         "Electronics",
         "Microsoft Surface Laptop 4",
         "1",
         "$1.300",
         "$1.300",
         "North America",
         "Credit Card"
        ],
        [
         "10134",
         "5/13/2024",
         "Home Appliances",
         "Keurig K-Mini Coffee Maker",
         "2",
         "$80",
         "$160",
         "Europe",
         "PayPal"
        ],
        [
         "10135",
         "5/14/2024",
         "Clothing",
         "Gap Crewneck Sweatshirt",
         "4",
         "$35",
         "$140",
         "Asia",
         "Debit Card"
        ],
        [
         "10136",
         "5/15/2024",
         "Books",
         "Think and Grow Rich by Napoleon Hill",
         "3",
         "$10",
         "$30",
         "North America",
         "Credit Card"
        ],
        [
         "10137",
         "5/16/2024",
         "Beauty Products",
         "The Ordinary Hyaluronic Acid Serum",
         "1",
         "$7",
         "$7",
         "Europe",
         "PayPal"
        ],
        [
         "10138",
         "5/17/2024",
         "Sports",
         "Fitbit Inspire 2",
         "2",
         "$100",
         "$200",
         "Asia",
         "Credit Card"
        ],
        [
         "10139",
         "5/18/2024",
         "Electronics",
         "Samsung Odyssey G9 Gaming Monitor",
         "1",
         "$1.500",
         "$1.500",
         "North America",
         "Credit Card"
        ],
        [
         "10140",
         "5/19/2024",
         "Home Appliances",
         "Instant Pot Ultra",
         "1",
         "$140",
         "$140",
         "Europe",
         "PayPal"
        ],
        [
         "10141",
         "5/20/2024",
         "Clothing",
         "Adidas Essential Track Pants",
         "3",
         "$45",
         "$135",
         "Europe",
         "Debit Card"
        ],
        [
         "10142",
         "5/21/2024",
         "Books",
         "The Power of Habit by Charles Duhigg",
         "2",
         "$12",
         "$24",
         "North America",
         "Credit Card"
        ],
        [
         "10143",
         "5/22/2024",
         "Beauty Products",
         "Clinique Dramatically Different Moisturizing Lotion",
         "1",
         "$30",
         "$30",
         "Europe",
         "PayPal"
        ],
        [
         "10144",
         "5/23/2024",
         "Sports",
         "YETI Tundra 45 Cooler",
         "1",
         "$300",
         "$300",
         "Asia",
         "Credit Card"
        ],
        [
         "10145",
         "5/24/2024",
         "Electronics",
         "Apple AirPods Max",
         "1",
         "$549",
         "$549",
         "North America",
         "Credit Card"
        ],
        [
         "10146",
         "5/25/2024",
         "Home Appliances",
         "Cuisinart Coffee Center",
         "2",
         "$200",
         "$400",
         "Asia",
         "PayPal"
        ],
        [
         "10147",
         "5/26/2024",
         "Clothing",
         "Levi's Sherpa Trucker Jacket",
         "2",
         "$98",
         "$196",
         "Asia",
         "Debit Card"
        ],
        [
         "10148",
         "5/27/2024",
         "Books",
         "The Outsiders by S.E. Hinton",
         "3",
         "$11",
         "$33",
         "North America",
         "Credit Card"
        ],
        [
         "10149",
         "5/28/2024",
         "Beauty Products",
         "Laneige Water Sleeping Mask",
         "1",
         "$25",
         "$25",
         "Europe",
         "PayPal"
        ],
        [
         "10150",
         "5/29/2024",
         "Sports",
         "Bose SoundSport Wireless Earbuds",
         "2",
         "$150",
         "$300",
         "North America",
         "Credit Card"
        ],
        [
         "10151",
         "5/30/2024",
         "Electronics",
         "Sony WH-1000XM4 Headphones",
         "1",
         "$350",
         "$350",
         "North America",
         "Credit Card"
        ],
        [
         "10152",
         "5/31/2024",
         "Home Appliances",
         "Ninja Foodi Pressure Cooker",
         "2",
         "$200",
         "$400",
         "Europe",
         "PayPal"
        ],
        [
         "10001",
         "1/1/2024",
         "Electronics",
         "iPhone 14 Pro",
         "2",
         "$1.000",
         "$2.000",
         "North America",
         "Credit Card"
        ],
        [
         "10002",
         "1/2/2024",
         "Home Appliances",
         "Dyson V11 Vacuum",
         "1",
         "$500",
         "$500",
         "Asia",
         "PayPal"
        ],
        [
         "10003",
         "1/3/2024",
         "Clothing",
         "Levi's 501 Jeans",
         "3",
         "$70",
         "$210",
         "Asia",
         "Debit Card"
        ],
        [
         "10004",
         "1/4/2024",
         "Books",
         "The Da Vinci Code",
         "4",
         "$16",
         "$64",
         "North America",
         "Credit Card"
        ],
        [
         "10005",
         "1/5/2024",
         "Beauty Products",
         "Neutrogena Skincare Set",
         "1",
         "$90",
         "$90",
         "Europe",
         "PayPal"
        ],
        [
         "10006",
         "1/6/2024",
         "Sports",
         "Wilson Evolution Basketball",
         "5",
         "$30",
         "$150",
         "North America",
         "Credit Card"
        ],
        [
         "10007",
         "1/7/2024",
         "Electronics",
         "MacBook Pro 16-inch",
         "1",
         "$2.500",
         "$2.500",
         "North America",
         "Credit Card"
        ],
        [
         "10008",
         "1/8/2024",
         "Home Appliances",
         "Blueair Classic 480i",
         "2",
         "$600",
         "$1.200",
         "Europe",
         "PayPal"
        ],
        [
         "10009",
         "1/9/2024",
         "Clothing",
         "Nike Air Force 1",
         "6",
         "$90",
         "$540",
         "Asia",
         "Debit Card"
        ],
        [
         "10010",
         "1/10/2024",
         "Books",
         "Dune by Frank Herbert",
         "2",
         "$26",
         "$52",
         "Europe",
         "Credit Card"
        ],
        [
         "10011",
         "1/11/2024",
         "Beauty Products",
         "Chanel No. 5 Perfume",
         "1",
         "$130",
         "$130",
         "Europe",
         "PayPal"
        ],
        [
         "10012",
         "1/12/2024",
         "Sports",
         "Babolat Pure Drive Tennis Racket",
         "3",
         "$200",
         "$600",
         "Asia",
         "Credit Card"
        ],
        [
         "10013",
         "1/13/2024",
         "Electronics",
         "Samsung Galaxy Tab S8",
         "2",
         "$750",
         "$1.500",
         "North America",
         "Credit Card"
        ],
        [
         "10014",
         "1/14/2024",
         "Home Appliances",
         "Keurig K-Elite Coffee Maker",
         "1",
         "$190",
         "$190",
         "Europe",
         "PayPal"
        ],
        [
         "10015",
         "1/15/2024",
         "Clothing",
         "North Face Down Jacket",
         "2",
         "$250",
         "$500",
         "Asia",
         "Debit Card"
        ],
        [
         "10016",
         "1/16/2024",
         "Books",
         "Salt, Fat, Acid, Heat by Samin Nosrat",
         "3",
         "$36",
         "$108",
         "Asia",
         "Credit Card"
        ],
        [
         "10017",
         "1/17/2024",
         "Beauty Products",
         "Dyson Supersonic Hair Dryer",
         "1",
         "$400",
         "$400",
         "Europe",
         "PayPal"
        ],
        [
         "10018",
         "1/18/2024",
         "Sports",
         "Manduka PRO Yoga Mat",
         "4",
         "$120",
         "$480",
         "Asia",
         "Credit Card"
        ],
        [
         "10019",
         "1/19/2024",
         "Electronics",
         "Garmin Forerunner 945",
         "2",
         "$500",
         "$1.000",
         "North America",
         "Credit Card"
        ],
        [
         "10020",
         "1/20/2024",
         "Home Appliances",
         "Ninja Professional Blender",
         "1",
         "$100",
         "$100",
         "Europe",
         "PayPal"
        ],
        [
         "10021",
         "1/21/2024",
         "Clothing",
         "Zara Summer Dress",
         "3",
         "$60",
         "$180",
         "Asia",
         "Debit Card"
        ],
        [
         "10022",
         "1/22/2024",
         "Books",
         "Gone Girl by Gillian Flynn",
         "2",
         "$23",
         "$46",
         "North America",
         "Credit Card"
        ],
        [
         "10023",
         "1/23/2024",
         "Beauty Products",
         "Olay Regenerist Face Cream",
         "1",
         "$50",
         "$50",
         "Europe",
         "PayPal"
        ],
        [
         "10024",
         "1/24/2024",
         "Sports",
         "Adidas FIFA World Cup Football",
         "3",
         "$30",
         "$90",
         "Asia",
         "Credit Card"
        ],
        [
         "10025",
         "1/25/2024",
         "Electronics",
         "Bose QuietComfort 35 Headphones",
         "1",
         "$300",
         "$300",
         "North America",
         "Credit Card"
        ],
        [
         "10026",
         "1/26/2024",
         "Home Appliances",
         "Panasonic NN-SN966S Microwave",
         "1",
         "$180",
         "$180",
         "Europe",
         "PayPal"
        ],
        [
         "10027",
         "1/27/2024",
         "Clothing",
         "Adidas Ultraboost Shoes",
         "2",
         "$180",
         "$360",
         "Asia",
         "Debit Card"
        ],
        [
         "10028",
         "1/28/2024",
         "Books",
         "Pride and Prejudice by Jane Austen",
         "3",
         "$13",
         "$39",
         "North America",
         "Credit Card"
        ],
        [
         "10029",
         "1/29/2024",
         "Beauty Products",
         "MAC Ruby Woo Lipstick",
         "1",
         "$30",
         "$30",
         "Europe",
         "PayPal"
        ],
        [
         "10030",
         "1/30/2024",
         "Sports",
         "Nike Air Zoom Pegasus 37",
         "2",
         "$130",
         "$260",
         "Asia",
         "Credit Card"
        ],
        [
         "10031",
         "1/31/2024",
         "Electronics",
         "Sony WH-1000XM4 Headphones",
         "2",
         "$350",
         "$700",
         "North America",
         "Credit Card"
        ],
        [
         "10032",
         "2/1/2024",
         "Home Appliances",
         "Instant Pot Duo",
         "3",
         "$90",
         "$270",
         "Europe",
         "PayPal"
        ],
        [
         "10033",
         "2/2/2024",
         "Clothing",
         "Under Armour HeatGear T-Shirt",
         "5",
         "$30",
         "$150",
         "Asia",
         "Debit Card"
        ],
        [
         "10034",
         "2/3/2024",
         "Books",
         "1984 by George Orwell",
         "4",
         "$20",
         "$80",
         "North America",
         "Credit Card"
        ],
        [
         "10035",
         "2/4/2024",
         "Beauty Products",
         "L'Oreal Revitalift Serum",
         "2",
         "$40",
         "$80",
         "Europe",
         "PayPal"
        ],
        [
         "10036",
         "2/5/2024",
         "Sports",
         "Peloton Bike",
         "1",
         "$1.895",
         "$1.895",
         "Asia",
         "Credit Card"
        ],
        [
         "10037",
         "2/6/2024",
         "Electronics",
         "Apple Watch Series 8",
         "3",
         "$400",
         "$1.200",
         "North America",
         "Credit Card"
        ],
        [
         "10038",
         "2/7/2024",
         "Home Appliances",
         "Roomba i7+",
         "2",
         "$800",
         "$1.600",
         "Europe",
         "PayPal"
        ],
        [
         "10039",
         "2/8/2024",
         "Clothing",
         "Columbia Fleece Jacket",
         "4",
         "$60",
         "$240",
         "Asia",
         "Debit Card"
        ],
        [
         "10040",
         "2/9/2024",
         "Books",
         "Harry Potter and the Sorcerer's Stone",
         "3",
         "$25",
         "$75",
         "North America",
         "Credit Card"
        ],
        [
         "10041",
         "2/10/2024",
         "Beauty Products",
         "Estee Lauder Advanced Night Repair",
         "1",
         "$105",
         "$105",
         "Europe",
         "PayPal"
        ],
        [
         "10042",
         "2/11/2024",
         "Sports",
         "Fitbit Charge 5",
         "2",
         "$130",
         "$260",
         "Asia",
         "Credit Card"
        ],
        [
         "10043",
         "2/12/2024",
         "Electronics",
         "GoPro HERO10 Black",
         "3",
         "$400",
         "$1.200",
         "North America",
         "Credit Card"
        ],
        [
         "10044",
         "2/13/2024",
         "Home Appliances",
         "Nespresso VertuoPlus",
         "1",
         "$200",
         "$200",
         "North America",
         "PayPal"
        ],
        [
         "10045",
         "2/14/2024",
         "Clothing",
         "Patagonia Better Sweater",
         "2",
         "$140",
         "$280",
         "Asia",
         "Debit Card"
        ],
        [
         "10046",
         "2/15/2024",
         "Books",
         "Becoming by Michelle Obama",
         "4",
         "$33",
         "$130",
         "North America",
         "Credit Card"
        ],
        [
         "10047",
         "2/16/2024",
         "Beauty Products",
         "Clinique Moisture Surge",
         "1",
         "$52",
         "$52",
         "Europe",
         "PayPal"
        ],
        [
         "10048",
         "2/17/2024",
         "Sports",
         "Yeti Rambler Tumbler",
         "6",
         "$40",
         "$240",
         "Asia",
         "Credit Card"
        ],
        [
         "10049",
         "2/18/2024",
         "Electronics",
         "Kindle Paperwhite",
         "2",
         "$130",
         "$260",
         "North America",
         "Credit Card"
        ],
        [
         "10050",
         "2/19/2024",
         "Home Appliances",
         "Breville Smart Oven",
         "1",
         "$300",
         "$300",
         "Europe",
         "PayPal"
        ],
        [
         "10051",
         "2/20/2024",
         "Clothing",
         "Ray-Ban Aviator Sunglasses",
         "3",
         "$155",
         "$465",
         "Asia",
         "Debit Card"
        ],
        [
         "10052",
         "2/21/2024",
         "Books",
         "The Silent Patient by Alex Michaelides",
         "2",
         "$27",
         "$54",
         "North America",
         "Credit Card"
        ],
        [
         "10053",
         "2/22/2024",
         "Beauty Products",
         "Shiseido Ultimate Sun Protector",
         "1",
         "$49",
         "$49",
         "Europe",
         "PayPal"
        ],
        [
         "10054",
         "2/23/2024",
         "Sports",
         "Titleist Pro V1 Golf Balls",
         "5",
         "$50",
         "$250",
         "Asia",
         "Credit Card"
        ],
        [
         "10055",
         "2/24/2024",
         "Electronics",
         "Anker PowerCore Portable Charger",
         "4",
         "$60",
         "$240",
         "North America",
         "Credit Card"
        ],
        [
         "10056",
         "2/25/2024",
         "Home Appliances",
         "KitchenAid Artisan Stand Mixer",
         "1",
         "$500",
         "$500",
         "Asia",
         "PayPal"
        ],
        [
         "10057",
         "2/26/2024",
         "Clothing",
         "Calvin Klein Boxer Briefs",
         "5",
         "$30",
         "$150",
         "Asia",
         "Debit Card"
        ],
        [
         "10058",
         "2/27/2024",
         "Books",
         "Educated by Tara Westover",
         "3",
         "$28",
         "$84",
         "North America",
         "Credit Card"
        ],
        [
         "10059",
         "2/28/2024",
         "Beauty Products",
         "Anastasia Beverly Hills Brow Wiz",
         "2",
         "$23",
         "$46",
         "Europe",
         "PayPal"
        ],
        [
         "10060",
         "2/29/2024",
         "Sports",
         "Hyperice Hypervolt Massager",
         "1",
         "$349",
         "$349",
         "Asia",
         "Credit Card"
        ],
        [
         "10061",
         "3/1/2024",
         "Electronics",
         "Nintendo Switch",
         "3",
         "$300",
         "$900",
         "North America",
         "Credit Card"
        ],
        [
         "10062",
         "3/2/2024",
         "Home Appliances",
         "Philips Airfryer XXL",
         "2",
         "$200",
         "$400",
         "Europe",
         "PayPal"
        ],
        [
         "10063",
         "3/3/2024",
         "Clothing",
         "Hanes ComfortSoft T-Shirt",
         "10",
         "$10",
         "$100",
         "Asia",
         "Debit Card"
        ],
        [
         "10064",
         "3/4/2024",
         "Books",
         "Where the Crawdads Sing by Delia Owens",
         "4",
         "$19",
         "$76",
         "North America",
         "Credit Card"
        ],
        [
         "10065",
         "3/5/2024",
         "Beauty Products",
         "Lancome La Vie Est Belle",
         "1",
         "$102",
         "$102",
         "Europe",
         "PayPal"
        ],
        [
         "10066",
         "3/6/2024",
         "Sports",
         "Garmin Edge 530",
         "2",
         "$300",
         "$600",
         "Asia",
         "Credit Card"
        ],
        [
         "10067",
         "3/7/2024",
         "Electronics",
         "Samsung QLED 4K TV",
         "1",
         "$1.200",
         "$1.200",
         "North America",
         "Credit Card"
        ],
        [
         "10068",
         "3/8/2024",
         "Home Appliances",
         "Eufy RoboVac 11S",
         "3",
         "$220",
         "$660",
         "Europe",
         "PayPal"
        ],
        [
         "10069",
         "3/9/2024",
         "Clothing",
         "Puma Suede Classic Sneakers",
         "4",
         "$60",
         "$240",
         "Europe",
         "Debit Card"
        ],
        [
         "10070",
         "3/10/2024",
         "Books",
         "The Great Gatsby by F. Scott Fitzgerald",
         "2",
         "$11",
         "$22",
         "North America",
         "Credit Card"
        ],
        [
         "10071",
         "3/11/2024",
         "Beauty Products",
         "Drunk Elephant C-Firma Day Serum",
         "1",
         "$78",
         "$78",
         "Europe",
         "PayPal"
        ],
        [
         "10072",
         "3/12/2024",
         "Sports",
         "Nike Metcon 6",
         "3",
         "$130",
         "$390",
         "Asia",
         "Credit Card"
        ],
        [
         "10073",
         "3/13/2024",
         "Electronics",
         "HP Spectre x360 Laptop",
         "1",
         "$1.600",
         "$1.600",
         "North America",
         "Credit Card"
        ],
        [
         "10074",
         "3/14/2024",
         "Home Appliances",
         "De'Longhi Magnifica Espresso Machine",
         "1",
         "$900",
         "$900",
         "Europe",
         "PayPal"
        ],
        [
         "10075",
         "3/15/2024",
         "Clothing",
         "Tommy Hilfiger Polo Shirt",
         "5",
         "$50",
         "$250",
         "Asia",
         "Debit Card"
        ],
        [
         "10076",
         "3/16/2024",
         "Books",
         "To Kill a Mockingbird by Harper Lee",
         "4",
         "$15",
         "$60",
         "North America",
         "Credit Card"
        ],
        [
         "10077",
         "3/17/2024",
         "Beauty Products",
         "Glossier Boy Brow",
         "2",
         "$16",
         "$32",
         "Asia",
         "PayPal"
        ],
        [
         "10078",
         "3/18/2024",
         "Sports",
         "Rogue Fitness Kettlebell",
         "3",
         "$70",
         "$210",
         "Asia",
         "Credit Card"
        ],
        [
         "10079",
         "3/19/2024",
         "Electronics",
         "Apple AirPods Pro",
         "2",
         "$250",
         "$500",
         "North America",
         "Credit Card"
        ],
        [
         "10080",
         "3/20/2024",
         "Home Appliances",
         "Dyson Pure Cool Link",
         "1",
         "$500",
         "$500",
         "Europe",
         "PayPal"
        ],
        [
         "10081",
         "3/21/2024",
         "Clothing",
         "Levi's Trucker Jacket",
         "2",
         "$90",
         "$180",
         "Asia",
         "Debit Card"
        ],
        [
         "10082",
         "3/22/2024",
         "Books",
         "The Hobbit by J.R.R. Tolkien",
         "3",
         "$13",
         "$39",
         "North America",
         "Credit Card"
        ],
        [
         "10083",
         "3/23/2024",
         "Beauty Products",
         "Charlotte Tilbury Magic Cream",
         "1",
         "$100",
         "$100",
         "North America",
         "PayPal"
        ],
        [
         "10084",
         "3/24/2024",
         "Sports",
         "Spalding NBA Street Basketball",
         "6",
         "$25",
         "$150",
         "Asia",
         "Credit Card"
        ],
        [
         "10085",
         "3/25/2024",
         "Electronics",
         "Ring Video Doorbell",
         "1",
         "$100",
         "$100",
         "North America",
         "Credit Card"
        ],
        [
         "10086",
         "3/26/2024",
         "Home Appliances",
         "LG OLED TV",
         "2",
         "$1.300",
         "$2.600",
         "Europe",
         "PayPal"
        ],
        [
         "10087",
         "3/27/2024",
         "Clothing",
         "Uniqlo Ultra Light Down Jacket",
         "3",
         "$80",
         "$240",
         "Asia",
         "Debit Card"
        ],
        [
         "10088",
         "3/28/2024",
         "Books",
         "The Catcher in the Rye by J.D. Salinger",
         "4",
         "$14",
         "$56",
         "North America",
         "Credit Card"
        ],
        [
         "10089",
         "3/29/2024",
         "Beauty Products",
         "Sunday Riley Good Genes",
         "1",
         "$105",
         "$105",
         "Europe",
         "PayPal"
        ],
        [
         "10090",
         "3/30/2024",
         "Sports",
         "On Running Cloud Shoes",
         "2",
         "$130",
         "$260",
         "Asia",
         "Credit Card"
        ],
        [
         "10091",
         "3/31/2024",
         "Electronics",
         "Logitech MX Master 3 Mouse",
         "2",
         "$100",
         "$200",
         "North America",
         "Credit Card"
        ],
        [
         "10092",
         "4/1/2024",
         "Home Appliances",
         "Instant Pot Duo Crisp",
         "1",
         "$180",
         "$180",
         "Europe",
         "PayPal"
        ],
        [
         "10093",
         "4/2/2024",
         "Clothing",
         "Adidas Originals Superstar Sneakers",
         "4",
         "$80",
         "$320",
         "Asia",
         "Debit Card"
        ],
        [
         "10094",
         "4/3/2024",
         "Books",
         "The Alchemist by Paulo Coelho",
         "3",
         "$15",
         "$45",
         "North America",
         "Credit Card"
        ],
        [
         "10095",
         "4/4/2024",
         "Beauty Products",
         "Tatcha The Water Cream",
         "1",
         "$68",
         "$68",
         "Europe",
         "PayPal"
        ],
        [
         "10096",
         "4/5/2024",
         "Sports",
         "Garmin Fenix 6X Pro",
         "1",
         "$1.000",
         "$1.000",
         "Europe",
         "Credit Card"
        ],
        [
         "10097",
         "4/6/2024",
         "Electronics",
         "Bose SoundLink Revolve+ Speaker",
         "3",
         "$300",
         "$900",
         "North America",
         "Credit Card"
        ],
        [
         "10098",
         "4/7/2024",
         "Home Appliances",
         "Vitamix Explorian Blender",
         "1",
         "$350",
         "$350",
         "Europe",
         "PayPal"
        ],
        [
         "10099",
         "4/8/2024",
         "Clothing",
         "Gap Essential Crewneck T-Shirt",
         "6",
         "$20",
         "$120",
         "Asia",
         "Debit Card"
        ]
       ],
       "datasetInfos": [],
       "dbfsResultPath": null,
       "isJsonSchema": true,
       "metadata": {},
       "overflow": false,
       "plotOptions": {
        "customPlotOptions": {},
        "displayType": "table",
        "pivotAggregation": null,
        "pivotColumns": null,
        "xColumns": null,
        "yColumns": null
       },
       "removedWidgets": [],
       "schema": [
        {
         "metadata": "{}",
         "name": "Order ID",
         "type": "\"string\""
        },
        {
         "metadata": "{}",
         "name": "Date",
         "type": "\"string\""
        },
        {
         "metadata": "{}",
         "name": "Product Category",
         "type": "\"string\""
        },
        {
         "metadata": "{}",
         "name": "Product Name",
         "type": "\"string\""
        },
        {
         "metadata": "{}",
         "name": "Units Sold",
         "type": "\"string\""
        },
        {
         "metadata": "{}",
         "name": "Unit Price",
         "type": "\"string\""
        },
        {
         "metadata": "{}",
         "name": "Total Revenue",
         "type": "\"string\""
        },
        {
         "metadata": "{}",
         "name": "Region",
         "type": "\"string\""
        },
        {
         "metadata": "{}",
         "name": "Payment Method",
         "type": "\"string\""
        }
       ],
       "type": "table"
      }
     },
     "output_type": "display_data"
    }
   ],
   "source": [
    "%sql\n",
    "\n",
    "select * from `StoreData`"
   ]
  },
  {
   "cell_type": "code",
   "execution_count": 0,
   "metadata": {
    "application/vnd.databricks.v1+cell": {
     "cellMetadata": {
      "byteLimit": 2048000,
      "implicitDf": true,
      "rowLimit": 10000
     },
     "inputWidgets": {},
     "nuid": "b5f66379-6f7f-42ec-8e82-d0e0926a1721",
     "showTitle": false,
     "title": ""
    }
   },
   "outputs": [
    {
     "output_type": "display_data",
     "data": {
      "text/html": [
       "<style scoped>\n",
       "  .table-result-container {\n",
       "    max-height: 300px;\n",
       "    overflow: auto;\n",
       "  }\n",
       "  table, th, td {\n",
       "    border: 1px solid black;\n",
       "    border-collapse: collapse;\n",
       "  }\n",
       "  th, td {\n",
       "    padding: 5px;\n",
       "  }\n",
       "  th {\n",
       "    text-align: left;\n",
       "  }\n",
       "</style><div class='table-result-container'><table class='table-result'><thead style='background-color: white'><tr><th>Product Category</th><th>UnitsSold</th></tr></thead><tbody><tr><td>Sports</td><td>66.0</td></tr><tr><td>Electronics</td><td>46.0</td></tr><tr><td>Clothing</td><td>96.0</td></tr><tr><td>Beauty Products</td><td>29.0</td></tr><tr><td>Books</td><td>75.0</td></tr><tr><td>Home Appliances</td><td>40.0</td></tr></tbody></table></div>"
      ]
     },
     "metadata": {
      "application/vnd.databricks.v1+output": {
       "addedWidgets": {},
       "aggData": [],
       "aggError": "",
       "aggOverflow": false,
       "aggSchema": [],
       "aggSeriesLimitReached": false,
       "aggType": "",
       "arguments": {},
       "columnCustomDisplayInfos": {},
       "data": [
        [
         "Sports",
         66.0
        ],
        [
         "Electronics",
         46.0
        ],
        [
         "Clothing",
         96.0
        ],
        [
         "Beauty Products",
         29.0
        ],
        [
         "Books",
         75.0
        ],
        [
         "Home Appliances",
         40.0
        ]
       ],
       "datasetInfos": [],
       "dbfsResultPath": null,
       "isJsonSchema": true,
       "metadata": {},
       "overflow": false,
       "plotOptions": {
        "customPlotOptions": {},
        "displayType": "table",
        "pivotAggregation": null,
        "pivotColumns": null,
        "xColumns": null,
        "yColumns": null
       },
       "removedWidgets": [],
       "schema": [
        {
         "metadata": "{}",
         "name": "Product Category",
         "type": "\"string\""
        },
        {
         "metadata": "{}",
         "name": "UnitsSold",
         "type": "\"double\""
        }
       ],
       "type": "table"
      }
     },
     "output_type": "display_data"
    },
    {
     "output_type": "display_data",
     "data": {
      "text/plain": [
       "Databricks visualization. Run in Databricks to view."
      ]
     },
     "metadata": {
      "application/vnd.databricks.v1.subcommand+json": {
       "baseErrorDetails": null,
       "bindings": {},
       "collapsed": false,
       "command": "%sql WITH q AS (SELECT `Product Category`, SUM(`Units Sold`) AS UnitsSold\nFROM `StoreData`\nGROUP BY `Product Category`) SELECT `Product Category`,SUM(`UnitsSold`) `column_785295942` FROM q GROUP BY `Product Category`",
       "commandTitle": "Visualization 1",
       "commandType": "auto",
       "commandVersion": 0,
       "commentThread": [],
       "commentsVisible": false,
       "contentSha256Hex": null,
       "customPlotOptions": {
        "redashChart": [
         {
          "key": "type",
          "value": "CHART"
         },
         {
          "key": "options",
          "value": {
           "alignYAxesAtZero": true,
           "coefficient": 1,
           "columnConfigurationMap": {
            "x": {
             "column": "Product Category",
             "id": "column_785295941"
            },
            "y": [
             {
              "column": "UnitsSold",
              "id": "column_785295942",
              "transform": "SUM"
             }
            ]
           },
           "dateTimeFormat": "DD/MM/YYYY HH:mm",
           "direction": {
            "type": "counterclockwise"
           },
           "error_y": {
            "type": "data",
            "visible": true
           },
           "globalSeriesType": "column",
           "isAggregationOn": true,
           "legend": {
            "traceorder": "normal"
           },
           "missingValuesAsZero": true,
           "numberFormat": "0,0.[00000]",
           "percentFormat": "0[.]00%",
           "series": {
            "error_y": {
             "type": "data",
             "visible": true
            },
            "stacking": null
           },
           "seriesOptions": {
            "column_785295942": {
             "color": "#604FE9",
             "name": "UnitsSold",
             "yAxis": 0
            }
           },
           "showDataLabels": true,
           "sizemode": "diameter",
           "sortX": true,
           "sortY": true,
           "swappedAxes": true,
           "textFormat": "",
           "useAggregationsUi": true,
           "valuesOptions": {},
           "version": 2,
           "xAxis": {
            "labels": {
             "enabled": true
            },
            "title": {
             "text": null
            },
            "type": "-"
           },
           "yAxis": [
            {
             "type": "-"
            },
            {
             "opposite": true,
             "type": "-"
            }
           ]
          }
         }
        ]
       },
       "datasetPreviewNameToCmdIdMap": {},
       "diffDeletes": [],
       "diffInserts": [],
       "displayType": "redashChart",
       "error": null,
       "errorDetails": null,
       "errorSummary": null,
       "errorTraceType": null,
       "finishTime": 0,
       "globalVars": {},
       "guid": "",
       "height": "auto",
       "hideCommandCode": false,
       "hideCommandResult": false,
       "iPythonMetadata": null,
       "inputWidgets": {},
       "isLockedInExamMode": false,
       "latestUser": "a user",
       "latestUserId": null,
       "listResultMetadata": null,
       "metadata": {
        "byteLimit": 2048000,
        "implicitDf": true,
        "rowLimit": 10000
       },
       "nuid": "bac7c1bc-1159-46a6-84f6-df1a901b0dcd",
       "origId": 0,
       "parentHierarchy": [],
       "pivotAggregation": null,
       "pivotColumns": null,
       "position": 7.75,
       "resultDbfsErrorMessage": null,
       "resultDbfsStatus": "INLINED_IN_TREE",
       "results": null,
       "showCommandTitle": false,
       "startTime": 0,
       "state": "finished",
       "streamStates": {},
       "subcommandOptions": {
        "queryPlan": {
         "groups": [
          {
           "column": "Product Category",
           "type": "column"
          }
         ],
         "selects": [
          {
           "column": "Product Category",
           "type": "column"
          },
          {
           "alias": "column_785295942",
           "args": [
            {
             "column": "UnitsSold",
             "type": "column"
            }
           ],
           "function": "SUM",
           "type": "function"
          }
         ]
        }
       },
       "submitTime": 0,
       "subtype": "tableResultSubCmd.visualization",
       "tableResultIndex": 0,
       "useConsistentColors": false,
       "version": "CommandV1",
       "width": "auto",
       "workflows": [],
       "xColumns": null,
       "yColumns": null
      }
     },
     "output_type": "display_data"
    }
   ],
   "source": [
    "%sql\n",
    "\n",
    "SELECT `Product Category`, SUM(`Units Sold`) AS UnitsSold\n",
    "FROM `StoreData`\n",
    "GROUP BY `Product Category`;\n",
    "\n"
   ]
  },
  {
   "cell_type": "code",
   "execution_count": 0,
   "metadata": {
    "application/vnd.databricks.v1+cell": {
     "cellMetadata": {
      "byteLimit": 2048000,
      "implicitDf": true,
      "rowLimit": 10000
     },
     "inputWidgets": {},
     "nuid": "b1ddecc8-d1f4-4f43-9b3f-209a1901a419",
     "showTitle": false,
     "title": ""
    }
   },
   "outputs": [
    {
     "output_type": "display_data",
     "data": {
      "text/html": [
       "<style scoped>\n",
       "  .table-result-container {\n",
       "    max-height: 300px;\n",
       "    overflow: auto;\n",
       "  }\n",
       "  table, th, td {\n",
       "    border: 1px solid black;\n",
       "    border-collapse: collapse;\n",
       "  }\n",
       "  th, td {\n",
       "    padding: 5px;\n",
       "  }\n",
       "  th {\n",
       "    text-align: left;\n",
       "  }\n",
       "</style><div class='table-result-container'><table class='table-result'><thead style='background-color: white'><tr><th>Product Category</th><th>TotalRevenue</th></tr></thead><tbody><tr><td>Sports</td><td>null</td></tr><tr><td>Electronics</td><td>null</td></tr><tr><td>Clothing</td><td>null</td></tr><tr><td>Beauty Products</td><td>null</td></tr><tr><td>Books</td><td>null</td></tr><tr><td>Home Appliances</td><td>null</td></tr></tbody></table></div>"
      ]
     },
     "metadata": {
      "application/vnd.databricks.v1+output": {
       "addedWidgets": {},
       "aggData": [],
       "aggError": "",
       "aggOverflow": false,
       "aggSchema": [],
       "aggSeriesLimitReached": false,
       "aggType": "",
       "arguments": {},
       "columnCustomDisplayInfos": {},
       "data": [
        [
         "Sports",
         null
        ],
        [
         "Electronics",
         null
        ],
        [
         "Clothing",
         null
        ],
        [
         "Beauty Products",
         null
        ],
        [
         "Books",
         null
        ],
        [
         "Home Appliances",
         null
        ]
       ],
       "datasetInfos": [],
       "dbfsResultPath": null,
       "isJsonSchema": true,
       "metadata": {},
       "overflow": false,
       "plotOptions": {
        "customPlotOptions": {},
        "displayType": "table",
        "pivotAggregation": null,
        "pivotColumns": null,
        "xColumns": null,
        "yColumns": null
       },
       "removedWidgets": [],
       "schema": [
        {
         "metadata": "{}",
         "name": "Product Category",
         "type": "\"string\""
        },
        {
         "metadata": "{}",
         "name": "TotalRevenue",
         "type": "\"double\""
        }
       ],
       "type": "table"
      }
     },
     "output_type": "display_data"
    }
   ],
   "source": [
    "%sql\n",
    "\n",
    "SELECT `Product Category`, SUM(`Total Revenue`) AS TotalRevenue\n",
    "FROM `StoreData`\n",
    "GROUP BY `Product Category`;"
   ]
  },
  {
   "cell_type": "code",
   "execution_count": 0,
   "metadata": {
    "application/vnd.databricks.v1+cell": {
     "cellMetadata": {
      "byteLimit": 2048000,
      "implicitDf": true,
      "rowLimit": 10000
     },
     "inputWidgets": {},
     "nuid": "fd725565-02f0-44cb-a4d2-c89bb371b7d7",
     "showTitle": false,
     "title": ""
    }
   },
   "outputs": [
    {
     "output_type": "display_data",
     "data": {
      "text/html": [
       "<style scoped>\n",
       "  .table-result-container {\n",
       "    max-height: 300px;\n",
       "    overflow: auto;\n",
       "  }\n",
       "  table, th, td {\n",
       "    border: 1px solid black;\n",
       "    border-collapse: collapse;\n",
       "  }\n",
       "  th, td {\n",
       "    padding: 5px;\n",
       "  }\n",
       "  th {\n",
       "    text-align: left;\n",
       "  }\n",
       "</style><div class='table-result-container'><table class='table-result'><thead style='background-color: white'><tr><th>Product Category</th><th>TotalRevenue</th></tr></thead><tbody><tr><td>Sports</td><td>7011.90</td></tr><tr><td>Electronics</td><td>6229.10</td></tr><tr><td>Clothing</td><td>5685.00</td></tr><tr><td>Beauty Products</td><td>1779.00</td></tr><tr><td>Books</td><td>1356.00</td></tr><tr><td>Home Appliances</td><td>8685.40</td></tr></tbody></table></div>"
      ]
     },
     "metadata": {
      "application/vnd.databricks.v1+output": {
       "addedWidgets": {},
       "aggData": [],
       "aggError": "",
       "aggOverflow": false,
       "aggSchema": [],
       "aggSeriesLimitReached": false,
       "aggType": "",
       "arguments": {},
       "columnCustomDisplayInfos": {},
       "data": [
        [
         "Sports",
         "7011.90"
        ],
        [
         "Electronics",
         "6229.10"
        ],
        [
         "Clothing",
         "5685.00"
        ],
        [
         "Beauty Products",
         "1779.00"
        ],
        [
         "Books",
         "1356.00"
        ],
        [
         "Home Appliances",
         "8685.40"
        ]
       ],
       "datasetInfos": [],
       "dbfsResultPath": null,
       "isJsonSchema": true,
       "metadata": {},
       "overflow": false,
       "plotOptions": {
        "customPlotOptions": {},
        "displayType": "table",
        "pivotAggregation": null,
        "pivotColumns": null,
        "xColumns": null,
        "yColumns": null
       },
       "removedWidgets": [],
       "schema": [
        {
         "metadata": "{}",
         "name": "Product Category",
         "type": "\"string\""
        },
        {
         "metadata": "{}",
         "name": "TotalRevenue",
         "type": "\"decimal(20,2)\""
        }
       ],
       "type": "table"
      }
     },
     "output_type": "display_data"
    },
    {
     "output_type": "display_data",
     "data": {
      "text/plain": [
       "Databricks visualization. Run in Databricks to view."
      ]
     },
     "metadata": {
      "application/vnd.databricks.v1.subcommand+json": {
       "baseErrorDetails": null,
       "bindings": {},
       "collapsed": false,
       "command": "%sql WITH q AS (SELECT `Product Category`, SUM(CAST(REPLACE(`Total Revenue`, '$', '') AS DECIMAL(10, 2))) AS TotalRevenue\nFROM `StoreData`\nGROUP BY `Product Category`) SELECT `Product Category`,SUM(`TotalRevenue`) `column_785295947` FROM q GROUP BY `Product Category`",
       "commandTitle": "Visualization 1",
       "commandType": "auto",
       "commandVersion": 0,
       "commentThread": [],
       "commentsVisible": false,
       "contentSha256Hex": null,
       "customPlotOptions": {
        "redashChart": [
         {
          "key": "type",
          "value": "CHART"
         },
         {
          "key": "options",
          "value": {
           "alignYAxesAtZero": true,
           "coefficient": 1,
           "columnConfigurationMap": {
            "x": {
             "column": "Product Category",
             "id": "column_785295946"
            },
            "y": [
             {
              "column": "TotalRevenue",
              "id": "column_785295947",
              "transform": "SUM"
             }
            ]
           },
           "dateTimeFormat": "DD/MM/YYYY HH:mm",
           "direction": {
            "type": "counterclockwise"
           },
           "error_y": {
            "type": "data",
            "visible": true
           },
           "globalSeriesType": "column",
           "isAggregationOn": true,
           "legend": {
            "traceorder": "normal"
           },
           "missingValuesAsZero": true,
           "numberFormat": "0,0.[00000]",
           "percentFormat": "0[.]00%",
           "series": {
            "error_y": {
             "type": "data",
             "visible": true
            },
            "stacking": null
           },
           "seriesOptions": {
            "column_785295947": {
             "color": "#799CFF",
             "name": "TotalRevenue",
             "yAxis": 0
            }
           },
           "showDataLabels": true,
           "sizemode": "diameter",
           "sortX": true,
           "sortY": true,
           "swappedAxes": true,
           "textFormat": "",
           "useAggregationsUi": true,
           "valuesOptions": {},
           "version": 2,
           "xAxis": {
            "labels": {
             "enabled": true
            },
            "type": "-"
           },
           "yAxis": [
            {
             "type": "-"
            },
            {
             "opposite": true,
             "type": "-"
            }
           ]
          }
         }
        ]
       },
       "datasetPreviewNameToCmdIdMap": {},
       "diffDeletes": [],
       "diffInserts": [],
       "displayType": "redashChart",
       "error": null,
       "errorDetails": null,
       "errorSummary": null,
       "errorTraceType": null,
       "finishTime": 0,
       "globalVars": {},
       "guid": "",
       "height": "auto",
       "hideCommandCode": false,
       "hideCommandResult": false,
       "iPythonMetadata": null,
       "inputWidgets": {},
       "isLockedInExamMode": false,
       "latestUser": "a user",
       "latestUserId": null,
       "listResultMetadata": null,
       "metadata": {
        "byteLimit": 2048000,
        "implicitDf": true,
        "rowLimit": 10000
       },
       "nuid": "50dfd5a7-1178-4478-8ac0-e9d9a3001328",
       "origId": 0,
       "parentHierarchy": [],
       "pivotAggregation": null,
       "pivotColumns": null,
       "position": 11.375,
       "resultDbfsErrorMessage": null,
       "resultDbfsStatus": "INLINED_IN_TREE",
       "results": null,
       "showCommandTitle": false,
       "startTime": 0,
       "state": "finished",
       "streamStates": {},
       "subcommandOptions": {
        "queryPlan": {
         "groups": [
          {
           "column": "Product Category",
           "type": "column"
          }
         ],
         "selects": [
          {
           "column": "Product Category",
           "type": "column"
          },
          {
           "alias": "column_785295947",
           "args": [
            {
             "column": "TotalRevenue",
             "type": "column"
            }
           ],
           "function": "SUM",
           "type": "function"
          }
         ]
        }
       },
       "submitTime": 0,
       "subtype": "tableResultSubCmd.visualization",
       "tableResultIndex": 0,
       "useConsistentColors": false,
       "version": "CommandV1",
       "width": "auto",
       "workflows": [],
       "xColumns": null,
       "yColumns": null
      }
     },
     "output_type": "display_data"
    }
   ],
   "source": [
    "\n",
    "%sql\n",
    "\n",
    "SELECT `Product Category`, SUM(CAST(REPLACE(`Total Revenue`, '$', '') AS DECIMAL(10, 2))) AS TotalRevenue\n",
    "FROM `StoreData`\n",
    "GROUP BY `Product Category`;"
   ]
  },
  {
   "cell_type": "code",
   "execution_count": 0,
   "metadata": {
    "application/vnd.databricks.v1+cell": {
     "cellMetadata": {
      "byteLimit": 2048000,
      "implicitDf": true,
      "rowLimit": 10000
     },
     "inputWidgets": {},
     "nuid": "c46723cf-1ccd-4939-aba5-942108280d76",
     "showTitle": false,
     "title": ""
    }
   },
   "outputs": [
    {
     "output_type": "display_data",
     "data": {
      "text/html": [
       "<style scoped>\n",
       "  .table-result-container {\n",
       "    max-height: 300px;\n",
       "    overflow: auto;\n",
       "  }\n",
       "  table, th, td {\n",
       "    border: 1px solid black;\n",
       "    border-collapse: collapse;\n",
       "  }\n",
       "  th, td {\n",
       "    padding: 5px;\n",
       "  }\n",
       "  th {\n",
       "    text-align: left;\n",
       "  }\n",
       "</style><div class='table-result-container'><table class='table-result'><thead style='background-color: white'><tr><th>Product Category</th><th>Average Revenue</th></tr></thead><tbody><tr><td>Sports</td><td>280.5</td></tr><tr><td>Electronics</td><td>239.6</td></tr><tr><td>Clothing</td><td>227.4</td></tr><tr><td>Beauty Products</td><td>71.2</td></tr><tr><td>Books</td><td>54.2</td></tr><tr><td>Home Appliances</td><td>334.1</td></tr></tbody></table></div>"
      ]
     },
     "metadata": {
      "application/vnd.databricks.v1+output": {
       "addedWidgets": {},
       "aggData": [],
       "aggError": "",
       "aggOverflow": false,
       "aggSchema": [],
       "aggSeriesLimitReached": false,
       "aggType": "",
       "arguments": {},
       "columnCustomDisplayInfos": {},
       "data": [
        [
         "Sports",
         "280.5"
        ],
        [
         "Electronics",
         "239.6"
        ],
        [
         "Clothing",
         "227.4"
        ],
        [
         "Beauty Products",
         "71.2"
        ],
        [
         "Books",
         "54.2"
        ],
        [
         "Home Appliances",
         "334.1"
        ]
       ],
       "datasetInfos": [],
       "dbfsResultPath": null,
       "isJsonSchema": true,
       "metadata": {},
       "overflow": false,
       "plotOptions": {
        "customPlotOptions": {},
        "displayType": "table",
        "pivotAggregation": null,
        "pivotColumns": null,
        "xColumns": null,
        "yColumns": null
       },
       "removedWidgets": [],
       "schema": [
        {
         "metadata": "{}",
         "name": "Product Category",
         "type": "\"string\""
        },
        {
         "metadata": "{}",
         "name": "Average Revenue",
         "type": "\"decimal(10,1)\""
        }
       ],
       "type": "table"
      }
     },
     "output_type": "display_data"
    },
    {
     "output_type": "display_data",
     "data": {
      "text/plain": [
       "Databricks visualization. Run in Databricks to view."
      ]
     },
     "metadata": {
      "application/vnd.databricks.v1.subcommand+json": {
       "baseErrorDetails": null,
       "bindings": {},
       "collapsed": false,
       "command": "%sql WITH q AS (SELECT \n    `Product Category`, \n    ROUND(AVG(CAST(REPLACE(`Total Revenue`, '$', '') AS DECIMAL(10, 2))), 1) AS `Average Revenue`\nFROM \n    `StoreData`\nGROUP BY \n    `Product Category`) SELECT `Product Category`,SUM(`Average Revenue`) `column_7852959417` FROM q GROUP BY `Product Category`",
       "commandTitle": "Visualization 1",
       "commandType": "auto",
       "commandVersion": 0,
       "commentThread": [],
       "commentsVisible": false,
       "contentSha256Hex": null,
       "customPlotOptions": {
        "redashChart": [
         {
          "key": "type",
          "value": "CHART"
         },
         {
          "key": "options",
          "value": {
           "alignYAxesAtZero": true,
           "coefficient": 1,
           "columnConfigurationMap": {
            "x": {
             "column": "Product Category",
             "id": "column_7852959416"
            },
            "y": [
             {
              "column": "Average Revenue",
              "id": "column_7852959417",
              "transform": "SUM"
             }
            ]
           },
           "dateTimeFormat": "DD/MM/YYYY HH:mm",
           "direction": {
            "type": "counterclockwise"
           },
           "error_y": {
            "type": "data",
            "visible": true
           },
           "globalSeriesType": "column",
           "hideXAxis": false,
           "hideYAxes": false,
           "isAggregationOn": true,
           "legend": {
            "traceorder": "normal"
           },
           "missingValuesAsZero": true,
           "numberFormat": "0,0.[00000]",
           "percentFormat": "0[.]00%",
           "reverseX": false,
           "series": {
            "error_y": {
             "type": "data",
             "visible": true
            },
            "stacking": null
           },
           "seriesOptions": {
            "column_7852959417": {
             "color": "#B554FF",
             "name": "Average Revenue",
             "type": "column",
             "yAxis": 0
            }
           },
           "showDataLabels": true,
           "sizemode": "diameter",
           "sortX": true,
           "sortY": true,
           "swappedAxes": false,
           "textFormat": "",
           "useAggregationsUi": true,
           "valuesOptions": {},
           "version": 2,
           "xAxis": {
            "labels": {
             "enabled": true
            },
            "type": "-"
           },
           "yAxis": [
            {
             "type": "-"
            },
            {
             "opposite": true,
             "type": "-"
            }
           ]
          }
         }
        ]
       },
       "datasetPreviewNameToCmdIdMap": {},
       "diffDeletes": [],
       "diffInserts": [],
       "displayType": "redashChart",
       "error": null,
       "errorDetails": null,
       "errorSummary": null,
       "errorTraceType": null,
       "finishTime": 0,
       "globalVars": {},
       "guid": "",
       "height": "auto",
       "hideCommandCode": false,
       "hideCommandResult": false,
       "iPythonMetadata": null,
       "inputWidgets": {},
       "isLockedInExamMode": false,
       "latestUser": "a user",
       "latestUserId": null,
       "listResultMetadata": null,
       "metadata": {
        "byteLimit": 2048000,
        "implicitDf": true,
        "rowLimit": 10000
       },
       "nuid": "ffb6055f-3780-4b20-a228-3d81545ad30d",
       "origId": 0,
       "parentHierarchy": [],
       "pivotAggregation": null,
       "pivotColumns": null,
       "position": 12.28125,
       "resultDbfsErrorMessage": null,
       "resultDbfsStatus": "INLINED_IN_TREE",
       "results": null,
       "showCommandTitle": false,
       "startTime": 0,
       "state": "finished",
       "streamStates": {},
       "subcommandOptions": {
        "queryPlan": {
         "groups": [
          {
           "column": "Product Category",
           "type": "column"
          }
         ],
         "selects": [
          {
           "column": "Product Category",
           "type": "column"
          },
          {
           "alias": "column_7852959417",
           "args": [
            {
             "column": "Average Revenue",
             "type": "column"
            }
           ],
           "function": "SUM",
           "type": "function"
          }
         ]
        }
       },
       "submitTime": 0,
       "subtype": "tableResultSubCmd.visualization",
       "tableResultIndex": 0,
       "useConsistentColors": false,
       "version": "CommandV1",
       "width": "auto",
       "workflows": [],
       "xColumns": null,
       "yColumns": null
      }
     },
     "output_type": "display_data"
    }
   ],
   "source": [
    "%sql\n",
    "\n",
    "SELECT \n",
    "    `Product Category`, \n",
    "    ROUND(AVG(CAST(REPLACE(`Total Revenue`, '$', '') AS DECIMAL(10, 2))), 1) AS `Average Revenue`\n",
    "FROM \n",
    "    `StoreData`\n",
    "GROUP BY \n",
    "    `Product Category`;\n"
   ]
  },
  {
   "cell_type": "code",
   "execution_count": 0,
   "metadata": {
    "application/vnd.databricks.v1+cell": {
     "cellMetadata": {
      "byteLimit": 2048000,
      "implicitDf": true,
      "rowLimit": 10000
     },
     "inputWidgets": {},
     "nuid": "ad4f8eb9-87e2-4ca1-b5a5-2db5c49c6aa5",
     "showTitle": false,
     "title": ""
    }
   },
   "outputs": [
    {
     "output_type": "display_data",
     "data": {
      "text/html": [
       "<style scoped>\n",
       "  .table-result-container {\n",
       "    max-height: 300px;\n",
       "    overflow: auto;\n",
       "  }\n",
       "  table, th, td {\n",
       "    border: 1px solid black;\n",
       "    border-collapse: collapse;\n",
       "  }\n",
       "  th, td {\n",
       "    padding: 5px;\n",
       "  }\n",
       "  th {\n",
       "    text-align: left;\n",
       "  }\n",
       "</style><div class='table-result-container'><table class='table-result'><thead style='background-color: white'><tr><th>Product Name</th><th>Product Category</th><th>UnitsSold</th></tr></thead><tbody><tr><td>Hanes ComfortSoft T-Shirt</td><td>Clothing</td><td>10.0</td></tr><tr><td>Yeti Rambler Tumbler</td><td>Sports</td><td>6.0</td></tr><tr><td>Gap Essential Crewneck T-Shirt</td><td>Clothing</td><td>6.0</td></tr><tr><td>Nike Air Force 1</td><td>Clothing</td><td>6.0</td></tr><tr><td>Spalding NBA Street Basketball</td><td>Sports</td><td>6.0</td></tr><tr><td>Tommy Hilfiger Polo Shirt</td><td>Clothing</td><td>5.0</td></tr><tr><td>Forever 21 Graphic Tee</td><td>Clothing</td><td>5.0</td></tr><tr><td>Wilson Evolution Basketball</td><td>Sports</td><td>5.0</td></tr><tr><td>Titleist Pro V1 Golf Balls</td><td>Sports</td><td>5.0</td></tr><tr><td>Calvin Klein Boxer Briefs</td><td>Clothing</td><td>5.0</td></tr><tr><td>Under Armour HeatGear T-Shirt</td><td>Clothing</td><td>5.0</td></tr><tr><td>Anker PowerCore Portable Charger</td><td>Electronics</td><td>4.0</td></tr><tr><td>The Catcher in the Rye by J.D. Salinger</td><td>Books</td><td>4.0</td></tr><tr><td>Where the Crawdads Sing by Delia Owens</td><td>Books</td><td>4.0</td></tr><tr><td>Columbia Fleece Jacket</td><td>Clothing</td><td>4.0</td></tr><tr><td>Atomic Habits by James Clear</td><td>Books</td><td>4.0</td></tr><tr><td>The Girl on the Train by Paula Hawkins</td><td>Books</td><td>4.0</td></tr><tr><td>Hydro Flask Wide Mouth Water Bottle</td><td>Sports</td><td>4.0</td></tr><tr><td>Becoming by Michelle Obama</td><td>Books</td><td>4.0</td></tr><tr><td>To Kill a Mockingbird by Harper Lee</td><td>Books</td><td>4.0</td></tr><tr><td>Manduka PRO Yoga Mat</td><td>Sports</td><td>4.0</td></tr><tr><td>Puma Suede Classic Sneakers</td><td>Clothing</td><td>4.0</td></tr><tr><td>Adidas Originals Superstar Sneakers</td><td>Clothing</td><td>4.0</td></tr><tr><td>1984 by George Orwell</td><td>Books</td><td>4.0</td></tr><tr><td>The Da Vinci Code</td><td>Books</td><td>4.0</td></tr><tr><td>Gap Crewneck Sweatshirt</td><td>Clothing</td><td>4.0</td></tr><tr><td>Old Navy Relaxed-Fit T-Shirt</td><td>Clothing</td><td>4.0</td></tr><tr><td>Apple Watch Series 8</td><td>Electronics</td><td>3.0</td></tr><tr><td>Zara Summer Dress</td><td>Clothing</td><td>3.0</td></tr><tr><td>Rogue Fitness Kettlebell</td><td>Sports</td><td>3.0</td></tr><tr><td>Nintendo Switch</td><td>Electronics</td><td>3.0</td></tr><tr><td>Instant Pot Duo</td><td>Home Appliances</td><td>3.0</td></tr><tr><td>The Alchemist by Paulo Coelho</td><td>Books</td><td>3.0</td></tr><tr><td>The Hobbit by J.R.R. Tolkien</td><td>Books</td><td>3.0</td></tr><tr><td>Harry Potter and the Sorcerer's Stone</td><td>Books</td><td>3.0</td></tr><tr><td>Uniqlo Ultra Light Down Jacket</td><td>Clothing</td><td>3.0</td></tr><tr><td>The Subtle Art of Not Giving a F*ck by Mark Manson</td><td>Books</td><td>3.0</td></tr><tr><td>Eufy RoboVac 11S</td><td>Home Appliances</td><td>3.0</td></tr><tr><td>Bose SoundLink Revolve+ Speaker</td><td>Electronics</td><td>3.0</td></tr><tr><td>Adidas FIFA World Cup Football</td><td>Sports</td><td>3.0</td></tr><tr><td>Ray-Ban Aviator Sunglasses</td><td>Clothing</td><td>3.0</td></tr><tr><td>Babolat Pure Drive Tennis Racket</td><td>Sports</td><td>3.0</td></tr><tr><td>Lululemon Align Leggings</td><td>Clothing</td><td>3.0</td></tr><tr><td>Educated by Tara Westover</td><td>Books</td><td>3.0</td></tr><tr><td>Adidas Essential Track Pants</td><td>Clothing</td><td>3.0</td></tr><tr><td>H&M Slim Fit Jeans</td><td>Clothing</td><td>3.0</td></tr><tr><td>Gap High Rise Skinny Jeans</td><td>Clothing</td><td>3.0</td></tr><tr><td>Pride and Prejudice by Jane Austen</td><td>Books</td><td>3.0</td></tr><tr><td>The Outsiders by S.E. Hinton</td><td>Books</td><td>3.0</td></tr><tr><td>Fitbit Versa 3</td><td>Sports</td><td>3.0</td></tr><tr><td>Levi's 501 Jeans</td><td>Clothing</td><td>3.0</td></tr><tr><td>Nike Metcon 6</td><td>Sports</td><td>3.0</td></tr><tr><td>Salt, Fat, Acid, Heat by Samin Nosrat</td><td>Books</td><td>3.0</td></tr><tr><td>Sony WH-1000XM4 Headphones</td><td>Electronics</td><td>3.0</td></tr><tr><td>Think and Grow Rich by Napoleon Hill</td><td>Books</td><td>3.0</td></tr><tr><td>GoPro HERO10 Black</td><td>Electronics</td><td>3.0</td></tr><tr><td>Samsung Galaxy Tab S8</td><td>Electronics</td><td>2.0</td></tr><tr><td>Gone Girl by Gillian Flynn</td><td>Books</td><td>2.0</td></tr><tr><td>Roomba i7+</td><td>Home Appliances</td><td>2.0</td></tr><tr><td>The Power of Habit by Charles Duhigg</td><td>Books</td><td>2.0</td></tr><tr><td>Fitbit Inspire 2</td><td>Sports</td><td>2.0</td></tr><tr><td>Bose SoundSport Wireless Earbuds</td><td>Sports</td><td>2.0</td></tr><tr><td>Anastasia Beverly Hills Brow Wiz</td><td>Beauty Products</td><td>2.0</td></tr><tr><td>Ninja Foodi Pressure Cooker</td><td>Home Appliances</td><td>2.0</td></tr><tr><td>Kindle Paperwhite</td><td>Electronics</td><td>2.0</td></tr><tr><td>Google Nest Hub Max</td><td>Electronics</td><td>2.0</td></tr><tr><td>Breville Smart Grill</td><td>Home Appliances</td><td>2.0</td></tr><tr><td>Garmin Forerunner 945</td><td>Electronics</td><td>2.0</td></tr><tr><td>Adidas Ultraboost Shoes</td><td>Clothing</td><td>2.0</td></tr><tr><td>Nike Air Zoom Pegasus 37</td><td>Sports</td><td>2.0</td></tr><tr><td>Sapiens: A Brief History of Humankind by Yuval Noah Harari</td><td>Books</td><td>2.0</td></tr><tr><td>Dune by Frank Herbert</td><td>Books</td><td>2.0</td></tr><tr><td>Glossier Boy Brow</td><td>Beauty Products</td><td>2.0</td></tr><tr><td>L'Oreal Revitalift Serum</td><td>Beauty Products</td><td>2.0</td></tr><tr><td>Cuisinart Coffee Center</td><td>Home Appliances</td><td>2.0</td></tr><tr><td>Fitbit Charge 5</td><td>Sports</td><td>2.0</td></tr><tr><td>LG OLED TV</td><td>Home Appliances</td><td>2.0</td></tr><tr><td>Patagonia Better Sweater</td><td>Clothing</td><td>2.0</td></tr><tr><td>CeraVe Hydrating Facial Cleanser</td><td>Beauty Products</td><td>2.0</td></tr><tr><td>Levi's Sherpa Trucker Jacket</td><td>Clothing</td><td>2.0</td></tr><tr><td>On Running Cloud Shoes</td><td>Sports</td><td>2.0</td></tr><tr><td>Philips Airfryer XXL</td><td>Home Appliances</td><td>2.0</td></tr><tr><td>Garmin Edge 530</td><td>Sports</td><td>2.0</td></tr><tr><td>Shark IQ Robot Vacuum</td><td>Home Appliances</td><td>2.0</td></tr><tr><td>Dyson Supersonic Hair Dryer</td><td>Home Appliances</td><td>2.0</td></tr><tr><td>The Great Gatsby by F. Scott Fitzgerald</td><td>Books</td><td>2.0</td></tr><tr><td>Apple iPad Air</td><td>Electronics</td><td>2.0</td></tr><tr><td>Logitech MX Master 3 Mouse</td><td>Electronics</td><td>2.0</td></tr><tr><td>The Power of Now by Eckhart Tolle</td><td>Books</td><td>2.0</td></tr><tr><td>North Face Down Jacket</td><td>Clothing</td><td>2.0</td></tr><tr><td>Apple AirPods Pro</td><td>Electronics</td><td>2.0</td></tr><tr><td>Keurig K-Mini Coffee Maker</td><td>Home Appliances</td><td>2.0</td></tr><tr><td>Under Armour HOVR Sonic 4 Shoes</td><td>Sports</td><td>2.0</td></tr><tr><td>Levi's Trucker Jacket</td><td>Clothing</td><td>2.0</td></tr><tr><td>The Silent Patient by Alex Michaelides</td><td>Books</td><td>2.0</td></tr><tr><td>The Four Agreements by Don Miguel Ruiz</td><td>Books</td><td>2.0</td></tr><tr><td>Blueair Classic 480i</td><td>Home Appliances</td><td>2.0</td></tr><tr><td>iPhone 14 Pro</td><td>Electronics</td><td>2.0</td></tr><tr><td>Estee Lauder Advanced Night Repair</td><td>Beauty Products</td><td>1.0</td></tr><tr><td>Breville Smart Oven</td><td>Home Appliances</td><td>1.0</td></tr><tr><td>Dyson Supersonic Hair Dryer</td><td>Beauty Products</td><td>1.0</td></tr><tr><td>Biore UV Aqua Rich Watery Essence Sunscreen</td><td>Beauty Products</td><td>1.0</td></tr><tr><td>Peloton Bike</td><td>Sports</td><td>1.0</td></tr><tr><td>Nespresso VertuoPlus</td><td>Home Appliances</td><td>1.0</td></tr><tr><td>Hyperice Hypervolt Massager</td><td>Sports</td><td>1.0</td></tr><tr><td>Lancome La Vie Est Belle</td><td>Beauty Products</td><td>1.0</td></tr><tr><td>Bose QuietComfort 35 Headphones</td><td>Electronics</td><td>1.0</td></tr><tr><td>Charlotte Tilbury Magic Cream</td><td>Beauty Products</td><td>1.0</td></tr><tr><td>Instant Pot Ultra</td><td>Home Appliances</td><td>1.0</td></tr><tr><td>The Ordinary Niacinamide Serum</td><td>Beauty Products</td><td>1.0</td></tr><tr><td>NARS Radiant Creamy Concealer</td><td>Beauty Products</td><td>1.0</td></tr><tr><td>Sunday Riley Good Genes</td><td>Beauty Products</td><td>1.0</td></tr><tr><td>Ninja Professional Blender</td><td>Home Appliances</td><td>1.0</td></tr><tr><td>Vitamix Explorian Blender</td><td>Home Appliances</td><td>1.0</td></tr><tr><td>Kiehl's Midnight Recovery Concentrate</td><td>Beauty Products</td><td>1.0</td></tr><tr><td>Samsung Odyssey G9 Gaming Monitor</td><td>Electronics</td><td>1.0</td></tr><tr><td>Clinique Dramatically Different Moisturizing Lotion</td><td>Beauty Products</td><td>1.0</td></tr><tr><td>The Ordinary Hyaluronic Acid Serum</td><td>Beauty Products</td><td>1.0</td></tr><tr><td>Dyson V11 Vacuum</td><td>Home Appliances</td><td>1.0</td></tr><tr><td>Canon EOS R5 Camera</td><td>Electronics</td><td>1.0</td></tr><tr><td>Neutrogena Skincare Set</td><td>Beauty Products</td><td>1.0</td></tr><tr><td>Olay Regenerist Face Cream</td><td>Beauty Products</td><td>1.0</td></tr><tr><td>Tatcha The Water Cream</td><td>Beauty Products</td><td>1.0</td></tr><tr><td>Amazon Echo Show 10</td><td>Electronics</td><td>1.0</td></tr><tr><td>Laneige Water Sleeping Mask</td><td>Beauty Products</td><td>1.0</td></tr><tr><td>MacBook Pro 16-inch</td><td>Electronics</td><td>1.0</td></tr><tr><td>Dyson Pure Cool Link</td><td>Home Appliances</td><td>1.0</td></tr><tr><td>MAC Ruby Woo Lipstick</td><td>Beauty Products</td><td>1.0</td></tr><tr><td>De'Longhi Magnifica Espresso Machine</td><td>Home Appliances</td><td>1.0</td></tr><tr><td>Samsung QLED 4K TV</td><td>Electronics</td><td>1.0</td></tr><tr><td>Microsoft Surface Laptop 4</td><td>Electronics</td><td>1.0</td></tr><tr><td>Keurig K-Elite Coffee Maker</td><td>Home Appliances</td><td>1.0</td></tr><tr><td>Instant Pot Duo Crisp</td><td>Home Appliances</td><td>1.0</td></tr><tr><td>HP Spectre x360 Laptop</td><td>Electronics</td><td>1.0</td></tr><tr><td>Cuisinart Griddler Deluxe</td><td>Home Appliances</td><td>1.0</td></tr><tr><td>KitchenAid Artisan Stand Mixer</td><td>Home Appliances</td><td>1.0</td></tr><tr><td>Chanel No. 5 Perfume</td><td>Beauty Products</td><td>1.0</td></tr><tr><td>Ring Video Doorbell</td><td>Electronics</td><td>1.0</td></tr><tr><td>Drunk Elephant C-Firma Day Serum</td><td>Beauty Products</td><td>1.0</td></tr><tr><td>Shiseido Ultimate Sun Protector</td><td>Beauty Products</td><td>1.0</td></tr><tr><td>YETI Hopper Flip Portable Cooler</td><td>Sports</td><td>1.0</td></tr><tr><td>Hamilton Beach FlexBrew Coffee Maker</td><td>Home Appliances</td><td>1.0</td></tr><tr><td>Yeti Roadie 24 Cooler</td><td>Sports</td><td>1.0</td></tr><tr><td>Fenty Beauty Killawatt Highlighter</td><td>Beauty Products</td><td>1.0</td></tr><tr><td>Clinique Moisture Surge</td><td>Beauty Products</td><td>1.0</td></tr><tr><td>YETI Tundra 45 Cooler</td><td>Sports</td><td>1.0</td></tr><tr><td>Sony PlayStation 5</td><td>Electronics</td><td>1.0</td></tr><tr><td>Panasonic NN-SN966S Microwave</td><td>Home Appliances</td><td>1.0</td></tr><tr><td>Bowflex SelectTech 552 Dumbbells</td><td>Sports</td><td>1.0</td></tr><tr><td>Apple AirPods Max</td><td>Electronics</td><td>1.0</td></tr><tr><td>Garmin Fenix 6X Pro</td><td>Sports</td><td>1.0</td></tr></tbody></table></div>"
      ]
     },
     "metadata": {
      "application/vnd.databricks.v1+output": {
       "addedWidgets": {},
       "aggData": [],
       "aggError": "",
       "aggOverflow": false,
       "aggSchema": [],
       "aggSeriesLimitReached": false,
       "aggType": "",
       "arguments": {},
       "columnCustomDisplayInfos": {},
       "data": [
        [
         "Hanes ComfortSoft T-Shirt",
         "Clothing",
         10.0
        ],
        [
         "Yeti Rambler Tumbler",
         "Sports",
         6.0
        ],
        [
         "Gap Essential Crewneck T-Shirt",
         "Clothing",
         6.0
        ],
        [
         "Nike Air Force 1",
         "Clothing",
         6.0
        ],
        [
         "Spalding NBA Street Basketball",
         "Sports",
         6.0
        ],
        [
         "Tommy Hilfiger Polo Shirt",
         "Clothing",
         5.0
        ],
        [
         "Forever 21 Graphic Tee",
         "Clothing",
         5.0
        ],
        [
         "Wilson Evolution Basketball",
         "Sports",
         5.0
        ],
        [
         "Titleist Pro V1 Golf Balls",
         "Sports",
         5.0
        ],
        [
         "Calvin Klein Boxer Briefs",
         "Clothing",
         5.0
        ],
        [
         "Under Armour HeatGear T-Shirt",
         "Clothing",
         5.0
        ],
        [
         "Anker PowerCore Portable Charger",
         "Electronics",
         4.0
        ],
        [
         "The Catcher in the Rye by J.D. Salinger",
         "Books",
         4.0
        ],
        [
         "Where the Crawdads Sing by Delia Owens",
         "Books",
         4.0
        ],
        [
         "Columbia Fleece Jacket",
         "Clothing",
         4.0
        ],
        [
         "Atomic Habits by James Clear",
         "Books",
         4.0
        ],
        [
         "The Girl on the Train by Paula Hawkins",
         "Books",
         4.0
        ],
        [
         "Hydro Flask Wide Mouth Water Bottle",
         "Sports",
         4.0
        ],
        [
         "Becoming by Michelle Obama",
         "Books",
         4.0
        ],
        [
         "To Kill a Mockingbird by Harper Lee",
         "Books",
         4.0
        ],
        [
         "Manduka PRO Yoga Mat",
         "Sports",
         4.0
        ],
        [
         "Puma Suede Classic Sneakers",
         "Clothing",
         4.0
        ],
        [
         "Adidas Originals Superstar Sneakers",
         "Clothing",
         4.0
        ],
        [
         "1984 by George Orwell",
         "Books",
         4.0
        ],
        [
         "The Da Vinci Code",
         "Books",
         4.0
        ],
        [
         "Gap Crewneck Sweatshirt",
         "Clothing",
         4.0
        ],
        [
         "Old Navy Relaxed-Fit T-Shirt",
         "Clothing",
         4.0
        ],
        [
         "Apple Watch Series 8",
         "Electronics",
         3.0
        ],
        [
         "Zara Summer Dress",
         "Clothing",
         3.0
        ],
        [
         "Rogue Fitness Kettlebell",
         "Sports",
         3.0
        ],
        [
         "Nintendo Switch",
         "Electronics",
         3.0
        ],
        [
         "Instant Pot Duo",
         "Home Appliances",
         3.0
        ],
        [
         "The Alchemist by Paulo Coelho",
         "Books",
         3.0
        ],
        [
         "The Hobbit by J.R.R. Tolkien",
         "Books",
         3.0
        ],
        [
         "Harry Potter and the Sorcerer's Stone",
         "Books",
         3.0
        ],
        [
         "Uniqlo Ultra Light Down Jacket",
         "Clothing",
         3.0
        ],
        [
         "The Subtle Art of Not Giving a F*ck by Mark Manson",
         "Books",
         3.0
        ],
        [
         "Eufy RoboVac 11S",
         "Home Appliances",
         3.0
        ],
        [
         "Bose SoundLink Revolve+ Speaker",
         "Electronics",
         3.0
        ],
        [
         "Adidas FIFA World Cup Football",
         "Sports",
         3.0
        ],
        [
         "Ray-Ban Aviator Sunglasses",
         "Clothing",
         3.0
        ],
        [
         "Babolat Pure Drive Tennis Racket",
         "Sports",
         3.0
        ],
        [
         "Lululemon Align Leggings",
         "Clothing",
         3.0
        ],
        [
         "Educated by Tara Westover",
         "Books",
         3.0
        ],
        [
         "Adidas Essential Track Pants",
         "Clothing",
         3.0
        ],
        [
         "H&M Slim Fit Jeans",
         "Clothing",
         3.0
        ],
        [
         "Gap High Rise Skinny Jeans",
         "Clothing",
         3.0
        ],
        [
         "Pride and Prejudice by Jane Austen",
         "Books",
         3.0
        ],
        [
         "The Outsiders by S.E. Hinton",
         "Books",
         3.0
        ],
        [
         "Fitbit Versa 3",
         "Sports",
         3.0
        ],
        [
         "Levi's 501 Jeans",
         "Clothing",
         3.0
        ],
        [
         "Nike Metcon 6",
         "Sports",
         3.0
        ],
        [
         "Salt, Fat, Acid, Heat by Samin Nosrat",
         "Books",
         3.0
        ],
        [
         "Sony WH-1000XM4 Headphones",
         "Electronics",
         3.0
        ],
        [
         "Think and Grow Rich by Napoleon Hill",
         "Books",
         3.0
        ],
        [
         "GoPro HERO10 Black",
         "Electronics",
         3.0
        ],
        [
         "Samsung Galaxy Tab S8",
         "Electronics",
         2.0
        ],
        [
         "Gone Girl by Gillian Flynn",
         "Books",
         2.0
        ],
        [
         "Roomba i7+",
         "Home Appliances",
         2.0
        ],
        [
         "The Power of Habit by Charles Duhigg",
         "Books",
         2.0
        ],
        [
         "Fitbit Inspire 2",
         "Sports",
         2.0
        ],
        [
         "Bose SoundSport Wireless Earbuds",
         "Sports",
         2.0
        ],
        [
         "Anastasia Beverly Hills Brow Wiz",
         "Beauty Products",
         2.0
        ],
        [
         "Ninja Foodi Pressure Cooker",
         "Home Appliances",
         2.0
        ],
        [
         "Kindle Paperwhite",
         "Electronics",
         2.0
        ],
        [
         "Google Nest Hub Max",
         "Electronics",
         2.0
        ],
        [
         "Breville Smart Grill",
         "Home Appliances",
         2.0
        ],
        [
         "Garmin Forerunner 945",
         "Electronics",
         2.0
        ],
        [
         "Adidas Ultraboost Shoes",
         "Clothing",
         2.0
        ],
        [
         "Nike Air Zoom Pegasus 37",
         "Sports",
         2.0
        ],
        [
         "Sapiens: A Brief History of Humankind by Yuval Noah Harari",
         "Books",
         2.0
        ],
        [
         "Dune by Frank Herbert",
         "Books",
         2.0
        ],
        [
         "Glossier Boy Brow",
         "Beauty Products",
         2.0
        ],
        [
         "L'Oreal Revitalift Serum",
         "Beauty Products",
         2.0
        ],
        [
         "Cuisinart Coffee Center",
         "Home Appliances",
         2.0
        ],
        [
         "Fitbit Charge 5",
         "Sports",
         2.0
        ],
        [
         "LG OLED TV",
         "Home Appliances",
         2.0
        ],
        [
         "Patagonia Better Sweater",
         "Clothing",
         2.0
        ],
        [
         "CeraVe Hydrating Facial Cleanser",
         "Beauty Products",
         2.0
        ],
        [
         "Levi's Sherpa Trucker Jacket",
         "Clothing",
         2.0
        ],
        [
         "On Running Cloud Shoes",
         "Sports",
         2.0
        ],
        [
         "Philips Airfryer XXL",
         "Home Appliances",
         2.0
        ],
        [
         "Garmin Edge 530",
         "Sports",
         2.0
        ],
        [
         "Shark IQ Robot Vacuum",
         "Home Appliances",
         2.0
        ],
        [
         "Dyson Supersonic Hair Dryer",
         "Home Appliances",
         2.0
        ],
        [
         "The Great Gatsby by F. Scott Fitzgerald",
         "Books",
         2.0
        ],
        [
         "Apple iPad Air",
         "Electronics",
         2.0
        ],
        [
         "Logitech MX Master 3 Mouse",
         "Electronics",
         2.0
        ],
        [
         "The Power of Now by Eckhart Tolle",
         "Books",
         2.0
        ],
        [
         "North Face Down Jacket",
         "Clothing",
         2.0
        ],
        [
         "Apple AirPods Pro",
         "Electronics",
         2.0
        ],
        [
         "Keurig K-Mini Coffee Maker",
         "Home Appliances",
         2.0
        ],
        [
         "Under Armour HOVR Sonic 4 Shoes",
         "Sports",
         2.0
        ],
        [
         "Levi's Trucker Jacket",
         "Clothing",
         2.0
        ],
        [
         "The Silent Patient by Alex Michaelides",
         "Books",
         2.0
        ],
        [
         "The Four Agreements by Don Miguel Ruiz",
         "Books",
         2.0
        ],
        [
         "Blueair Classic 480i",
         "Home Appliances",
         2.0
        ],
        [
         "iPhone 14 Pro",
         "Electronics",
         2.0
        ],
        [
         "Estee Lauder Advanced Night Repair",
         "Beauty Products",
         1.0
        ],
        [
         "Breville Smart Oven",
         "Home Appliances",
         1.0
        ],
        [
         "Dyson Supersonic Hair Dryer",
         "Beauty Products",
         1.0
        ],
        [
         "Biore UV Aqua Rich Watery Essence Sunscreen",
         "Beauty Products",
         1.0
        ],
        [
         "Peloton Bike",
         "Sports",
         1.0
        ],
        [
         "Nespresso VertuoPlus",
         "Home Appliances",
         1.0
        ],
        [
         "Hyperice Hypervolt Massager",
         "Sports",
         1.0
        ],
        [
         "Lancome La Vie Est Belle",
         "Beauty Products",
         1.0
        ],
        [
         "Bose QuietComfort 35 Headphones",
         "Electronics",
         1.0
        ],
        [
         "Charlotte Tilbury Magic Cream",
         "Beauty Products",
         1.0
        ],
        [
         "Instant Pot Ultra",
         "Home Appliances",
         1.0
        ],
        [
         "The Ordinary Niacinamide Serum",
         "Beauty Products",
         1.0
        ],
        [
         "NARS Radiant Creamy Concealer",
         "Beauty Products",
         1.0
        ],
        [
         "Sunday Riley Good Genes",
         "Beauty Products",
         1.0
        ],
        [
         "Ninja Professional Blender",
         "Home Appliances",
         1.0
        ],
        [
         "Vitamix Explorian Blender",
         "Home Appliances",
         1.0
        ],
        [
         "Kiehl's Midnight Recovery Concentrate",
         "Beauty Products",
         1.0
        ],
        [
         "Samsung Odyssey G9 Gaming Monitor",
         "Electronics",
         1.0
        ],
        [
         "Clinique Dramatically Different Moisturizing Lotion",
         "Beauty Products",
         1.0
        ],
        [
         "The Ordinary Hyaluronic Acid Serum",
         "Beauty Products",
         1.0
        ],
        [
         "Dyson V11 Vacuum",
         "Home Appliances",
         1.0
        ],
        [
         "Canon EOS R5 Camera",
         "Electronics",
         1.0
        ],
        [
         "Neutrogena Skincare Set",
         "Beauty Products",
         1.0
        ],
        [
         "Olay Regenerist Face Cream",
         "Beauty Products",
         1.0
        ],
        [
         "Tatcha The Water Cream",
         "Beauty Products",
         1.0
        ],
        [
         "Amazon Echo Show 10",
         "Electronics",
         1.0
        ],
        [
         "Laneige Water Sleeping Mask",
         "Beauty Products",
         1.0
        ],
        [
         "MacBook Pro 16-inch",
         "Electronics",
         1.0
        ],
        [
         "Dyson Pure Cool Link",
         "Home Appliances",
         1.0
        ],
        [
         "MAC Ruby Woo Lipstick",
         "Beauty Products",
         1.0
        ],
        [
         "De'Longhi Magnifica Espresso Machine",
         "Home Appliances",
         1.0
        ],
        [
         "Samsung QLED 4K TV",
         "Electronics",
         1.0
        ],
        [
         "Microsoft Surface Laptop 4",
         "Electronics",
         1.0
        ],
        [
         "Keurig K-Elite Coffee Maker",
         "Home Appliances",
         1.0
        ],
        [
         "Instant Pot Duo Crisp",
         "Home Appliances",
         1.0
        ],
        [
         "HP Spectre x360 Laptop",
         "Electronics",
         1.0
        ],
        [
         "Cuisinart Griddler Deluxe",
         "Home Appliances",
         1.0
        ],
        [
         "KitchenAid Artisan Stand Mixer",
         "Home Appliances",
         1.0
        ],
        [
         "Chanel No. 5 Perfume",
         "Beauty Products",
         1.0
        ],
        [
         "Ring Video Doorbell",
         "Electronics",
         1.0
        ],
        [
         "Drunk Elephant C-Firma Day Serum",
         "Beauty Products",
         1.0
        ],
        [
         "Shiseido Ultimate Sun Protector",
         "Beauty Products",
         1.0
        ],
        [
         "YETI Hopper Flip Portable Cooler",
         "Sports",
         1.0
        ],
        [
         "Hamilton Beach FlexBrew Coffee Maker",
         "Home Appliances",
         1.0
        ],
        [
         "Yeti Roadie 24 Cooler",
         "Sports",
         1.0
        ],
        [
         "Fenty Beauty Killawatt Highlighter",
         "Beauty Products",
         1.0
        ],
        [
         "Clinique Moisture Surge",
         "Beauty Products",
         1.0
        ],
        [
         "YETI Tundra 45 Cooler",
         "Sports",
         1.0
        ],
        [
         "Sony PlayStation 5",
         "Electronics",
         1.0
        ],
        [
         "Panasonic NN-SN966S Microwave",
         "Home Appliances",
         1.0
        ],
        [
         "Bowflex SelectTech 552 Dumbbells",
         "Sports",
         1.0
        ],
        [
         "Apple AirPods Max",
         "Electronics",
         1.0
        ],
        [
         "Garmin Fenix 6X Pro",
         "Sports",
         1.0
        ]
       ],
       "datasetInfos": [],
       "dbfsResultPath": null,
       "isJsonSchema": true,
       "metadata": {},
       "overflow": false,
       "plotOptions": {
        "customPlotOptions": {},
        "displayType": "table",
        "pivotAggregation": null,
        "pivotColumns": null,
        "xColumns": null,
        "yColumns": null
       },
       "removedWidgets": [],
       "schema": [
        {
         "metadata": "{}",
         "name": "Product Name",
         "type": "\"string\""
        },
        {
         "metadata": "{}",
         "name": "Product Category",
         "type": "\"string\""
        },
        {
         "metadata": "{}",
         "name": "UnitsSold",
         "type": "\"double\""
        }
       ],
       "type": "table"
      }
     },
     "output_type": "display_data"
    }
   ],
   "source": [
    "%sql\n",
    "\n",
    "SELECT `Product Name`, `Product Category`, SUM(`Units Sold`) AS UnitsSold\n",
    "FROM `StoreData`\n",
    "GROUP BY `Product Name`, `Product Category`\n",
    "ORDER BY UnitsSold DESC;\n",
    "\n"
   ]
  },
  {
   "cell_type": "code",
   "execution_count": 0,
   "metadata": {
    "application/vnd.databricks.v1+cell": {
     "cellMetadata": {
      "byteLimit": 2048000,
      "implicitDf": true,
      "rowLimit": 10000
     },
     "inputWidgets": {},
     "nuid": "2e944270-7635-4902-ab3d-1a7eec284359",
     "showTitle": false,
     "title": ""
    }
   },
   "outputs": [
    {
     "output_type": "display_data",
     "data": {
      "text/html": [
       "<style scoped>\n",
       "  .table-result-container {\n",
       "    max-height: 300px;\n",
       "    overflow: auto;\n",
       "  }\n",
       "  table, th, td {\n",
       "    border: 1px solid black;\n",
       "    border-collapse: collapse;\n",
       "  }\n",
       "  th, td {\n",
       "    padding: 5px;\n",
       "  }\n",
       "  th {\n",
       "    text-align: left;\n",
       "  }\n",
       "</style><div class='table-result-container'><table class='table-result'><thead style='background-color: white'><tr><th>Region</th><th>RegionCount</th></tr></thead><tbody><tr><td>Europe</td><td>47</td></tr><tr><td>North America</td><td>54</td></tr><tr><td>Asia</td><td>51</td></tr></tbody></table></div>"
      ]
     },
     "metadata": {
      "application/vnd.databricks.v1+output": {
       "addedWidgets": {},
       "aggData": [],
       "aggError": "",
       "aggOverflow": false,
       "aggSchema": [],
       "aggSeriesLimitReached": false,
       "aggType": "",
       "arguments": {},
       "columnCustomDisplayInfos": {},
       "data": [
        [
         "Europe",
         47
        ],
        [
         "North America",
         54
        ],
        [
         "Asia",
         51
        ]
       ],
       "datasetInfos": [],
       "dbfsResultPath": null,
       "isJsonSchema": true,
       "metadata": {},
       "overflow": false,
       "plotOptions": {
        "customPlotOptions": {},
        "displayType": "table",
        "pivotAggregation": null,
        "pivotColumns": null,
        "xColumns": null,
        "yColumns": null
       },
       "removedWidgets": [],
       "schema": [
        {
         "metadata": "{}",
         "name": "Region",
         "type": "\"string\""
        },
        {
         "metadata": "{}",
         "name": "RegionCount",
         "type": "\"long\""
        }
       ],
       "type": "table"
      }
     },
     "output_type": "display_data"
    },
    {
     "output_type": "display_data",
     "data": {
      "text/plain": [
       "Databricks visualization. Run in Databricks to view."
      ]
     },
     "metadata": {
      "application/vnd.databricks.v1.subcommand+json": {
       "baseErrorDetails": null,
       "bindings": {},
       "collapsed": false,
       "command": "%sql WITH q AS (SELECT `Region`, COUNT(*) AS `RegionCount`\nFROM `StoreData`\nGROUP BY `Region`) SELECT `Region`,SUM(`RegionCount`) `column_5c097d577` FROM q GROUP BY `Region`",
       "commandTitle": "Visualization 1",
       "commandType": "auto",
       "commandVersion": 0,
       "commentThread": [],
       "commentsVisible": false,
       "contentSha256Hex": null,
       "customPlotOptions": {
        "redashChart": [
         {
          "key": "type",
          "value": "CHART"
         },
         {
          "key": "options",
          "value": {
           "alignYAxesAtZero": true,
           "coefficient": 1,
           "columnConfigurationMap": {
            "x": {
             "column": "Region",
             "id": "column_5c097d576"
            },
            "y": [
             {
              "column": "RegionCount",
              "id": "column_5c097d577",
              "transform": "SUM"
             }
            ]
           },
           "dateTimeFormat": "DD/MM/YYYY HH:mm",
           "direction": {
            "type": "counterclockwise"
           },
           "error_y": {
            "type": "data",
            "visible": true
           },
           "globalSeriesType": "pie",
           "isAggregationOn": true,
           "legend": {
            "traceorder": "normal"
           },
           "missingValuesAsZero": true,
           "numberFormat": "0,0.[00000]",
           "percentFormat": "0[.]00%",
           "series": {
            "error_y": {
             "type": "data",
             "visible": true
            },
            "stacking": null
           },
           "seriesOptions": {
            "column_5c097d577": {
             "name": "RegionCount",
             "type": "pie",
             "yAxis": 0
            }
           },
           "showDataLabels": true,
           "sizemode": "diameter",
           "sortX": true,
           "sortY": true,
           "swappedAxes": false,
           "textFormat": "",
           "useAggregationsUi": true,
           "valuesOptions": {
            "Asia": {
             "color": "#604FE9"
            },
            "Europe": {
             "color": "#799CFF"
            },
            "North America": {
             "color": "#B554FF"
            }
           },
           "version": 2,
           "xAxis": {
            "labels": {
             "enabled": true
            },
            "type": "-"
           },
           "yAxis": [
            {
             "type": "-"
            },
            {
             "opposite": true,
             "type": "-"
            }
           ]
          }
         }
        ]
       },
       "datasetPreviewNameToCmdIdMap": {},
       "diffDeletes": [],
       "diffInserts": [],
       "displayType": "redashChart",
       "error": null,
       "errorDetails": null,
       "errorSummary": null,
       "errorTraceType": null,
       "finishTime": 0,
       "globalVars": {},
       "guid": "",
       "height": "auto",
       "hideCommandCode": false,
       "hideCommandResult": false,
       "iPythonMetadata": null,
       "inputWidgets": {},
       "isLockedInExamMode": false,
       "latestUser": "a user",
       "latestUserId": null,
       "listResultMetadata": null,
       "metadata": {},
       "nuid": "fdc04cd1-7598-4574-b3f3-5847abe22fdc",
       "origId": 0,
       "parentHierarchy": [],
       "pivotAggregation": null,
       "pivotColumns": null,
       "position": 14.09375,
       "resultDbfsErrorMessage": null,
       "resultDbfsStatus": "INLINED_IN_TREE",
       "results": null,
       "showCommandTitle": false,
       "startTime": 0,
       "state": "input",
       "streamStates": {},
       "subcommandOptions": {
        "queryPlan": {
         "groups": [
          {
           "column": "Region",
           "type": "column"
          }
         ],
         "selects": [
          {
           "column": "Region",
           "type": "column"
          },
          {
           "alias": "column_5c097d577",
           "args": [
            {
             "column": "RegionCount",
             "type": "column"
            }
           ],
           "function": "SUM",
           "type": "function"
          }
         ]
        }
       },
       "submitTime": 0,
       "subtype": "tableResultSubCmd.visualization",
       "tableResultIndex": 0,
       "useConsistentColors": false,
       "version": "CommandV1",
       "width": "auto",
       "workflows": [],
       "xColumns": null,
       "yColumns": null
      }
     },
     "output_type": "display_data"
    }
   ],
   "source": [
    "%sql\n",
    "\n",
    "SELECT `Region`, COUNT(*) AS `RegionCount`\n",
    "FROM `StoreData`\n",
    "GROUP BY `Region`;\n"
   ]
  },
  {
   "cell_type": "code",
   "execution_count": 0,
   "metadata": {
    "application/vnd.databricks.v1+cell": {
     "cellMetadata": {
      "byteLimit": 2048000,
      "implicitDf": true,
      "rowLimit": 10000
     },
     "inputWidgets": {},
     "nuid": "ae84b29d-9e76-4747-9795-df4aeac53ee3",
     "showTitle": false,
     "title": ""
    }
   },
   "outputs": [
    {
     "output_type": "display_data",
     "data": {
      "text/html": [
       "<style scoped>\n",
       "  .table-result-container {\n",
       "    max-height: 300px;\n",
       "    overflow: auto;\n",
       "  }\n",
       "  table, th, td {\n",
       "    border: 1px solid black;\n",
       "    border-collapse: collapse;\n",
       "  }\n",
       "  th, td {\n",
       "    padding: 5px;\n",
       "  }\n",
       "  th {\n",
       "    text-align: left;\n",
       "  }\n",
       "</style><div class='table-result-container'><table class='table-result'><thead style='background-color: white'><tr><th>Payment Method</th><th>TotalRevenue</th></tr></thead><tbody><tr><td>Credit Card</td><td>14597.00</td></tr><tr><td>PayPal</td><td>10464.40</td></tr><tr><td>Debit Card</td><td>5685.00</td></tr></tbody></table></div>"
      ]
     },
     "metadata": {
      "application/vnd.databricks.v1+output": {
       "addedWidgets": {},
       "aggData": [],
       "aggError": "",
       "aggOverflow": false,
       "aggSchema": [],
       "aggSeriesLimitReached": false,
       "aggType": "",
       "arguments": {},
       "columnCustomDisplayInfos": {},
       "data": [
        [
         "Credit Card",
         "14597.00"
        ],
        [
         "PayPal",
         "10464.40"
        ],
        [
         "Debit Card",
         "5685.00"
        ]
       ],
       "datasetInfos": [],
       "dbfsResultPath": null,
       "isJsonSchema": true,
       "metadata": {},
       "overflow": false,
       "plotOptions": {
        "customPlotOptions": {},
        "displayType": "table",
        "pivotAggregation": null,
        "pivotColumns": null,
        "xColumns": null,
        "yColumns": null
       },
       "removedWidgets": [],
       "schema": [
        {
         "metadata": "{}",
         "name": "Payment Method",
         "type": "\"string\""
        },
        {
         "metadata": "{}",
         "name": "TotalRevenue",
         "type": "\"decimal(20,2)\""
        }
       ],
       "type": "table"
      }
     },
     "output_type": "display_data"
    },
    {
     "output_type": "display_data",
     "data": {
      "text/plain": [
       "Databricks visualization. Run in Databricks to view."
      ]
     },
     "metadata": {
      "application/vnd.databricks.v1.subcommand+json": {
       "baseErrorDetails": null,
       "bindings": {},
       "collapsed": false,
       "command": "%sql WITH q AS (SELECT `Payment Method`, SUM(CAST(REPLACE(`Total Revenue`, '$', '') AS DECIMAL(10, 2))) AS TotalRevenue\nFROM `StoreData`\nGROUP BY `Payment Method`) SELECT `Payment Method`,SUM(`TotalRevenue`) `column_5c097d5712` FROM q GROUP BY `Payment Method`",
       "commandTitle": "Visualization 1",
       "commandType": "auto",
       "commandVersion": 0,
       "commentThread": [],
       "commentsVisible": false,
       "contentSha256Hex": null,
       "customPlotOptions": {
        "redashChart": [
         {
          "key": "type",
          "value": "CHART"
         },
         {
          "key": "options",
          "value": {
           "alignYAxesAtZero": true,
           "coefficient": 1,
           "columnConfigurationMap": {
            "x": {
             "column": "Payment Method",
             "id": "column_5c097d5711"
            },
            "y": [
             {
              "column": "TotalRevenue",
              "id": "column_5c097d5712",
              "transform": "SUM"
             }
            ]
           },
           "dateTimeFormat": "DD/MM/YYYY HH:mm",
           "direction": {
            "type": "counterclockwise"
           },
           "error_y": {
            "type": "data",
            "visible": true
           },
           "globalSeriesType": "pie",
           "isAggregationOn": true,
           "legend": {
            "traceorder": "normal"
           },
           "missingValuesAsZero": true,
           "numberFormat": "0,0.[00000]",
           "percentFormat": "0[.]00%",
           "series": {
            "error_y": {
             "type": "data",
             "visible": true
            },
            "stacking": null
           },
           "seriesOptions": {
            "column_5c097d5712": {
             "name": "TotalRevenue",
             "type": "pie",
             "yAxis": 0
            }
           },
           "showDataLabels": true,
           "sizemode": "diameter",
           "sortX": true,
           "sortY": true,
           "swappedAxes": false,
           "textFormat": "",
           "useAggregationsUi": true,
           "valuesOptions": {
            "Credit Card": {
             "color": "#799CFF"
            },
            "Debit Card": {
             "color": "#604FE9"
            },
            "PayPal": {
             "color": "#B554FF"
            }
           },
           "version": 2,
           "xAxis": {
            "labels": {
             "enabled": true
            },
            "type": "-"
           },
           "yAxis": [
            {
             "type": "-"
            },
            {
             "opposite": true,
             "type": "-"
            }
           ]
          }
         }
        ]
       },
       "datasetPreviewNameToCmdIdMap": {},
       "diffDeletes": [],
       "diffInserts": [],
       "displayType": "redashChart",
       "error": null,
       "errorDetails": null,
       "errorSummary": null,
       "errorTraceType": null,
       "finishTime": 0,
       "globalVars": {},
       "guid": "",
       "height": "auto",
       "hideCommandCode": false,
       "hideCommandResult": false,
       "iPythonMetadata": null,
       "inputWidgets": {},
       "isLockedInExamMode": false,
       "latestUser": "a user",
       "latestUserId": null,
       "listResultMetadata": null,
       "metadata": {},
       "nuid": "07e55bc2-c81a-4436-90d8-80c4d9c9e049",
       "origId": 0,
       "parentHierarchy": [],
       "pivotAggregation": null,
       "pivotColumns": null,
       "position": 14.546875,
       "resultDbfsErrorMessage": null,
       "resultDbfsStatus": "INLINED_IN_TREE",
       "results": null,
       "showCommandTitle": false,
       "startTime": 0,
       "state": "input",
       "streamStates": {},
       "subcommandOptions": {
        "queryPlan": {
         "groups": [
          {
           "column": "Payment Method",
           "type": "column"
          }
         ],
         "selects": [
          {
           "column": "Payment Method",
           "type": "column"
          },
          {
           "alias": "column_5c097d5712",
           "args": [
            {
             "column": "TotalRevenue",
             "type": "column"
            }
           ],
           "function": "SUM",
           "type": "function"
          }
         ]
        }
       },
       "submitTime": 0,
       "subtype": "tableResultSubCmd.visualization",
       "tableResultIndex": 0,
       "useConsistentColors": false,
       "version": "CommandV1",
       "width": "auto",
       "workflows": [],
       "xColumns": null,
       "yColumns": null
      }
     },
     "output_type": "display_data"
    }
   ],
   "source": [
    "%sql\n",
    "\n",
    "SELECT `Payment Method`, SUM(CAST(REPLACE(`Total Revenue`, '$', '') AS DECIMAL(10, 2))) AS TotalRevenue\n",
    "FROM `StoreData`\n",
    "GROUP BY `Payment Method`;"
   ]
  },
  {
   "cell_type": "code",
   "execution_count": 0,
   "metadata": {
    "application/vnd.databricks.v1+cell": {
     "cellMetadata": {
      "byteLimit": 2048000,
      "implicitDf": true,
      "rowLimit": 10000
     },
     "inputWidgets": {},
     "nuid": "7a9fd305-c01c-4375-ac83-9cc30b844894",
     "showTitle": false,
     "title": ""
    }
   },
   "outputs": [
    {
     "output_type": "display_data",
     "data": {
      "text/html": [
       "<style scoped>\n",
       "  .table-result-container {\n",
       "    max-height: 300px;\n",
       "    overflow: auto;\n",
       "  }\n",
       "  table, th, td {\n",
       "    border: 1px solid black;\n",
       "    border-collapse: collapse;\n",
       "  }\n",
       "  th, td {\n",
       "    padding: 5px;\n",
       "  }\n",
       "  th {\n",
       "    text-align: left;\n",
       "  }\n",
       "</style><div class='table-result-container'><table class='table-result'><thead style='background-color: white'><tr><th>Date</th><th>TotalRevenue</th></tr></thead><tbody><tr><td>1/1/2024</td><td>2.00</td></tr><tr><td>1/2/2024</td><td>500.00</td></tr><tr><td>1/3/2024</td><td>210.00</td></tr><tr><td>1/4/2024</td><td>64.00</td></tr><tr><td>1/5/2024</td><td>90.00</td></tr><tr><td>1/6/2024</td><td>150.00</td></tr><tr><td>1/7/2024</td><td>2.50</td></tr><tr><td>1/8/2024</td><td>1.20</td></tr><tr><td>1/9/2024</td><td>540.00</td></tr><tr><td>1/10/2024</td><td>52.00</td></tr><tr><td>1/11/2024</td><td>130.00</td></tr><tr><td>1/12/2024</td><td>600.00</td></tr><tr><td>1/13/2024</td><td>1.50</td></tr><tr><td>1/14/2024</td><td>190.00</td></tr><tr><td>1/15/2024</td><td>500.00</td></tr><tr><td>1/16/2024</td><td>108.00</td></tr><tr><td>1/17/2024</td><td>400.00</td></tr><tr><td>1/18/2024</td><td>480.00</td></tr><tr><td>1/19/2024</td><td>1.00</td></tr><tr><td>1/20/2024</td><td>100.00</td></tr><tr><td>1/21/2024</td><td>180.00</td></tr><tr><td>1/22/2024</td><td>46.00</td></tr><tr><td>1/23/2024</td><td>50.00</td></tr><tr><td>1/24/2024</td><td>90.00</td></tr><tr><td>1/25/2024</td><td>300.00</td></tr><tr><td>1/26/2024</td><td>180.00</td></tr><tr><td>1/27/2024</td><td>360.00</td></tr><tr><td>1/28/2024</td><td>39.00</td></tr><tr><td>1/29/2024</td><td>30.00</td></tr><tr><td>1/30/2024</td><td>260.00</td></tr><tr><td>1/31/2024</td><td>700.00</td></tr><tr><td>2/1/2024</td><td>270.00</td></tr><tr><td>2/2/2024</td><td>150.00</td></tr><tr><td>2/3/2024</td><td>80.00</td></tr><tr><td>2/4/2024</td><td>80.00</td></tr><tr><td>2/5/2024</td><td>1.90</td></tr><tr><td>2/6/2024</td><td>1.20</td></tr><tr><td>2/7/2024</td><td>1.60</td></tr><tr><td>2/8/2024</td><td>240.00</td></tr><tr><td>2/9/2024</td><td>75.00</td></tr><tr><td>2/10/2024</td><td>105.00</td></tr><tr><td>2/11/2024</td><td>260.00</td></tr><tr><td>2/12/2024</td><td>1.20</td></tr><tr><td>2/13/2024</td><td>200.00</td></tr><tr><td>2/14/2024</td><td>280.00</td></tr><tr><td>2/15/2024</td><td>130.00</td></tr><tr><td>2/16/2024</td><td>52.00</td></tr><tr><td>2/17/2024</td><td>240.00</td></tr><tr><td>2/18/2024</td><td>260.00</td></tr><tr><td>2/19/2024</td><td>300.00</td></tr><tr><td>2/20/2024</td><td>465.00</td></tr><tr><td>2/21/2024</td><td>54.00</td></tr><tr><td>2/22/2024</td><td>49.00</td></tr><tr><td>2/23/2024</td><td>250.00</td></tr><tr><td>2/24/2024</td><td>240.00</td></tr><tr><td>2/25/2024</td><td>500.00</td></tr><tr><td>2/26/2024</td><td>150.00</td></tr><tr><td>2/27/2024</td><td>84.00</td></tr><tr><td>2/28/2024</td><td>46.00</td></tr><tr><td>2/29/2024</td><td>349.00</td></tr><tr><td>3/1/2024</td><td>900.00</td></tr><tr><td>3/2/2024</td><td>400.00</td></tr><tr><td>3/3/2024</td><td>100.00</td></tr><tr><td>3/4/2024</td><td>76.00</td></tr><tr><td>3/5/2024</td><td>102.00</td></tr><tr><td>3/6/2024</td><td>600.00</td></tr><tr><td>3/7/2024</td><td>1.20</td></tr><tr><td>3/8/2024</td><td>660.00</td></tr><tr><td>3/9/2024</td><td>240.00</td></tr><tr><td>3/10/2024</td><td>22.00</td></tr><tr><td>3/11/2024</td><td>78.00</td></tr><tr><td>3/12/2024</td><td>390.00</td></tr><tr><td>3/13/2024</td><td>1.60</td></tr><tr><td>3/14/2024</td><td>900.00</td></tr><tr><td>3/15/2024</td><td>250.00</td></tr><tr><td>3/16/2024</td><td>60.00</td></tr><tr><td>3/17/2024</td><td>32.00</td></tr><tr><td>3/18/2024</td><td>210.00</td></tr><tr><td>3/19/2024</td><td>500.00</td></tr><tr><td>3/20/2024</td><td>500.00</td></tr><tr><td>3/21/2024</td><td>180.00</td></tr><tr><td>3/22/2024</td><td>39.00</td></tr><tr><td>3/23/2024</td><td>100.00</td></tr><tr><td>3/24/2024</td><td>150.00</td></tr><tr><td>3/25/2024</td><td>100.00</td></tr><tr><td>3/26/2024</td><td>2.60</td></tr><tr><td>3/27/2024</td><td>240.00</td></tr><tr><td>3/28/2024</td><td>56.00</td></tr><tr><td>3/29/2024</td><td>105.00</td></tr><tr><td>3/30/2024</td><td>260.00</td></tr><tr><td>3/31/2024</td><td>200.00</td></tr><tr><td>4/1/2024</td><td>180.00</td></tr><tr><td>4/2/2024</td><td>320.00</td></tr><tr><td>4/3/2024</td><td>45.00</td></tr><tr><td>4/4/2024</td><td>68.00</td></tr><tr><td>4/5/2024</td><td>1.00</td></tr><tr><td>4/6/2024</td><td>900.00</td></tr><tr><td>4/7/2024</td><td>350.00</td></tr><tr><td>4/8/2024</td><td>120.00</td></tr><tr><td>4/9/2024</td><td>26.00</td></tr><tr><td>4/10/2024</td><td>82.00</td></tr><tr><td>4/11/2024</td><td>220.00</td></tr><tr><td>4/12/2024</td><td>3.90</td></tr><tr><td>4/13/2024</td><td>700.00</td></tr><tr><td>4/14/2024</td><td>120.00</td></tr><tr><td>4/15/2024</td><td>44.00</td></tr><tr><td>4/16/2024</td><td>7.00</td></tr><tr><td>4/17/2024</td><td>400.00</td></tr><tr><td>4/18/2024</td><td>460.00</td></tr><tr><td>4/19/2024</td><td>160.00</td></tr><tr><td>4/20/2024</td><td>60.00</td></tr><tr><td>4/21/2024</td><td>38.00</td></tr><tr><td>4/22/2024</td><td>15.00</td></tr><tr><td>4/23/2024</td><td>690.00</td></tr><tr><td>4/24/2024</td><td>250.00</td></tr><tr><td>4/25/2024</td><td>600.00</td></tr><tr><td>4/26/2024</td><td>150.00</td></tr><tr><td>4/27/2024</td><td>68.00</td></tr><tr><td>4/28/2024</td><td>30.00</td></tr><tr><td>4/29/2024</td><td>250.00</td></tr><tr><td>4/30/2024</td><td>1.20</td></tr><tr><td>5/1/2024</td><td>90.00</td></tr><tr><td>5/2/2024</td><td>65.00</td></tr><tr><td>5/3/2024</td><td>45.00</td></tr><tr><td>5/4/2024</td><td>30.00</td></tr><tr><td>5/5/2024</td><td>200.00</td></tr><tr><td>5/6/2024</td><td>500.00</td></tr><tr><td>5/7/2024</td><td>800.00</td></tr><tr><td>5/8/2024</td><td>294.00</td></tr><tr><td>5/9/2024</td><td>18.00</td></tr><tr><td>5/10/2024</td><td>36.00</td></tr><tr><td>5/11/2024</td><td>160.00</td></tr><tr><td>5/12/2024</td><td>1.30</td></tr><tr><td>5/13/2024</td><td>160.00</td></tr><tr><td>5/14/2024</td><td>140.00</td></tr><tr><td>5/15/2024</td><td>30.00</td></tr><tr><td>5/16/2024</td><td>7.00</td></tr><tr><td>5/17/2024</td><td>200.00</td></tr><tr><td>5/18/2024</td><td>1.50</td></tr><tr><td>5/19/2024</td><td>140.00</td></tr><tr><td>5/20/2024</td><td>135.00</td></tr><tr><td>5/21/2024</td><td>24.00</td></tr><tr><td>5/22/2024</td><td>30.00</td></tr><tr><td>5/23/2024</td><td>300.00</td></tr><tr><td>5/24/2024</td><td>549.00</td></tr><tr><td>5/25/2024</td><td>400.00</td></tr><tr><td>5/26/2024</td><td>196.00</td></tr><tr><td>5/27/2024</td><td>33.00</td></tr><tr><td>5/28/2024</td><td>25.00</td></tr><tr><td>5/29/2024</td><td>300.00</td></tr><tr><td>5/30/2024</td><td>350.00</td></tr><tr><td>5/31/2024</td><td>400.00</td></tr></tbody></table></div>"
      ]
     },
     "metadata": {
      "application/vnd.databricks.v1+output": {
       "addedWidgets": {},
       "aggData": [],
       "aggError": "",
       "aggOverflow": false,
       "aggSchema": [],
       "aggSeriesLimitReached": false,
       "aggType": "",
       "arguments": {},
       "columnCustomDisplayInfos": {},
       "data": [
        [
         "1/1/2024",
         "2.00"
        ],
        [
         "1/2/2024",
         "500.00"
        ],
        [
         "1/3/2024",
         "210.00"
        ],
        [
         "1/4/2024",
         "64.00"
        ],
        [
         "1/5/2024",
         "90.00"
        ],
        [
         "1/6/2024",
         "150.00"
        ],
        [
         "1/7/2024",
         "2.50"
        ],
        [
         "1/8/2024",
         "1.20"
        ],
        [
         "1/9/2024",
         "540.00"
        ],
        [
         "1/10/2024",
         "52.00"
        ],
        [
         "1/11/2024",
         "130.00"
        ],
        [
         "1/12/2024",
         "600.00"
        ],
        [
         "1/13/2024",
         "1.50"
        ],
        [
         "1/14/2024",
         "190.00"
        ],
        [
         "1/15/2024",
         "500.00"
        ],
        [
         "1/16/2024",
         "108.00"
        ],
        [
         "1/17/2024",
         "400.00"
        ],
        [
         "1/18/2024",
         "480.00"
        ],
        [
         "1/19/2024",
         "1.00"
        ],
        [
         "1/20/2024",
         "100.00"
        ],
        [
         "1/21/2024",
         "180.00"
        ],
        [
         "1/22/2024",
         "46.00"
        ],
        [
         "1/23/2024",
         "50.00"
        ],
        [
         "1/24/2024",
         "90.00"
        ],
        [
         "1/25/2024",
         "300.00"
        ],
        [
         "1/26/2024",
         "180.00"
        ],
        [
         "1/27/2024",
         "360.00"
        ],
        [
         "1/28/2024",
         "39.00"
        ],
        [
         "1/29/2024",
         "30.00"
        ],
        [
         "1/30/2024",
         "260.00"
        ],
        [
         "1/31/2024",
         "700.00"
        ],
        [
         "2/1/2024",
         "270.00"
        ],
        [
         "2/2/2024",
         "150.00"
        ],
        [
         "2/3/2024",
         "80.00"
        ],
        [
         "2/4/2024",
         "80.00"
        ],
        [
         "2/5/2024",
         "1.90"
        ],
        [
         "2/6/2024",
         "1.20"
        ],
        [
         "2/7/2024",
         "1.60"
        ],
        [
         "2/8/2024",
         "240.00"
        ],
        [
         "2/9/2024",
         "75.00"
        ],
        [
         "2/10/2024",
         "105.00"
        ],
        [
         "2/11/2024",
         "260.00"
        ],
        [
         "2/12/2024",
         "1.20"
        ],
        [
         "2/13/2024",
         "200.00"
        ],
        [
         "2/14/2024",
         "280.00"
        ],
        [
         "2/15/2024",
         "130.00"
        ],
        [
         "2/16/2024",
         "52.00"
        ],
        [
         "2/17/2024",
         "240.00"
        ],
        [
         "2/18/2024",
         "260.00"
        ],
        [
         "2/19/2024",
         "300.00"
        ],
        [
         "2/20/2024",
         "465.00"
        ],
        [
         "2/21/2024",
         "54.00"
        ],
        [
         "2/22/2024",
         "49.00"
        ],
        [
         "2/23/2024",
         "250.00"
        ],
        [
         "2/24/2024",
         "240.00"
        ],
        [
         "2/25/2024",
         "500.00"
        ],
        [
         "2/26/2024",
         "150.00"
        ],
        [
         "2/27/2024",
         "84.00"
        ],
        [
         "2/28/2024",
         "46.00"
        ],
        [
         "2/29/2024",
         "349.00"
        ],
        [
         "3/1/2024",
         "900.00"
        ],
        [
         "3/2/2024",
         "400.00"
        ],
        [
         "3/3/2024",
         "100.00"
        ],
        [
         "3/4/2024",
         "76.00"
        ],
        [
         "3/5/2024",
         "102.00"
        ],
        [
         "3/6/2024",
         "600.00"
        ],
        [
         "3/7/2024",
         "1.20"
        ],
        [
         "3/8/2024",
         "660.00"
        ],
        [
         "3/9/2024",
         "240.00"
        ],
        [
         "3/10/2024",
         "22.00"
        ],
        [
         "3/11/2024",
         "78.00"
        ],
        [
         "3/12/2024",
         "390.00"
        ],
        [
         "3/13/2024",
         "1.60"
        ],
        [
         "3/14/2024",
         "900.00"
        ],
        [
         "3/15/2024",
         "250.00"
        ],
        [
         "3/16/2024",
         "60.00"
        ],
        [
         "3/17/2024",
         "32.00"
        ],
        [
         "3/18/2024",
         "210.00"
        ],
        [
         "3/19/2024",
         "500.00"
        ],
        [
         "3/20/2024",
         "500.00"
        ],
        [
         "3/21/2024",
         "180.00"
        ],
        [
         "3/22/2024",
         "39.00"
        ],
        [
         "3/23/2024",
         "100.00"
        ],
        [
         "3/24/2024",
         "150.00"
        ],
        [
         "3/25/2024",
         "100.00"
        ],
        [
         "3/26/2024",
         "2.60"
        ],
        [
         "3/27/2024",
         "240.00"
        ],
        [
         "3/28/2024",
         "56.00"
        ],
        [
         "3/29/2024",
         "105.00"
        ],
        [
         "3/30/2024",
         "260.00"
        ],
        [
         "3/31/2024",
         "200.00"
        ],
        [
         "4/1/2024",
         "180.00"
        ],
        [
         "4/2/2024",
         "320.00"
        ],
        [
         "4/3/2024",
         "45.00"
        ],
        [
         "4/4/2024",
         "68.00"
        ],
        [
         "4/5/2024",
         "1.00"
        ],
        [
         "4/6/2024",
         "900.00"
        ],
        [
         "4/7/2024",
         "350.00"
        ],
        [
         "4/8/2024",
         "120.00"
        ],
        [
         "4/9/2024",
         "26.00"
        ],
        [
         "4/10/2024",
         "82.00"
        ],
        [
         "4/11/2024",
         "220.00"
        ],
        [
         "4/12/2024",
         "3.90"
        ],
        [
         "4/13/2024",
         "700.00"
        ],
        [
         "4/14/2024",
         "120.00"
        ],
        [
         "4/15/2024",
         "44.00"
        ],
        [
         "4/16/2024",
         "7.00"
        ],
        [
         "4/17/2024",
         "400.00"
        ],
        [
         "4/18/2024",
         "460.00"
        ],
        [
         "4/19/2024",
         "160.00"
        ],
        [
         "4/20/2024",
         "60.00"
        ],
        [
         "4/21/2024",
         "38.00"
        ],
        [
         "4/22/2024",
         "15.00"
        ],
        [
         "4/23/2024",
         "690.00"
        ],
        [
         "4/24/2024",
         "250.00"
        ],
        [
         "4/25/2024",
         "600.00"
        ],
        [
         "4/26/2024",
         "150.00"
        ],
        [
         "4/27/2024",
         "68.00"
        ],
        [
         "4/28/2024",
         "30.00"
        ],
        [
         "4/29/2024",
         "250.00"
        ],
        [
         "4/30/2024",
         "1.20"
        ],
        [
         "5/1/2024",
         "90.00"
        ],
        [
         "5/2/2024",
         "65.00"
        ],
        [
         "5/3/2024",
         "45.00"
        ],
        [
         "5/4/2024",
         "30.00"
        ],
        [
         "5/5/2024",
         "200.00"
        ],
        [
         "5/6/2024",
         "500.00"
        ],
        [
         "5/7/2024",
         "800.00"
        ],
        [
         "5/8/2024",
         "294.00"
        ],
        [
         "5/9/2024",
         "18.00"
        ],
        [
         "5/10/2024",
         "36.00"
        ],
        [
         "5/11/2024",
         "160.00"
        ],
        [
         "5/12/2024",
         "1.30"
        ],
        [
         "5/13/2024",
         "160.00"
        ],
        [
         "5/14/2024",
         "140.00"
        ],
        [
         "5/15/2024",
         "30.00"
        ],
        [
         "5/16/2024",
         "7.00"
        ],
        [
         "5/17/2024",
         "200.00"
        ],
        [
         "5/18/2024",
         "1.50"
        ],
        [
         "5/19/2024",
         "140.00"
        ],
        [
         "5/20/2024",
         "135.00"
        ],
        [
         "5/21/2024",
         "24.00"
        ],
        [
         "5/22/2024",
         "30.00"
        ],
        [
         "5/23/2024",
         "300.00"
        ],
        [
         "5/24/2024",
         "549.00"
        ],
        [
         "5/25/2024",
         "400.00"
        ],
        [
         "5/26/2024",
         "196.00"
        ],
        [
         "5/27/2024",
         "33.00"
        ],
        [
         "5/28/2024",
         "25.00"
        ],
        [
         "5/29/2024",
         "300.00"
        ],
        [
         "5/30/2024",
         "350.00"
        ],
        [
         "5/31/2024",
         "400.00"
        ]
       ],
       "datasetInfos": [],
       "dbfsResultPath": null,
       "isJsonSchema": true,
       "metadata": {},
       "overflow": false,
       "plotOptions": {
        "customPlotOptions": {},
        "displayType": "table",
        "pivotAggregation": null,
        "pivotColumns": null,
        "xColumns": null,
        "yColumns": null
       },
       "removedWidgets": [],
       "schema": [
        {
         "metadata": "{}",
         "name": "Date",
         "type": "\"string\""
        },
        {
         "metadata": "{}",
         "name": "TotalRevenue",
         "type": "\"decimal(20,2)\""
        }
       ],
       "type": "table"
      }
     },
     "output_type": "display_data"
    },
    {
     "output_type": "display_data",
     "data": {
      "text/plain": [
       "Databricks visualization. Run in Databricks to view."
      ]
     },
     "metadata": {
      "application/vnd.databricks.v1.subcommand+json": {
       "baseErrorDetails": null,
       "bindings": {},
       "collapsed": false,
       "command": "%sql WITH q AS (SELECT `Date`, SUM(CAST(REPLACE(`Total Revenue`, '$', '') AS DECIMAL(10, 2))) AS TotalRevenue\nFROM `StoreData`\nGROUP BY `Date`\nORDER BY to_date(`Date`, 'M/d/yyyy') ASC) SELECT `Date`,SUM(`TotalRevenue`) `column_5c097d5716` FROM q GROUP BY `Date`",
       "commandTitle": "Visualization 1",
       "commandType": "auto",
       "commandVersion": 0,
       "commentThread": [],
       "commentsVisible": false,
       "contentSha256Hex": null,
       "customPlotOptions": {
        "redashChart": [
         {
          "key": "type",
          "value": "CHART"
         },
         {
          "key": "options",
          "value": {
           "alignYAxesAtZero": true,
           "coefficient": 1,
           "columnConfigurationMap": {
            "x": {
             "column": "Date",
             "id": "column_5c097d5714"
            },
            "y": [
             {
              "column": "TotalRevenue",
              "id": "column_5c097d5716",
              "transform": "SUM"
             }
            ]
           },
           "dateTimeFormat": "DD/MM/YYYY HH:mm",
           "direction": {
            "type": "counterclockwise"
           },
           "error_y": {
            "type": "data",
            "visible": true
           },
           "globalSeriesType": "area",
           "isAggregationOn": true,
           "legend": {
            "traceorder": "normal"
           },
           "missingValuesAsZero": true,
           "numberFormat": "0,0.[00000]",
           "percentFormat": "0[.]00%",
           "series": {
            "error_y": {
             "type": "data",
             "visible": true
            },
            "stacking": null
           },
           "seriesOptions": {
            "column_5c097d5716": {
             "color": "#B554FF",
             "type": "area",
             "yAxis": 0
            }
           },
           "showDataLabels": false,
           "sizemode": "diameter",
           "sortX": true,
           "sortY": true,
           "swappedAxes": false,
           "textFormat": "",
           "useAggregationsUi": true,
           "valuesOptions": {},
           "version": 2,
           "xAxis": {
            "labels": {
             "enabled": true
            },
            "type": "-"
           },
           "yAxis": [
            {
             "type": "-"
            },
            {
             "opposite": true,
             "type": "-"
            }
           ]
          }
         }
        ]
       },
       "datasetPreviewNameToCmdIdMap": {},
       "diffDeletes": [],
       "diffInserts": [],
       "displayType": "redashChart",
       "error": null,
       "errorDetails": null,
       "errorSummary": null,
       "errorTraceType": null,
       "finishTime": 0,
       "globalVars": {},
       "guid": "",
       "height": "auto",
       "hideCommandCode": false,
       "hideCommandResult": false,
       "iPythonMetadata": null,
       "inputWidgets": {},
       "isLockedInExamMode": false,
       "latestUser": "a user",
       "latestUserId": null,
       "listResultMetadata": null,
       "metadata": {},
       "nuid": "5d344ccf-9455-4fc4-b13b-a3f2ab2a82c6",
       "origId": 0,
       "parentHierarchy": [],
       "pivotAggregation": null,
       "pivotColumns": null,
       "position": 14.7734375,
       "resultDbfsErrorMessage": null,
       "resultDbfsStatus": "INLINED_IN_TREE",
       "results": null,
       "showCommandTitle": false,
       "startTime": 0,
       "state": "input",
       "streamStates": {},
       "subcommandOptions": {
        "queryPlan": {
         "groups": [
          {
           "column": "Date",
           "type": "column"
          }
         ],
         "selects": [
          {
           "column": "Date",
           "type": "column"
          },
          {
           "alias": "column_5c097d5716",
           "args": [
            {
             "column": "TotalRevenue",
             "type": "column"
            }
           ],
           "function": "SUM",
           "type": "function"
          }
         ]
        }
       },
       "submitTime": 0,
       "subtype": "tableResultSubCmd.visualization",
       "tableResultIndex": 0,
       "useConsistentColors": false,
       "version": "CommandV1",
       "width": "auto",
       "workflows": [],
       "xColumns": null,
       "yColumns": null
      }
     },
     "output_type": "display_data"
    }
   ],
   "source": [
    "%sql\n",
    "\n",
    "SELECT `Date`, SUM(CAST(REPLACE(`Total Revenue`, '$', '') AS DECIMAL(10, 2))) AS TotalRevenue\n",
    "FROM `StoreData`\n",
    "GROUP BY `Date`\n",
    "ORDER BY to_date(`Date`, 'M/d/yyyy') ASC;"
   ]
  },
  {
   "cell_type": "code",
   "execution_count": 0,
   "metadata": {
    "application/vnd.databricks.v1+cell": {
     "cellMetadata": {
      "byteLimit": 2048000,
      "rowLimit": 10000
     },
     "inputWidgets": {},
     "nuid": "db9631f6-bb4a-42ca-8a3c-0d48af932331",
     "showTitle": false,
     "title": ""
    }
   },
   "outputs": [],
   "source": [
    "# With this registered as a temp view, it will only be available to this particular notebook. If you'd like other users to be able to query this table, you can also create a table from the DataFrame.\n",
    "# Once saved, this table will persist across cluster restarts as well as allow various users across different notebooks to query this data.\n",
    "# To do so, choose your table name and uncomment the bottom line.\n",
    "\n",
    "permanent_table_name = \"Online_Store_Sales_Data_xlsm___Online_Store_Sales_csv\"\n",
    "\n",
    "# df.write.format(\"parquet\").saveAsTable(permanent_table_name)"
   ]
  }
 ],
 "metadata": {
  "application/vnd.databricks.v1+notebook": {
   "dashboards": [
    {
     "elements": [
      {
       "dashboardResultIndex": null,
       "elementNUID": "ffb6055f-3780-4b20-a228-3d81545ad30d",
       "elementType": "command",
       "guid": "04ce3dcc-c294-4721-a448-168ed31a156b",
       "options": {
        "autoScaleImg": false,
        "scale": 0,
        "showTitle": true,
        "title": "Average value per category",
        "titleAlign": "center"
       },
       "position": {
        "height": 4,
        "width": 10,
        "x": 0,
        "y": 5,
        "z": null
       },
       "resultIndex": null
      },
      {
       "dashboardResultIndex": null,
       "elementNUID": "50dfd5a7-1178-4478-8ac0-e9d9a3001328",
       "elementType": "command",
       "guid": "30e57026-a927-4a3e-bf62-b9be1d362fdc",
       "options": {
        "autoScaleImg": false,
        "scale": 0,
        "showTitle": true,
        "title": "Relationship of Products x Amount raised",
        "titleAlign": "center"
       },
       "position": {
        "height": 5,
        "width": 10,
        "x": 0,
        "y": 0,
        "z": null
       },
       "resultIndex": null
      },
      {
       "dashboardResultIndex": 0,
       "elementNUID": "ad4f8eb9-87e2-4ca1-b5a5-2db5c49c6aa5",
       "elementType": "command",
       "guid": "87d27f9b-888f-4148-ac52-28c365a16f80",
       "options": {
        "autoScaleImg": false,
        "scale": 0,
        "showTitle": true,
        "title": "Main Products Sold",
        "titleAlign": "center"
       },
       "position": {
        "height": 3,
        "width": 14,
        "x": 10,
        "y": 4,
        "z": null
       },
       "resultIndex": null
      },
      {
       "dashboardResultIndex": null,
       "elementNUID": "5d344ccf-9455-4fc4-b13b-a3f2ab2a82c6",
       "elementType": "command",
       "guid": "92ddbd72-c9e6-4eb3-a222-d7b130f46bf7",
       "options": {
        "autoScaleImg": false,
        "scale": 0,
        "showTitle": true,
        "title": "Sales per day",
        "titleAlign": "center"
       },
       "position": {
        "height": 7,
        "width": 14,
        "x": 10,
        "y": 7,
        "z": null
       },
       "resultIndex": null
      },
      {
       "dashboardResultIndex": null,
       "elementNUID": "fdc04cd1-7598-4574-b3f3-5847abe22fdc",
       "elementType": "command",
       "guid": "acd85b1a-38e8-4a10-b797-f5ef336884f3",
       "options": {
        "autoScaleImg": false,
        "scale": 0,
        "showTitle": true,
        "title": "Regions sold",
        "titleAlign": "center"
       },
       "position": {
        "height": 4,
        "width": 7,
        "x": 10,
        "y": 0,
        "z": null
       },
       "resultIndex": null
      },
      {
       "dashboardResultIndex": null,
       "elementNUID": "07e55bc2-c81a-4436-90d8-80c4d9c9e049",
       "elementType": "command",
       "guid": "e1c36b4d-0e86-408e-a537-697c6b983473",
       "options": {
        "autoScaleImg": false,
        "scale": 0,
        "showTitle": true,
        "title": "Main payment methods",
        "titleAlign": "center"
       },
       "position": {
        "height": 4,
        "width": 7,
        "x": 17,
        "y": 0,
        "z": null
       },
       "resultIndex": null
      },
      {
       "dashboardResultIndex": null,
       "elementNUID": "bac7c1bc-1159-46a6-84f6-df1a901b0dcd",
       "elementType": "command",
       "guid": "fdca78a8-39cb-4ec5-90a6-1f0b9e5189d6",
       "options": {
        "autoScaleImg": false,
        "scale": 0,
        "showTitle": true,
        "title": "Units Sold x Products Category",
        "titleAlign": "center"
       },
       "position": {
        "height": 5,
        "width": 10,
        "x": 0,
        "y": 9,
        "z": null
       },
       "resultIndex": null
      }
     ],
     "globalVars": {},
     "guid": "",
     "layoutOption": {
      "grid": true,
      "stack": true
     },
     "nuid": "1d30f76c-e5f3-4925-8880-28fd5dfa3eaf",
     "origId": 2832665633105008,
     "title": "StoreData",
     "version": "DashboardViewV1",
     "width": 1600
    }
   ],
   "environmentMetadata": null,
   "language": "python",
   "notebookMetadata": {
    "mostRecentlyExecutedCommandWithImplicitDF": {
     "commandId": 553406226782651,
     "dataframes": [
      "_sqldf"
     ]
    },
    "pythonIndentUnit": 4
   },
   "notebookName": "Store data analysis",
   "widgets": {}
  }
 },
 "nbformat": 4,
 "nbformat_minor": 0
}
